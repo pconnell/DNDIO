{
 "cells": [
  {
   "cell_type": "code",
   "execution_count": 10,
   "metadata": {},
   "outputs": [],
   "source": [
    "from cassandra.cluster import Cluster, PlainTextAuthProvider\n",
    "from cassandra.cluster import (\n",
    "    NoHostAvailable,\n",
    "    OperationTimedOut\n",
    ")\n",
    "import os, sys\n",
    "import pandas as pd, numpy as np\n",
    "import uuid\n",
    "CASS_HOST = os.getenv('CASS_HOST') or 'localhost'\n",
    "CASS_USER = os.getenv('CASS_USER') or 'cassandra'\n",
    "CASS_PASS = os.getenv('CASS_PASS') or 'changeme'"
   ]
  },
  {
   "cell_type": "code",
   "execution_count": 72,
   "metadata": {},
   "outputs": [],
   "source": [
    "class cassDB():\n",
    "    def __init__(self,user,pwd,host,db):\n",
    "        self.auth_provider = PlainTextAuthProvider(\n",
    "            username=user,\n",
    "            password = pwd\n",
    "        )\n",
    "        self.host = host\n",
    "        self.db = db\n",
    "        self.cluster= None \n",
    "        self.session = None\n",
    "        # self.connect()\n",
    "    def connect(self):\n",
    "        self.cluster = Cluster(\n",
    "            [self.host],\n",
    "            auth_provider=self.auth_provider\n",
    "        )\n",
    "        self.session = self.cluster.connect()\n",
    "        self.session.set_keyspace(self.db)\n",
    "        self.session.execute('USE {};'.format(self.db))\n",
    "\n",
    "    def rows_to_json(self,rows):\n",
    "        result = []\n",
    "        for row in rows:\n",
    "            d = row._asdict()\n",
    "            for k,v in d.items():\n",
    "                if isinstance(v,uuid.UUID):\n",
    "                    d[k] = str(v)\n",
    "            result.append(d)\n",
    "        return result\n",
    "\n",
    "    def parse_spells(self,rows):\n",
    "        #convert data back to JSON/py dictionary\n",
    "        for i in range(len(rows)):\n",
    "            row = rows[i]\n",
    "            dmg_dict = {}\n",
    "            dmg = row['dmg']\n",
    "            for level,dmgmap in dmg.items():\n",
    "                dmg_dict[level] = {}\n",
    "                for dmgtype,die_list in dmgmap.items():\n",
    "                    dmg_dict[level][dmgtype] = []\n",
    "                    for die in die_list:\n",
    "                        dmg_dict[level][dmgtype].append(dict(die))\n",
    "            upcast = dict(row['upcast'])\n",
    "            curr_dict = rows[i].copy()\n",
    "            curr_dict['upcast'] = upcast\n",
    "            curr_dict['dmg']=dmg_dict\n",
    "            rows[i] = curr_dict.copy()\n",
    "        return rows\n",
    "\n",
    "    def parse_spellslots(self,rows):\n",
    "        for i in range(len(rows)):\n",
    "            row = rows[i]\n",
    "            d = {}\n",
    "            for k,v in row['spellslots'].items():\n",
    "                d[k]=v\n",
    "            row['spellslots'] = d\n",
    "            rows[i] = row\n",
    "        return rows\n",
    "\n",
    "    def parse_weapons(self,rows):\n",
    "        #convert data back to JSON/py dictionary\n",
    "        for i in range(len(rows)):\n",
    "            row = rows[i]\n",
    "            dmg_dict = {}\n",
    "            dmg = row['dmg']\n",
    "            for hands,dmgmap in dmg.items():\n",
    "                dmg_dict[hands]={}\n",
    "                for dmgtype,dice in dmgmap.items():\n",
    "                    dmg_dict[hands][dmgtype] = dict(dice)\n",
    "            curr_dict = row.copy()\n",
    "            curr_dict['dmg'] = dmg_dict\n",
    "            rows[i] = curr_dict.copy()\n",
    "        return rows\n",
    "\n",
    "    def _rows_to_json(self,rows):\n",
    "        result = []\n",
    "        for i in range(len(rows)):\n",
    "            row = rows[i]\n",
    "            d = row._asdict()\n",
    "            for k,v in d.items():\n",
    "                if isinstance(v,uuid.UUID):\n",
    "                    d[k] = str(v)\n",
    "            result.append(d)\n",
    "        return result\n",
    "\n",
    "    def exec_query(self,s):\n",
    "        result = {\n",
    "            'query':s,\n",
    "            'success':False\n",
    "        }\n",
    "        try: \n",
    "            response = self.session.execute(s)\n",
    "        except NoHostAvailable:\n",
    "            self.connect()\n",
    "        except OperationTimedOut:\n",
    "            self.connect()\n",
    "        finally:\n",
    "            response = self.session.execute(s)\n",
    "            result['success'] = True\n",
    "        l = response.all()\n",
    "        result['success']= True\n",
    "        if len(l) > 0:\n",
    "            result['rows'] = self.rows_to_json(l)\n",
    "        if \"FROM spells\" in s:\n",
    "            result['rows'] = self.parse_spells(result['rows'])\n",
    "        if \"FROM weapons\" in s:\n",
    "            result['rows'] = self.parse_weapons(result['rows'])\n",
    "        if \"FROM char_table\" in s:\n",
    "            result['rows'] = self.parse_spellslots(result['rows'])\n",
    "        return result"
   ]
  },
  {
   "cell_type": "code",
   "execution_count": 73,
   "metadata": {},
   "outputs": [],
   "source": [
    "db = cassDB(CASS_USER,CASS_PASS,CASS_HOST,'dndio')\n",
    "db.connect()"
   ]
  },
  {
   "cell_type": "code",
   "execution_count": 21,
   "metadata": {},
   "outputs": [
    {
     "data": {
      "text/plain": [
       "{'query': \"SELECT * FROM char_table WHERE user_id='chorky#8402' and campaign_id='abcdef';\",\n",
       " 'success': True,\n",
       " 'rows': [{'campaign_id': 'abcdef',\n",
       "   'user_id': 'chorky#8402',\n",
       "   'ac': 15,\n",
       "   'align': 'Chaotic Neutral',\n",
       "   'armor': None,\n",
       "   'background': None,\n",
       "   'char_class': 'Warlock',\n",
       "   'char_name': 'Bahlok',\n",
       "   'chr': 15,\n",
       "   'con': 15,\n",
       "   'curr_hp': 40,\n",
       "   'dex': 15,\n",
       "   'hit_dice': None,\n",
       "   'int': 15,\n",
       "   'level': 7,\n",
       "   'max_hp': 53,\n",
       "   'prof_bonus': None,\n",
       "   'skills': ['intimidation', 'sleight of hand', 'persuasion', 'performance'],\n",
       "   'spells': None,\n",
       "   'str': 15,\n",
       "   'weapons': None,\n",
       "   'wis': 15}]}"
      ]
     },
     "execution_count": 21,
     "metadata": {},
     "output_type": "execute_result"
    }
   ],
   "source": [
    "skill = \"arcana\"\n",
    "\n",
    "q = \"SELECT * FROM char_table WHERE user_id='chorky#8402' and campaign_id='abcdef';\"\n",
    "\n",
    "res = db.exec_query(q)\n",
    "res"
   ]
  },
  {
   "cell_type": "code",
   "execution_count": 24,
   "metadata": {},
   "outputs": [
    {
     "data": {
      "text/plain": [
       "['intimidation', 'sleight of hand', 'persuasion', 'performance']"
      ]
     },
     "execution_count": 24,
     "metadata": {},
     "output_type": "execute_result"
    }
   ],
   "source": [
    "chr_data = res['rows'][0]\n",
    "skills = chr_data['skills']\n",
    "skills"
   ]
  },
  {
   "cell_type": "code",
   "execution_count": 26,
   "metadata": {},
   "outputs": [
    {
     "data": {
      "text/plain": [
       "{'query': \"SELECT prof_bonus FROM classes WHERE class_id='Warlock-7'\",\n",
       " 'success': True,\n",
       " 'rows': [{'prof_bonus': 3}]}"
      ]
     },
     "execution_count": 26,
     "metadata": {},
     "output_type": "execute_result"
    }
   ],
   "source": [
    "q = \"SELECT prof_bonus FROM classes WHERE class_id='{}'\".format(chr_data['char_class']+'-'+str(chr_data['level']))\n",
    "\n",
    "chr_class = db.exec_query(q)\n",
    "\n",
    "chr_class"
   ]
  },
  {
   "cell_type": "code",
   "execution_count": 30,
   "metadata": {},
   "outputs": [],
   "source": [
    "q = \"SELECT * from skills where skill='{}'\".format('sleight of hand')\n",
    "\n",
    "skill_data = db.exec_query(q) #['rows'][0]"
   ]
  },
  {
   "cell_type": "code",
   "execution_count": 58,
   "metadata": {},
   "outputs": [
    {
     "data": {
      "text/plain": [
       "'dex'"
      ]
     },
     "execution_count": 58,
     "metadata": {},
     "output_type": "execute_result"
    }
   ],
   "source": [
    "skill_data['rows'][0]['modifier'].lower()"
   ]
  },
  {
   "cell_type": "code",
   "execution_count": 59,
   "metadata": {},
   "outputs": [
    {
     "data": {
      "text/plain": [
       "15"
      ]
     },
     "execution_count": 59,
     "metadata": {},
     "output_type": "execute_result"
    }
   ],
   "source": [
    "chr_data[skill_data['rows'][0]['modifier'].lower()]"
   ]
  },
  {
   "cell_type": "code",
   "execution_count": 60,
   "metadata": {},
   "outputs": [],
   "source": [
    "chr_mod = (chr_data[skill_data['rows'][0]['modifier'].lower()] - 10)//2"
   ]
  },
  {
   "cell_type": "code",
   "execution_count": 61,
   "metadata": {},
   "outputs": [
    {
     "data": {
      "text/plain": [
       "2"
      ]
     },
     "execution_count": 61,
     "metadata": {},
     "output_type": "execute_result"
    }
   ],
   "source": [
    "chr_mod"
   ]
  },
  {
   "cell_type": "code",
   "execution_count": 65,
   "metadata": {},
   "outputs": [],
   "source": [
    "import random\n",
    "\n",
    "roll = [random.randint(1,20)]"
   ]
  },
  {
   "cell_type": "code",
   "execution_count": 67,
   "metadata": {},
   "outputs": [
    {
     "data": {
      "text/plain": [
       "[12]"
      ]
     },
     "execution_count": 67,
     "metadata": {},
     "output_type": "execute_result"
    }
   ],
   "source": [
    "roll"
   ]
  },
  {
   "cell_type": "code",
   "execution_count": 68,
   "metadata": {},
   "outputs": [
    {
     "data": {
      "text/plain": [
       "[14]"
      ]
     },
     "execution_count": 68,
     "metadata": {},
     "output_type": "execute_result"
    }
   ],
   "source": [
    "[r+chr_mod for r in roll]"
   ]
  },
  {
   "cell_type": "code",
   "execution_count": 91,
   "metadata": {},
   "outputs": [
    {
     "data": {
      "text/plain": [
       "{'query': \"SELECT level, spells, spell_dc, spellslots FROM char_table WHERE user_id='chorky#8402' and campaign_id='abcdef'\",\n",
       " 'success': True,\n",
       " 'rows': [{'level': 7,\n",
       "   'spells': ['Eldritch Blast'],\n",
       "   'spell_dc': 16,\n",
       "   'spellslots': {4: 2}}]}"
      ]
     },
     "execution_count": 91,
     "metadata": {},
     "output_type": "execute_result"
    }
   ],
   "source": [
    "## roll spell damage...\n",
    "char_query = \"\"\"SELECT level, spells, spell_dc, spellslots FROM char_table WHERE user_id='chorky#8402' and campaign_id='abcdef'\"\"\"\n",
    "res = db.exec_query(char_query)\n",
    "res"
   ]
  },
  {
   "cell_type": "code",
   "execution_count": 92,
   "metadata": {},
   "outputs": [],
   "source": [
    "spell = db.exec_query(\"\"\"SELECT * FROM spells WHERE name='Eldritch Blast' allow filtering;\"\"\")"
   ]
  },
  {
   "cell_type": "code",
   "execution_count": 93,
   "metadata": {},
   "outputs": [
    {
     "data": {
      "text/plain": [
       "{'name': 'Eldritch Blast',\n",
       " 'addspellmod': False,\n",
       " 'char_classes': ['Warlock'],\n",
       " 'components': ' V, S ',\n",
       " 'conc': False,\n",
       " 'description': None,\n",
       " 'dmg': {1: {'Force': [{1: 10}]}},\n",
       " 'duration': 'Instantaneous',\n",
       " 'hardmod': 0,\n",
       " 'level': 0,\n",
       " 'mult': 1,\n",
       " 'range': ' 120 feet ',\n",
       " 'save': 'nan',\n",
       " 'save_data': 'nan',\n",
       " 'save_success': \"Source: Player's Handbook\\n Evocation cantrip\\n Casting Time:\\n 1 action\\n Range:\\n 120 feet\\n Components:\\n V, S\\n Duration:\\n Instantaneous\\n A beam of crackling energy streaks toward a creature within range. Make a ranged spell attack against the target. On a hit, the target takes 1d10 force damage.\\n At Higher Levels.\\n The spell creates more than one beam when you reach higher levels: two beams at 5th level, three beams at 11th level, and four beams at 17th level. You can direct the beams at the same target or at different ones. Make a separate attack roll for each beam.\\n Spell Lists.\\n Warlock\",\n",
       " 'time': ' 1 action ',\n",
       " 'upcast': {}}"
      ]
     },
     "execution_count": 93,
     "metadata": {},
     "output_type": "execute_result"
    }
   ],
   "source": [
    "spell = spell['rows'][0]\n",
    "spell"
   ]
  },
  {
   "cell_type": "code",
   "execution_count": 94,
   "metadata": {},
   "outputs": [
    {
     "data": {
      "text/plain": [
       "True"
      ]
     },
     "execution_count": 94,
     "metadata": {},
     "output_type": "execute_result"
    }
   ],
   "source": [
    "spell['name'] in res['rows'][0]['spells']"
   ]
  },
  {
   "cell_type": "code",
   "execution_count": 95,
   "metadata": {},
   "outputs": [
    {
     "data": {
      "text/plain": [
       "{4: 2}"
      ]
     },
     "execution_count": 95,
     "metadata": {},
     "output_type": "execute_result"
    }
   ],
   "source": [
    "res['rows'][0]['spellslots']"
   ]
  },
  {
   "cell_type": "code",
   "execution_count": 107,
   "metadata": {},
   "outputs": [
    {
     "data": {
      "text/plain": [
       "{1: {'Force': [{1: 10}]}}"
      ]
     },
     "execution_count": 107,
     "metadata": {},
     "output_type": "execute_result"
    }
   ],
   "source": [
    "mult = spell['mult']\n",
    "hard_mod = spell['hardmod']\n",
    "upcast = dict(spell['upcast'])\n",
    "dmg = spell['dmg']\n",
    "char_level = res['rows'][0]['level']\n",
    "slot_lvl = 4\n",
    "dmg"
   ]
  },
  {
   "cell_type": "code",
   "execution_count": 100,
   "metadata": {},
   "outputs": [],
   "source": [
    "if len(upcast.keys()) > 0:\n",
    "    upcast_lvl = list(upcast.keys())[0]\n",
    "else:\n",
    "    upcast_lvl=21\n",
    "if upcast_lvl <= slot_lvl:\n",
    "    upcast_dice = slot_lvl - upcast_lvl + 1\n",
    "else:\n",
    "    upcast_dice = 0\n",
    "lvls = [x for x in dmg.keys() if x <= char_level]\n",
    "lvls.sort()\n",
    "target_dmg = dmg.get(lvls[-1])\n"
   ]
  },
  {
   "cell_type": "code",
   "execution_count": 103,
   "metadata": {},
   "outputs": [
    {
     "data": {
      "text/plain": [
       "{'Force': [3]}"
      ]
     },
     "metadata": {},
     "output_type": "display_data"
    },
    {
     "data": {
      "text/plain": [
       "{'Force': [3]}"
      ]
     },
     "metadata": {},
     "output_type": "display_data"
    }
   ],
   "source": [
    "results = {}\n",
    "mod_results = {}\n",
    "for k,v in target_dmg.items():\n",
    "    results[k] = []\n",
    "    mod_results[k] = []\n",
    "    for l,w in v[0].items(): # this may need to change...\n",
    "        for i in range(upcast_dice+(l*mult)):\n",
    "            roll = random.randint(1,w)\n",
    "            results[k].append(roll)\n",
    "            mod_results[k].append(roll+hard_mod)\n",
    "\n",
    "display(results, mod_results)"
   ]
  },
  {
   "cell_type": "code",
   "execution_count": 250,
   "metadata": {},
   "outputs": [],
   "source": [
    "char_query = \"\"\"SELECT * FROM char_table WHERE user_id='chorky#8402' and campaign_id='abcdef';\"\"\"\n",
    "char_data = db.exec_query(char_query)['rows'][0]"
   ]
  },
  {
   "cell_type": "code",
   "execution_count": 251,
   "metadata": {},
   "outputs": [
    {
     "data": {
      "text/plain": [
       "{'campaign_id': 'abcdef',\n",
       " 'user_id': 'chorky#8402',\n",
       " 'ac': 15,\n",
       " 'align': 'Chaotic Neutral',\n",
       " 'armor': None,\n",
       " 'background': None,\n",
       " 'char_class': 'Warlock',\n",
       " 'char_name': 'Bahlok',\n",
       " 'chr': 15,\n",
       " 'con': 15,\n",
       " 'curr_hp': 40,\n",
       " 'dex': 18,\n",
       " 'equipped': None,\n",
       " 'hit_dice': None,\n",
       " 'int': 15,\n",
       " 'level': 7,\n",
       " 'max_hp': 53,\n",
       " 'prof_bonus': None,\n",
       " 'saving_throws': None,\n",
       " 'skills': ['intimidation', 'sleight of hand', 'persuasion', 'performance'],\n",
       " 'spell_dc': 16,\n",
       " 'spells': ['Eldritch Blast'],\n",
       " 'spellslots': {4: 2},\n",
       " 'str': 15,\n",
       " 'weapons': ['dagger', 'hand crossbow'],\n",
       " 'wis': 15}"
      ]
     },
     "execution_count": 251,
     "metadata": {},
     "output_type": "execute_result"
    }
   ],
   "source": [
    "char_data"
   ]
  },
  {
   "cell_type": "code",
   "execution_count": 252,
   "metadata": {},
   "outputs": [],
   "source": [
    "wep_query = \"\"\"SELECT * FROM weapons WHERE name='dagger';\"\"\"\n",
    "wep_data = db.exec_query(wep_query)['rows'][0]"
   ]
  },
  {
   "cell_type": "code",
   "execution_count": 253,
   "metadata": {},
   "outputs": [
    {
     "data": {
      "text/plain": [
       "{'name': 'dagger',\n",
       " 'cost': 2,\n",
       " 'cost_unit': 'gp',\n",
       " 'dmg': {'1hnd': {'piercing': {1: 4}}},\n",
       " 'long_range': 60,\n",
       " 'mod': ['STR', 'DEX'],\n",
       " 'normal_range': 20,\n",
       " 'props': ['Finesse', 'light', 'thrown (20/60)'],\n",
       " 'subtype': 'simple',\n",
       " 'type': 'Melee',\n",
       " 'weight': 1.0}"
      ]
     },
     "execution_count": 253,
     "metadata": {},
     "output_type": "execute_result"
    }
   ],
   "source": [
    "wep_data"
   ]
  },
  {
   "cell_type": "code",
   "execution_count": 254,
   "metadata": {},
   "outputs": [
    {
     "data": {
      "text/plain": [
       "{'weapon_class': ['simple'], 'weapons': []}"
      ]
     },
     "execution_count": 254,
     "metadata": {},
     "output_type": "execute_result"
    }
   ],
   "source": [
    "prof_query = \"\"\"SELECT proficiencies['weapon_class'] AS weapon_class,\n",
    "proficiencies['weapons'] AS weapons FROM class_start WHERE char_class='{}';\"\"\".format(char_data['char_class'])\n",
    "prof_data = db.exec_query(prof_query)['rows'][0]\n",
    "\n",
    "prof_data['weapons'] = [] #need to fix this in source data...\n",
    "prof_data"
   ]
  },
  {
   "cell_type": "code",
   "execution_count": 255,
   "metadata": {},
   "outputs": [
    {
     "data": {
      "text/plain": [
       "'Warlock'"
      ]
     },
     "execution_count": 255,
     "metadata": {},
     "output_type": "execute_result"
    }
   ],
   "source": [
    "char_data['char_class']"
   ]
  },
  {
   "cell_type": "code",
   "execution_count": 256,
   "metadata": {},
   "outputs": [
    {
     "name": "stdout",
     "output_type": "stream",
     "text": [
      "Warlock-7\n"
     ]
    },
    {
     "data": {
      "text/plain": [
       "{'class_id': 'Warlock-7',\n",
       " 'field_1_': 'Warlock',\n",
       " 'class_specific': OrderedMapSerializedKey([('cantrips_known', 3), ('invocations_known', 4), ('spells_known', 8)]),\n",
       " 'features': None,\n",
       " 'level': 7,\n",
       " 'prof_bonus': 3,\n",
       " 'spellslots': OrderedMapSerializedKey([(4, 2)])}"
      ]
     },
     "execution_count": 256,
     "metadata": {},
     "output_type": "execute_result"
    }
   ],
   "source": [
    "class_id = char_data['char_class']+'-'+str(char_data['level'])\n",
    "print(class_id)\n",
    "class_query = \"\"\"SELECT * from classes WHERE class_id = '{}';\"\"\".format(class_id)\n",
    "class_data = db.exec_query(class_query)['rows'][0]\n",
    "class_data\n",
    "##need to fix the spellslots and the class_specifics for class information returns in the database interface..."
   ]
  },
  {
   "cell_type": "code",
   "execution_count": 257,
   "metadata": {},
   "outputs": [],
   "source": [
    "prof_bonus = class_data['prof_bonus']"
   ]
  },
  {
   "cell_type": "code",
   "execution_count": 258,
   "metadata": {},
   "outputs": [],
   "source": [
    "rolls = [random.randint(1,20) for i in range(2)]"
   ]
  },
  {
   "cell_type": "code",
   "execution_count": 259,
   "metadata": {},
   "outputs": [
    {
     "data": {
      "text/plain": [
       "[14, 12]"
      ]
     },
     "execution_count": 259,
     "metadata": {},
     "output_type": "execute_result"
    }
   ],
   "source": [
    "rolls"
   ]
  },
  {
   "cell_type": "code",
   "execution_count": 260,
   "metadata": {},
   "outputs": [
    {
     "data": {
      "text/plain": [
       "[14, 12]"
      ]
     },
     "execution_count": 260,
     "metadata": {},
     "output_type": "execute_result"
    }
   ],
   "source": [
    "mod_rolls = rolls.copy()\n",
    "mod_rolls"
   ]
  },
  {
   "cell_type": "code",
   "execution_count": 261,
   "metadata": {},
   "outputs": [
    {
     "data": {
      "text/plain": [
       "{'weapon_class': ['simple'], 'weapons': []}"
      ]
     },
     "execution_count": 261,
     "metadata": {},
     "output_type": "execute_result"
    }
   ],
   "source": [
    "prof_data"
   ]
  },
  {
   "cell_type": "code",
   "execution_count": 262,
   "metadata": {},
   "outputs": [
    {
     "data": {
      "text/plain": [
       "[17, 15]"
      ]
     },
     "execution_count": 262,
     "metadata": {},
     "output_type": "execute_result"
    }
   ],
   "source": [
    "if wep_data['name'] in prof_data['weapons'] or wep_data['subtype'] in prof_data['weapon_class']:\n",
    "    mod_rolls = [m+prof_bonus for m in mod_rolls]\n",
    "mod_rolls"
   ]
  },
  {
   "cell_type": "code",
   "execution_count": 263,
   "metadata": {},
   "outputs": [
    {
     "data": {
      "text/plain": [
       "18"
      ]
     },
     "execution_count": 263,
     "metadata": {},
     "output_type": "execute_result"
    }
   ],
   "source": [
    "char_data['dex']"
   ]
  },
  {
   "cell_type": "code",
   "execution_count": 264,
   "metadata": {},
   "outputs": [
    {
     "data": {
      "text/plain": [
       "('DEX', 4)"
      ]
     },
     "execution_count": 264,
     "metadata": {},
     "output_type": "execute_result"
    }
   ],
   "source": [
    "add_mods = []\n",
    "for m in wep_data['mod']:\n",
    "    add_mods.append((m,(char_data[m.lower()]-10)//2))\n",
    "add_mod = max(add_mods,key=lambda x: x[1])\n",
    "add_mod"
   ]
  },
  {
   "cell_type": "code",
   "execution_count": 265,
   "metadata": {},
   "outputs": [
    {
     "data": {
      "text/plain": [
       "[('STR', 2), ('DEX', 4)]"
      ]
     },
     "execution_count": 265,
     "metadata": {},
     "output_type": "execute_result"
    }
   ],
   "source": [
    "add_mods"
   ]
  },
  {
   "cell_type": "code",
   "execution_count": 266,
   "metadata": {},
   "outputs": [
    {
     "data": {
      "text/plain": [
       "[21, 19]"
      ]
     },
     "execution_count": 266,
     "metadata": {},
     "output_type": "execute_result"
    }
   ],
   "source": [
    "mod_rolls = [m+add_mod[1] for m in mod_rolls]\n",
    "mod_rolls"
   ]
  },
  {
   "cell_type": "code",
   "execution_count": 267,
   "metadata": {},
   "outputs": [],
   "source": [
    "total = max(mod_rolls)"
   ]
  },
  {
   "cell_type": "code",
   "execution_count": 268,
   "metadata": {},
   "outputs": [
    {
     "data": {
      "text/plain": [
       "21"
      ]
     },
     "execution_count": 268,
     "metadata": {},
     "output_type": "execute_result"
    }
   ],
   "source": [
    "total"
   ]
  },
  {
   "cell_type": "code",
   "execution_count": 269,
   "metadata": {},
   "outputs": [
    {
     "data": {
      "text/plain": [
       "{'rolls': [14, 12],\n",
       " 'mod_rolls': [21, 19],\n",
       " 'modifiers': [('DEX', 4), ('prof_bonus', 3)],\n",
       " 'total': 21}"
      ]
     },
     "execution_count": 269,
     "metadata": {},
     "output_type": "execute_result"
    }
   ],
   "source": [
    "{\n",
    "    'rolls':rolls,\n",
    "    'mod_rolls':mod_rolls,\n",
    "    'modifiers':[add_mod,('prof_bonus',prof_bonus)],\n",
    "    'total':total\n",
    "}"
   ]
  },
  {
   "cell_type": "code",
   "execution_count": null,
   "metadata": {},
   "outputs": [],
   "source": []
  }
 ],
 "metadata": {
  "kernelspec": {
   "display_name": "base",
   "language": "python",
   "name": "python3"
  },
  "language_info": {
   "codemirror_mode": {
    "name": "ipython",
    "version": 3
   },
   "file_extension": ".py",
   "mimetype": "text/x-python",
   "name": "python",
   "nbconvert_exporter": "python",
   "pygments_lexer": "ipython3",
   "version": "3.8.18"
  }
 },
 "nbformat": 4,
 "nbformat_minor": 2
}
