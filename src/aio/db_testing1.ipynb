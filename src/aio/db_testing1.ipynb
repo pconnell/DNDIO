{
 "cells": [
  {
   "cell_type": "code",
   "execution_count": 4,
   "metadata": {},
   "outputs": [],
   "source": [
    "from cassandra.cluster import Cluster, PlainTextAuthProvider\n",
    "from cassandra.cluster import (\n",
    "    NoHostAvailable,\n",
    "    OperationTimedOut\n",
    ")\n",
    "import os,logging,sys,uuid\n"
   ]
  },
  {
   "cell_type": "markdown",
   "metadata": {},
   "source": [
    "ToDo: \n",
    "\n",
    "* Rebuild Database with updated data versions\n",
    "\n",
    "* Update code bases\n",
    "\n",
    "    * protobufs\n",
    "\n",
    "    * worker(s)\n",
    "\n",
    "* Solve for the TLS issue\n",
    "\n",
    "* "
   ]
  },
  {
   "cell_type": "code",
   "execution_count": 5,
   "metadata": {},
   "outputs": [],
   "source": [
    "\"\"\" \n",
    "SELECT * FROM characters WHERE campaign_id = 'DNDIO' and user_id = 'Chorky#8402;\n",
    "\"\"\"\n",
    "CASS_USER = os.getenv('CASS_USER') or 'cassandra'\n",
    "CASS_PASS = os.getenv('CASS_PASS') or 'changeme'\n",
    "CASS_DB = os.getenv('CASS_DB') or 'dndio'\n",
    "handler = logging.StreamHandler(sys.stdout)\n",
    "handler.setLevel(logging.INFO)\n",
    "logging.basicConfig(\n",
    "    level=logging.INFO,\n",
    "    format='%(asctime)s - %(name)s - %(levelname)s - %(message)s',\n",
    "    handlers=[handler]\n",
    ")\n",
    "logger = logging.getLogger(__name__)"
   ]
  },
  {
   "cell_type": "code",
   "execution_count": null,
   "metadata": {},
   "outputs": [],
   "source": [
    "class cassDB():\n",
    "    def __init__(self,user,pwd,host,db):\n",
    "        self.auth_provider = PlainTextAuthProvider(\n",
    "            username=user,\n",
    "            password = pwd\n",
    "        )\n",
    "        self.host = host\n",
    "        self.db = db\n",
    "        self.cluster= None \n",
    "        self.session = None\n",
    "        # self.connect()\n",
    "    def connect(self):\n",
    "        logger.info( \" [x] Initializating DB Connection to Cassandra @ {}\".format(self.host))\n",
    "        self.cluster = Cluster(\n",
    "            [self.host],\n",
    "            auth_provider=self.auth_provider\n",
    "        )\n",
    "        logger.info(\"  [x] Establishing cluster session\")\n",
    "        self.session = self.cluster.connect()\n",
    "        logger.info(\"  [x] Connecting to database: {}\".format(self.db))\n",
    "        self.session.set_keyspace(self.db)\n",
    "        self.session.execute('USE {};'.format(self.db))\n",
    "        logger.info( \" [x] Connected to Cassandra Database!\")\n",
    "\n",
    "    def rows_to_json(self,rows):\n",
    "        result = []\n",
    "        for row in rows:\n",
    "            d = row._asdict()\n",
    "            for k,v in d.items():\n",
    "                if isinstance(v,uuid.UUID):\n",
    "                    d[k] = str(v)\n",
    "            result.append(d)\n",
    "        return result\n",
    "\n",
    "    def exec_query(self,s):\n",
    "        result = {\n",
    "            'query':s,\n",
    "            'success':False\n",
    "        }\n",
    "        try: \n",
    "            response = self.session.execute(s)\n",
    "        except NoHostAvailable:\n",
    "            self.connect()\n",
    "        except OperationTimedOut:\n",
    "            self.connect()\n",
    "        finally:\n",
    "            response = self.session.execute(s)\n",
    "            result['success']=True\n",
    "        logger.info(\"  [x] DB on_request: query succeeded: {}\".format(s))\n",
    "        # l = [r for r in response.all()]\n",
    "        # return response.all()\n",
    "        result['rows'] = self.rows_to_json(response.all())\n",
    "        return result"
   ]
  },
  {
   "cell_type": "code",
   "execution_count": 91,
   "metadata": {},
   "outputs": [],
   "source": [
    "db = cassDB(CASS_USER,CASS_PASS,'localhost',CASS_DB)"
   ]
  },
  {
   "cell_type": "code",
   "execution_count": 92,
   "metadata": {},
   "outputs": [
    {
     "name": "stdout",
     "output_type": "stream",
     "text": [
      "2024-11-22 08:09:09,708 - __main__ - INFO -  [x] Initializating DB Connection to Cassandra @ localhost\n",
      "2024-11-22 08:09:09,710 - cassandra.cluster - WARNING - Cluster.__init__ called with contact_points specified, but no load_balancing_policy. In the next major version, this will raise an error; please specify a load-balancing policy. (contact_points = ['localhost'], lbp = None)\n",
      "2024-11-22 08:09:09,713 - __main__ - INFO -   [x] Establishing cluster session\n",
      "2024-11-22 08:09:10,466 - cassandra.cluster - WARNING - Downgrading core protocol version from 66 to 65 for 127.0.0.1:9042. To avoid this, it is best practice to explicitly set Cluster(protocol_version) to the version supported by your cluster. http://datastax.github.io/python-driver/api/cassandra/cluster.html#cassandra.cluster.Cluster.protocol_version\n",
      "2024-11-22 08:09:11,989 - cassandra.cluster - WARNING - Downgrading core protocol version from 65 to 5 for 127.0.0.1:9042. To avoid this, it is best practice to explicitly set Cluster(protocol_version) to the version supported by your cluster. http://datastax.github.io/python-driver/api/cassandra/cluster.html#cassandra.cluster.Cluster.protocol_version\n",
      "2024-11-22 08:09:13,716 - cassandra.policies - INFO - Using datacenter 'datacenter1' for DCAwareRoundRobinPolicy (via host '127.0.0.1:9042'); if incorrect, please specify a local_dc to the constructor, or limit contact points to local cluster nodes\n",
      "2024-11-22 08:09:13,716 - cassandra.cluster - INFO - New Cassandra host <Host: 10.1.2.159:9042 datacenter1> discovered\n",
      "2024-11-22 08:09:13,717 - cassandra.cluster - INFO - New Cassandra host <Host: 10.1.2.166:9042 datacenter1> discovered\n",
      "2024-11-22 08:09:13,718 - cassandra.cluster - INFO - Cassandra host ::1:9042 removed\n",
      "2024-11-22 08:09:14,846 - __main__ - INFO -   [x] Connecting to database: dndio\n",
      "2024-11-22 08:09:14,877 - __main__ - INFO -  [x] Connected to Cassandra Database!\n"
     ]
    }
   ],
   "source": [
    "db.connect()"
   ]
  },
  {
   "cell_type": "code",
   "execution_count": null,
   "metadata": {},
   "outputs": [
    {
     "name": "stdout",
     "output_type": "stream",
     "text": [
      "2024-11-22 08:09:15,931 - cassandra.query - WARNING - Failed creating named tuple for results with column names ['campaign_id', 'user_id', 'ac', 'align', 'background', 'char_name', 'chr', 'class', 'con', 'curr_hp', 'dex', 'hit_dice', 'int', 'level', 'max_hp', 'prof_bonus', 'str', 'wis'] (cleaned: ['campaign_id', 'user_id', 'ac', 'align', 'background', 'char_name', 'chr', 'class', 'con', 'curr_hp', 'dex', 'hit_dice', 'int', 'level', 'max_hp', 'prof_bonus', 'str', 'wis']) (see Python 'namedtuple' documentation for details on name rules). Results will be returned with positional names. Avoid this by choosing different names, using SELECT \"<col name>\" AS aliases, or specifying a different row_factory on your Session\n",
      "2024-11-22 08:09:15,946 - cassandra.query - WARNING - Failed creating named tuple for results with column names ['campaign_id', 'user_id', 'ac', 'align', 'background', 'char_name', 'chr', 'class', 'con', 'curr_hp', 'dex', 'hit_dice', 'int', 'level', 'max_hp', 'prof_bonus', 'str', 'wis'] (cleaned: ['campaign_id', 'user_id', 'ac', 'align', 'background', 'char_name', 'chr', 'class', 'con', 'curr_hp', 'dex', 'hit_dice', 'int', 'level', 'max_hp', 'prof_bonus', 'str', 'wis']) (see Python 'namedtuple' documentation for details on name rules). Results will be returned with positional names. Avoid this by choosing different names, using SELECT \"<col name>\" AS aliases, or specifying a different row_factory on your Session\n",
      "2024-11-22 08:09:15,947 - __main__ - INFO -   [x] DB on_request: query succeeded: SELECT * FROM characters WHERE campaign_id = 'abcdef' and user_id='chorky#8402'\n"
     ]
    },
    {
     "data": {
      "text/plain": [
       "{'query': \"SELECT * FROM characters WHERE campaign_id = 'abcdef' and user_id='chorky#8402'\",\n",
       " 'success': False,\n",
       " 'rows': [{'campaign_id': 'abcdef',\n",
       "   'user_id': 'chorky#8402',\n",
       "   'ac': 18,\n",
       "   'align': None,\n",
       "   'background': None,\n",
       "   'char_name': 'Bahlok',\n",
       "   'chr': 20,\n",
       "   'field_7_': None,\n",
       "   'con': None,\n",
       "   'curr_hp': None,\n",
       "   'dex': None,\n",
       "   'hit_dice': None,\n",
       "   'int': None,\n",
       "   'level': None,\n",
       "   'max_hp': None,\n",
       "   'prof_bonus': None,\n",
       "   'str': None,\n",
       "   'wis': None}]}"
      ]
     },
     "execution_count": 93,
     "metadata": {},
     "output_type": "execute_result"
    },
    {
     "name": "stdout",
     "output_type": "stream",
     "text": [
      "2024-11-22 08:09:18,761 - cassandra.cluster - WARNING - Failed to create connection pool for new host 10.1.2.159:9042:\n",
      "Traceback (most recent call last):\n",
      "  File \"c:\\Users\\pconn\\miniconda3\\lib\\site-packages\\cassandra\\cluster.py\", line 3234, in run_add_or_renew_pool\n",
      "    new_pool = HostConnection(host, distance, self)\n",
      "  File \"c:\\Users\\pconn\\miniconda3\\lib\\site-packages\\cassandra\\pool.py\", line 406, in __init__\n",
      "    self._connection = session.cluster.connection_factory(host.endpoint, on_orphaned_stream_released=self.on_orphaned_stream_released)\n",
      "  File \"c:\\Users\\pconn\\miniconda3\\lib\\site-packages\\cassandra\\cluster.py\", line 1670, in connection_factory\n",
      "    return self.connection_class.factory(endpoint, self.connect_timeout, *args, **kwargs)\n",
      "  File \"c:\\Users\\pconn\\miniconda3\\lib\\site-packages\\cassandra\\connection.py\", line 846, in factory\n",
      "    conn = cls(endpoint, *args, **kwargs)\n",
      "  File \"c:\\Users\\pconn\\miniconda3\\lib\\site-packages\\cassandra\\io\\asyncorereactor.py\", line 353, in __init__\n",
      "    self._connect_socket()\n",
      "  File \"c:\\Users\\pconn\\miniconda3\\lib\\site-packages\\cassandra\\connection.py\", line 951, in _connect_socket\n",
      "    raise socket.error(sockerr.errno, \"Tried connecting to %s. Last error: %s\" %\n",
      "OSError: [Errno None] Tried connecting to [('10.1.2.159', 9042)]. Last error: timed out\n",
      "2024-11-22 08:09:18,764 - cassandra.cluster - WARNING - Host 10.1.2.159:9042 has been marked down\n",
      "2024-11-22 08:09:19,856 - cassandra.cluster - WARNING - Failed to create connection pool for new host 10.1.2.166:9042:\n",
      "Traceback (most recent call last):\n",
      "  File \"c:\\Users\\pconn\\miniconda3\\lib\\site-packages\\cassandra\\cluster.py\", line 3234, in run_add_or_renew_pool\n",
      "    new_pool = HostConnection(host, distance, self)\n",
      "  File \"c:\\Users\\pconn\\miniconda3\\lib\\site-packages\\cassandra\\pool.py\", line 406, in __init__\n",
      "    self._connection = session.cluster.connection_factory(host.endpoint, on_orphaned_stream_released=self.on_orphaned_stream_released)\n",
      "  File \"c:\\Users\\pconn\\miniconda3\\lib\\site-packages\\cassandra\\cluster.py\", line 1670, in connection_factory\n",
      "    return self.connection_class.factory(endpoint, self.connect_timeout, *args, **kwargs)\n",
      "  File \"c:\\Users\\pconn\\miniconda3\\lib\\site-packages\\cassandra\\connection.py\", line 846, in factory\n",
      "    conn = cls(endpoint, *args, **kwargs)\n",
      "  File \"c:\\Users\\pconn\\miniconda3\\lib\\site-packages\\cassandra\\io\\asyncorereactor.py\", line 353, in __init__\n",
      "    self._connect_socket()\n",
      "  File \"c:\\Users\\pconn\\miniconda3\\lib\\site-packages\\cassandra\\connection.py\", line 951, in _connect_socket\n",
      "    raise socket.error(sockerr.errno, \"Tried connecting to %s. Last error: %s\" %\n",
      "OSError: [Errno None] Tried connecting to [('10.1.2.166', 9042)]. Last error: timed out\n",
      "2024-11-22 08:09:19,858 - cassandra.cluster - WARNING - Host 10.1.2.166:9042 has been marked down\n",
      "2024-11-22 08:09:24,861 - cassandra.pool - WARNING - Error attempting to reconnect to 10.1.2.159:9042, scheduling retry in 2.1 seconds: [Errno None] Tried connecting to [('10.1.2.159', 9042)]. Last error: timed out\n",
      "2024-11-22 08:09:26,062 - cassandra.pool - WARNING - Error attempting to reconnect to 10.1.2.166:9042, scheduling retry in 1.9 seconds: [Errno None] Tried connecting to [('10.1.2.166', 9042)]. Last error: timed out\n",
      "2024-11-22 08:09:30,438 - cassandra.pool - WARNING - Error attempting to reconnect to 10.1.2.166:9042, scheduling retry in 600.0 seconds: [Errno None] Tried connecting to [('10.1.2.166', 9042)]. Last error: timed out\n",
      "2024-11-22 08:09:32,057 - cassandra.pool - WARNING - Error attempting to reconnect to 10.1.2.159:9042, scheduling retry in 3.88 seconds: [Errno None] Tried connecting to [('10.1.2.159', 9042)]. Last error: timed out\n",
      "2024-11-22 08:09:33,038 - cassandra.pool - WARNING - Error attempting to reconnect to 10.1.2.166:9042, scheduling retry in 3.44 seconds: [Errno None] Tried connecting to [('10.1.2.166', 9042)]. Last error: timed out\n",
      "2024-11-22 08:09:40,989 - cassandra.pool - WARNING - Error attempting to reconnect to 10.1.2.159:9042, scheduling retry in 8.08 seconds: [Errno None] Tried connecting to [('10.1.2.159', 9042)]. Last error: timed out\n",
      "2024-11-22 08:09:41,538 - cassandra.pool - WARNING - Error attempting to reconnect to 10.1.2.166:9042, scheduling retry in 8.24 seconds: [Errno None] Tried connecting to [('10.1.2.166', 9042)]. Last error: timed out\n"
     ]
    }
   ],
   "source": [
    "res =db.exec_query(\n",
    "    \"SELECT * FROM characters WHERE campaign_id = 'abcdef' and user_id='chorky#8402'\"\n",
    ")\n",
    "res"
   ]
  },
  {
   "cell_type": "code",
   "execution_count": 71,
   "metadata": {},
   "outputs": [
    {
     "name": "stdout",
     "output_type": "stream",
     "text": [
      "{'campaign_id': 'abcdef', 'user_id': 'chorky#8402', 'ac': 18, 'align': None, 'background': None, 'char_name': 'Bahlok', 'chr': 20, 'field_7_': None, 'con': None, 'curr_hp': None, 'dex': None, 'hit_dice': None, 'int': None, 'level': None, 'max_hp': None, 'prof_bonus': None, 'str': None, 'wis': None}\n"
     ]
    },
    {
     "name": "stdout",
     "output_type": "stream",
     "text": [
      "2024-11-22 08:04:08,137 - cassandra.pool - WARNING - Error attempting to reconnect to 10.1.2.166:9042, scheduling retry in 276.48 seconds: [Errno None] Tried connecting to [('10.1.2.166', 9042)]. Last error: timed out\n"
     ]
    }
   ],
   "source": [
    "for row in res:\n",
    "    d = row._asdict()\n",
    "    for k,v in d.items():\n",
    "        if isinstance(v,uuid.UUID):\n",
    "            d[k] = str(v)\n",
    "    print(d)"
   ]
  },
  {
   "cell_type": "code",
   "execution_count": 75,
   "metadata": {},
   "outputs": [
    {
     "data": {
      "text/plain": [
       "1"
      ]
     },
     "execution_count": 75,
     "metadata": {},
     "output_type": "execute_result"
    },
    {
     "name": "stdout",
     "output_type": "stream",
     "text": [
      "2024-11-22 08:05:06,233 - cassandra.pool - WARNING - Error attempting to reconnect to 10.1.2.159:9042, scheduling retry in 108.8 seconds: [Errno None] Tried connecting to [('10.1.2.159', 9042)]. Last error: timed out\n",
      "2024-11-22 08:05:07,356 - cassandra.pool - WARNING - Error attempting to reconnect to 10.1.2.166:9042, scheduling retry in 445.44 seconds: [Errno None] Tried connecting to [('10.1.2.166', 9042)]. Last error: timed out\n",
      "2024-11-22 08:05:15,507 - cassandra.pool - WARNING - Error attempting to reconnect to 10.1.2.166:9042, scheduling retry in 144.64 seconds: [Errno None] Tried connecting to [('10.1.2.166', 9042)]. Last error: timed out\n"
     ]
    }
   ],
   "source": [
    "len(res)"
   ]
  },
  {
   "cell_type": "code",
   "execution_count": 94,
   "metadata": {},
   "outputs": [
    {
     "data": {
      "text/plain": [
       "{'query': \"SELECT * FROM characters WHERE campaign_id = 'abcdef' and user_id='chorky#8402'\",\n",
       " 'success': False,\n",
       " 'rows': [{'campaign_id': 'abcdef',\n",
       "   'user_id': 'chorky#8402',\n",
       "   'ac': 18,\n",
       "   'align': None,\n",
       "   'background': None,\n",
       "   'char_name': 'Bahlok',\n",
       "   'chr': 20,\n",
       "   'field_7_': None,\n",
       "   'con': None,\n",
       "   'curr_hp': None,\n",
       "   'dex': None,\n",
       "   'hit_dice': None,\n",
       "   'int': None,\n",
       "   'level': None,\n",
       "   'max_hp': None,\n",
       "   'prof_bonus': None,\n",
       "   'str': None,\n",
       "   'wis': None}]}"
      ]
     },
     "execution_count": 94,
     "metadata": {},
     "output_type": "execute_result"
    }
   ],
   "source": [
    "res"
   ]
  },
  {
   "cell_type": "code",
   "execution_count": 97,
   "metadata": {},
   "outputs": [],
   "source": [
    "char = res['rows'][0]"
   ]
  },
  {
   "cell_type": "code",
   "execution_count": 98,
   "metadata": {},
   "outputs": [
    {
     "data": {
      "text/plain": [
       "{'campaign_id': 'abcdef',\n",
       " 'user_id': 'chorky#8402',\n",
       " 'ac': 18,\n",
       " 'align': None,\n",
       " 'background': None,\n",
       " 'char_name': 'Bahlok',\n",
       " 'chr': 20,\n",
       " 'field_7_': None,\n",
       " 'con': None,\n",
       " 'curr_hp': None,\n",
       " 'dex': None,\n",
       " 'hit_dice': None,\n",
       " 'int': None,\n",
       " 'level': None,\n",
       " 'max_hp': None,\n",
       " 'prof_bonus': None,\n",
       " 'str': None,\n",
       " 'wis': None}"
      ]
     },
     "execution_count": 98,
     "metadata": {},
     "output_type": "execute_result"
    }
   ],
   "source": [
    "char"
   ]
  },
  {
   "cell_type": "code",
   "execution_count": 107,
   "metadata": {},
   "outputs": [
    {
     "name": "stdout",
     "output_type": "stream",
     "text": [
      "2024-11-22 08:13:13,511 - __main__ - INFO -   [x] DB on_request: query succeeded: UPDATE characters SET str=18,wis=9,con=12,dex=15,int=11,level=6 WHERE campaign_id='abcdef' and user_id='chorky#8402';\n"
     ]
    },
    {
     "data": {
      "text/plain": [
       "{'query': \"UPDATE characters SET str=18,wis=9,con=12,dex=15,int=11,level=6 WHERE campaign_id='abcdef' and user_id='chorky#8402';\",\n",
       " 'success': False,\n",
       " 'rows': []}"
      ]
     },
     "execution_count": 107,
     "metadata": {},
     "output_type": "execute_result"
    }
   ],
   "source": [
    "db.exec_query(\"UPDATE characters SET str=18,wis=9,con=12,dex=15,int=11,level=6 WHERE campaign_id='abcdef' and user_id='chorky#8402';\")"
   ]
  },
  {
   "cell_type": "code",
   "execution_count": 103,
   "metadata": {},
   "outputs": [
    {
     "name": "stdout",
     "output_type": "stream",
     "text": [
      "2024-11-22 08:12:23,979 - __main__ - INFO -   [x] DB on_request: query succeeded: UPDATE characters SET hit_dice={5:8} WHERE campaign_id='abcdef' and user_id='chorky#8402';\n"
     ]
    },
    {
     "data": {
      "text/plain": [
       "{'query': \"UPDATE characters SET hit_dice={5:8} WHERE campaign_id='abcdef' and user_id='chorky#8402';\",\n",
       " 'success': False,\n",
       " 'rows': []}"
      ]
     },
     "execution_count": 103,
     "metadata": {},
     "output_type": "execute_result"
    }
   ],
   "source": [
    "db.exec_query(\"UPDATE characters SET hit_dice={5:8} WHERE campaign_id='abcdef' and user_id='chorky#8402';\")"
   ]
  },
  {
   "cell_type": "code",
   "execution_count": 108,
   "metadata": {},
   "outputs": [
    {
     "name": "stdout",
     "output_type": "stream",
     "text": [
      "2024-11-22 08:14:45,117 - __main__ - INFO -   [x] DB on_request: query succeeded: UPDATE characters SET curr_hp = 42 WHERE campaign_id='abcdef' AND user_id='chorky#8402';\n"
     ]
    },
    {
     "data": {
      "text/plain": [
       "{'query': \"UPDATE characters SET curr_hp = 42 WHERE campaign_id='abcdef' AND user_id='chorky#8402';\",\n",
       " 'success': False,\n",
       " 'rows': []}"
      ]
     },
     "execution_count": 108,
     "metadata": {},
     "output_type": "execute_result"
    }
   ],
   "source": [
    "db.exec_query(\n",
    "    \"UPDATE characters SET curr_hp = 42 WHERE campaign_id='abcdef' AND user_id='chorky#8402';\"\n",
    ")"
   ]
  },
  {
   "cell_type": "code",
   "execution_count": 111,
   "metadata": {},
   "outputs": [
    {
     "name": "stdout",
     "output_type": "stream",
     "text": [
      "2024-11-22 08:17:26,992 - __main__ - INFO -   [x] DB on_request: query succeeded: select spells from char_map WHERE campaign_id='abcdef' AND char_id='chorky#8402';\n"
     ]
    }
   ],
   "source": [
    "spells = db.exec_query(\n",
    "    \"select spells from char_map WHERE campaign_id='abcdef' AND char_id='chorky#8402';\"\n",
    ")"
   ]
  },
  {
   "cell_type": "code",
   "execution_count": 127,
   "metadata": {},
   "outputs": [
    {
     "data": {
      "text/plain": [
       "'769a39bf-75ac-4eed-85a7-429d34c2e705'"
      ]
     },
     "execution_count": 127,
     "metadata": {},
     "output_type": "execute_result"
    },
    {
     "name": "stdout",
     "output_type": "stream",
     "text": [
      "2024-11-22 08:20:00,431 - cassandra.pool - WARNING - Error attempting to reconnect to 10.1.2.166:9042, scheduling retry in 600.0 seconds: [Errno None] Tried connecting to [('10.1.2.166', 9042)]. Last error: timed out\n"
     ]
    }
   ],
   "source": [
    "spells['rows'][0]['spells'][0].__str__()"
   ]
  },
  {
   "cell_type": "code",
   "execution_count": 119,
   "metadata": {},
   "outputs": [
    {
     "name": "stdout",
     "output_type": "stream",
     "text": [
      "2024-11-22 08:19:02,005 - __main__ - INFO -   [x] DB on_request: query succeeded: select * from spells WHERE name='Eldritch Blast' allow filtering;\n"
     ]
    }
   ],
   "source": [
    "spell = db.exec_query(\n",
    "    \"select * from spells WHERE name='Eldritch Blast' allow filtering;\"\n",
    ")['rows']"
   ]
  },
  {
   "cell_type": "code",
   "execution_count": 120,
   "metadata": {},
   "outputs": [
    {
     "data": {
      "text/plain": [
       "[{'id': 'ea42031d-4ab2-4d4a-bbb8-f6c0c80642bf',\n",
       "  'addspellmod': True,\n",
       "  'classes': ['Warlock'],\n",
       "  'components': 'V, S',\n",
       "  'conc': False,\n",
       "  'dmg': OrderedMapSerializedKey([(1, OrderedMapSerializedKey([('Force', [OrderedMapSerializedKey([(1, 10)])])]))]),\n",
       "  'duration': 'Instantaneous',\n",
       "  'hard_mod': 0,\n",
       "  'lvl': 0,\n",
       "  'mult': 1,\n",
       "  'name': 'Eldritch Blast',\n",
       "  'range': '120 feet',\n",
       "  'save': 'nan',\n",
       "  'time': '1 action',\n",
       "  'upcast': OrderedMapSerializedKey([])}]"
      ]
     },
     "execution_count": 120,
     "metadata": {},
     "output_type": "execute_result"
    },
    {
     "name": "stdout",
     "output_type": "stream",
     "text": [
      "2024-11-22 08:19:09,475 - cassandra.pool - WARNING - Error attempting to reconnect to 10.1.2.159:9042, scheduling retry in 600.0 seconds: [Errno None] Tried connecting to [('10.1.2.159', 9042)]. Last error: timed out\n"
     ]
    }
   ],
   "source": [
    "spell"
   ]
  },
  {
   "cell_type": "markdown",
   "metadata": {},
   "source": [
    "so for spell damage...\n",
    "have to iterate through the dmg field to convert back to a dictionary instead of a cassandra type\n",
    "d = {}\n",
    "for row in result:\n",
    "    dmg_dict = {}\n",
    "    dmg = row['dmg']\n",
    "    for level, dmgmap in dmg.items():\n",
    "        dmg_dict[level] = {}\n",
    "        for dmgtype,die_list in dmgmap.items():\n",
    "            dmg_dict[level][dmgtype] = []\n",
    "            for die in die_list:\n",
    "                dmg_dict[level][dmg_type].append(die.keys()[0],die.values()[0])\n",
    "\n"
   ]
  },
  {
   "cell_type": "code",
   "execution_count": 128,
   "metadata": {},
   "outputs": [
    {
     "name": "stdout",
     "output_type": "stream",
     "text": [
      "2024-11-22 08:20:42,634 - __main__ - INFO -   [x] DB on_request: query succeeded:  SELECT * FROM spells WHERE id=769a39bf-75ac-4eed-85a7-429d34c2e705\n"
     ]
    },
    {
     "data": {
      "text/plain": [
       "{'query': ' SELECT * FROM spells WHERE id=769a39bf-75ac-4eed-85a7-429d34c2e705',\n",
       " 'success': False,\n",
       " 'rows': []}"
      ]
     },
     "execution_count": 128,
     "metadata": {},
     "output_type": "execute_result"
    }
   ],
   "source": [
    "db.exec_query(\n",
    "    \"\"\" SELECT * FROM spells WHERE id={}\"\"\".format(spells['rows'][0]['spells'][0])\n",
    ")"
   ]
  },
  {
   "cell_type": "code",
   "execution_count": 130,
   "metadata": {},
   "outputs": [
    {
     "name": "stdout",
     "output_type": "stream",
     "text": [
      "2024-11-22 08:21:30,073 - __main__ - INFO -   [x] DB on_request: query succeeded:  SELECT * FROM spells WHERE id=ea42031d-4ab2-4d4a-bbb8-f6c0c80642bf\n"
     ]
    }
   ],
   "source": [
    "r=db.exec_query(\n",
    "    \"\"\" SELECT * FROM spells WHERE id={}\"\"\".format(uuid.UUID('ea42031d-4ab2-4d4a-bbb8-f6c0c80642bf'))\n",
    ")"
   ]
  },
  {
   "cell_type": "code",
   "execution_count": 134,
   "metadata": {},
   "outputs": [],
   "source": [
    "dmg = r['rows'][0]['dmg']"
   ]
  },
  {
   "cell_type": "code",
   "execution_count": 135,
   "metadata": {},
   "outputs": [
    {
     "data": {
      "text/plain": [
       "OrderedMapSerializedKey([(1, OrderedMapSerializedKey([('Force', [OrderedMapSerializedKey([(1, 10)])])]))])"
      ]
     },
     "execution_count": 135,
     "metadata": {},
     "output_type": "execute_result"
    }
   ],
   "source": [
    "dmg"
   ]
  },
  {
   "cell_type": "code",
   "execution_count": 137,
   "metadata": {},
   "outputs": [
    {
     "data": {
      "text/plain": [
       "KeysView(OrderedMapSerializedKey([(1, OrderedMapSerializedKey([('Force', [OrderedMapSerializedKey([(1, 10)])])]))]))"
      ]
     },
     "execution_count": 137,
     "metadata": {},
     "output_type": "execute_result"
    }
   ],
   "source": [
    "dmg.keys()"
   ]
  },
  {
   "cell_type": "code",
   "execution_count": 138,
   "metadata": {},
   "outputs": [
    {
     "name": "stdout",
     "output_type": "stream",
     "text": [
      "1\n"
     ]
    }
   ],
   "source": [
    "for k in dmg.keys():\n",
    "    print(k)"
   ]
  },
  {
   "cell_type": "code",
   "execution_count": 145,
   "metadata": {},
   "outputs": [],
   "source": [
    "tlvl = 18\n",
    "\n"
   ]
  },
  {
   "cell_type": "code",
   "execution_count": 140,
   "metadata": {},
   "outputs": [],
   "source": [
    "tlvl"
   ]
  },
  {
   "cell_type": "code",
   "execution_count": 142,
   "metadata": {},
   "outputs": [],
   "source": [
    "char['level']"
   ]
  },
  {
   "cell_type": "code",
   "execution_count": 150,
   "metadata": {},
   "outputs": [
    {
     "name": "stdout",
     "output_type": "stream",
     "text": [
      "2024-11-22 08:27:24,451 - cassandra.pool - WARNING - Error attempting to reconnect to 10.1.2.159:9042, scheduling retry in 600.0 seconds: [Errno None] Tried connecting to [('10.1.2.159', 9042)]. Last error: timed out\n"
     ]
    }
   ],
   "source": [
    "lvls = [x for x in dmg.keys() if x < tlvl]\n",
    "lvls.sort()\n",
    "target_dmg = dmg.get(lvls[-1])"
   ]
  },
  {
   "cell_type": "code",
   "execution_count": null,
   "metadata": {},
   "outputs": [
    {
     "name": "stdout",
     "output_type": "stream",
     "text": [
      "Force [OrderedMapSerializedKey([(1, 10)])]\n"
     ]
    },
    {
     "name": "stdout",
     "output_type": "stream",
     "text": [
      "2024-11-22 08:27:50,831 - cassandra.pool - WARNING - Error attempting to reconnect to 10.1.2.166:9042, scheduling retry in 600.0 seconds: [Errno None] Tried connecting to [('10.1.2.166', 9042)]. Last error: timed out\n",
      "2024-11-22 08:27:57,343 - cassandra.pool - WARNING - Error attempting to reconnect to 10.1.2.166:9042, scheduling retry in 528.0 seconds: [Errno None] Tried connecting to [('10.1.2.166', 9042)]. Last error: timed out\n",
      "2024-11-22 08:29:04,476 - cassandra.pool - WARNING - Error attempting to reconnect to 10.1.2.166:9042, scheduling retry in 600.0 seconds: [Errno None] Tried connecting to [('10.1.2.166', 9042)]. Last error: timed out\n",
      "2024-11-22 08:29:14,552 - cassandra.pool - WARNING - Error attempting to reconnect to 10.1.2.159:9042, scheduling retry in 552.0 seconds: [Errno None] Tried connecting to [('10.1.2.159', 9042)]. Last error: timed out\n",
      "2024-11-22 08:30:05,498 - cassandra.pool - WARNING - Error attempting to reconnect to 10.1.2.166:9042, scheduling retry in 576.0 seconds: [Errno None] Tried connecting to [('10.1.2.166', 9042)]. Last error: timed out\n",
      "2024-11-22 08:30:18,680 - cassandra.pool - WARNING - Error attempting to reconnect to 10.1.2.159:9042, scheduling retry in 600.0 seconds: [Errno None] Tried connecting to [('10.1.2.159', 9042)]. Last error: timed out\n"
     ]
    }
   ],
   "source": [
    "for k,v in target_dmg.items():\n",
    "    print(k,v)"
   ]
  },
  {
   "cell_type": "code",
   "execution_count": 163,
   "metadata": {},
   "outputs": [
    {
     "name": "stdout",
     "output_type": "stream",
     "text": [
      "2024-11-22 08:34:30,663 - cassandra.pool - WARNING - Error attempting to reconnect to 10.1.2.159:9042, scheduling retry in 600.0 seconds: [Errno None] Tried connecting to [('10.1.2.159', 9042)]. Last error: timed out\n"
     ]
    }
   ],
   "source": [
    "import random"
   ]
  },
  {
   "cell_type": "code",
   "execution_count": null,
   "metadata": {},
   "outputs": [
    {
     "data": {
      "text/plain": [
       "{'Force': [9]}"
      ]
     },
     "execution_count": 174,
     "metadata": {},
     "output_type": "execute_result"
    },
    {
     "name": "stdout",
     "output_type": "stream",
     "text": [
      "2024-11-22 08:36:50,347 - cassandra.pool - WARNING - Error attempting to reconnect to 10.1.2.166:9042, scheduling retry in 528.0 seconds: [Errno None] Tried connecting to [('10.1.2.166', 9042)]. Last error: timed out\n",
      "2024-11-22 08:36:53,395 - cassandra.pool - WARNING - Error attempting to reconnect to 10.1.2.166:9042, scheduling retry in 594.0 seconds: [Errno None] Tried connecting to [('10.1.2.166', 9042)]. Last error: timed out\n",
      "2024-11-22 08:37:29,563 - cassandra.pool - WARNING - Error attempting to reconnect to 10.1.2.159:9042, scheduling retry in 600.0 seconds: [Errno None] Tried connecting to [('10.1.2.159', 9042)]. Last error: timed out\n",
      "2024-11-22 08:37:55,930 - cassandra.pool - WARNING - Error attempting to reconnect to 10.1.2.166:9042, scheduling retry in 600.0 seconds: [Errno None] Tried connecting to [('10.1.2.166', 9042)]. Last error: timed out\n",
      "2024-11-22 08:38:31,629 - cassandra.pool - WARNING - Error attempting to reconnect to 10.1.2.159:9042, scheduling retry in 600.0 seconds: [Errno None] Tried connecting to [('10.1.2.159', 9042)]. Last error: timed out\n",
      "2024-11-22 08:39:09,535 - cassandra.pool - WARNING - Error attempting to reconnect to 10.1.2.166:9042, scheduling retry in 564.0 seconds: [Errno None] Tried connecting to [('10.1.2.166', 9042)]. Last error: timed out\n",
      "2024-11-22 08:39:46,601 - cassandra.pool - WARNING - Error attempting to reconnect to 10.1.2.166:9042, scheduling retry in 516.0 seconds: [Errno None] Tried connecting to [('10.1.2.166', 9042)]. Last error: timed out\n",
      "2024-11-22 08:40:23,785 - cassandra.pool - WARNING - Error attempting to reconnect to 10.1.2.159:9042, scheduling retry in 516.0 seconds: [Errno None] Tried connecting to [('10.1.2.159', 9042)]. Last error: timed out\n",
      "2024-11-22 08:41:30,110 - cassandra.pool - WARNING - Error attempting to reconnect to 10.1.2.166:9042, scheduling retry in 564.0 seconds: [Errno None] Tried connecting to [('10.1.2.166', 9042)]. Last error: timed out\n",
      "2024-11-22 08:42:17,021 - cassandra.pool - WARNING - Error attempting to reconnect to 10.1.2.166:9042, scheduling retry in 600.0 seconds: [Errno None] Tried connecting to [('10.1.2.166', 9042)]. Last error: timed out\n",
      "2024-11-22 08:42:37,888 - cassandra.pool - WARNING - Error attempting to reconnect to 10.1.2.159:9042, scheduling retry in 528.0 seconds: [Errno None] Tried connecting to [('10.1.2.159', 9042)]. Last error: timed out\n",
      "2024-11-22 08:44:35,732 - cassandra.pool - WARNING - Error attempting to reconnect to 10.1.2.159:9042, scheduling retry in 600.0 seconds: [Errno None] Tried connecting to [('10.1.2.159', 9042)]. Last error: timed out\n",
      "2024-11-22 08:44:38,136 - cassandra.pool - WARNING - Error attempting to reconnect to 10.1.2.159:9042, scheduling retry in 570.0 seconds: [Errno None] Tried connecting to [('10.1.2.159', 9042)]. Last error: timed out\n",
      "2024-11-22 08:45:10,296 - cassandra.pool - WARNING - Error attempting to reconnect to 10.1.2.166:9042, scheduling retry in 510.0 seconds: [Errno None] Tried connecting to [('10.1.2.166', 9042)]. Last error: timed out\n",
      "2024-11-22 08:45:43,432 - cassandra.pool - WARNING - Error attempting to reconnect to 10.1.2.166:9042, scheduling retry in 522.0 seconds: [Errno None] Tried connecting to [('10.1.2.166', 9042)]. Last error: timed out\n"
     ]
    }
   ],
   "source": [
    "tlvl=6\n",
    "lvls = [x for x in dmg.keys() if x < tlvl]\n",
    "lvls.sort()\n",
    "target_dmg = dmg.get(lvls[-1])\n",
    "results = {}\n",
    "for k,v in dict(target_dmg).items():\n",
    "    results[k] = []\n",
    "    for l,w in v[0].items():\n",
    "        for i in range(l):\n",
    "            # print(random.randint(1,w))\n",
    "            results[k].append(random.randint(1,w))\n",
    "results"
   ]
  },
  {
   "cell_type": "code",
   "execution_count": 158,
   "metadata": {},
   "outputs": [
    {
     "data": {
      "text/plain": [
       "{'campaign_id': 'abcdef',\n",
       " 'user_id': 'chorky#8402',\n",
       " 'ac': 18,\n",
       " 'align': None,\n",
       " 'background': None,\n",
       " 'char_name': 'Bahlok',\n",
       " 'chr': 20,\n",
       " 'field_7_': None,\n",
       " 'con': None,\n",
       " 'curr_hp': None,\n",
       " 'dex': None,\n",
       " 'hit_dice': None,\n",
       " 'int': None,\n",
       " 'level': None,\n",
       " 'max_hp': None,\n",
       " 'prof_bonus': None,\n",
       " 'str': None,\n",
       " 'wis': None}"
      ]
     },
     "execution_count": 158,
     "metadata": {},
     "output_type": "execute_result"
    }
   ],
   "source": [
    "char"
   ]
  },
  {
   "cell_type": "code",
   "execution_count": 175,
   "metadata": {},
   "outputs": [
    {
     "data": {
      "text/plain": [
       "[{'id': 'ea42031d-4ab2-4d4a-bbb8-f6c0c80642bf',\n",
       "  'addspellmod': True,\n",
       "  'classes': ['Warlock'],\n",
       "  'components': 'V, S',\n",
       "  'conc': False,\n",
       "  'dmg': OrderedMapSerializedKey([(1, OrderedMapSerializedKey([('Force', [OrderedMapSerializedKey([(1, 10)])])]))]),\n",
       "  'duration': 'Instantaneous',\n",
       "  'hard_mod': 0,\n",
       "  'lvl': 0,\n",
       "  'mult': 1,\n",
       "  'name': 'Eldritch Blast',\n",
       "  'range': '120 feet',\n",
       "  'save': 'nan',\n",
       "  'time': '1 action',\n",
       "  'upcast': OrderedMapSerializedKey([])}]"
      ]
     },
     "execution_count": 175,
     "metadata": {},
     "output_type": "execute_result"
    },
    {
     "name": "stdout",
     "output_type": "stream",
     "text": [
      "2024-11-22 08:46:06,975 - cassandra.pool - WARNING - Error attempting to reconnect to 10.1.2.159:9042, scheduling retry in 600.0 seconds: [Errno None] Tried connecting to [('10.1.2.159', 9042)]. Last error: timed out\n"
     ]
    }
   ],
   "source": [
    "spell"
   ]
  },
  {
   "cell_type": "code",
   "execution_count": null,
   "metadata": {},
   "outputs": [
    {
     "name": "stdout",
     "output_type": "stream",
     "text": [
      "{1: {'Cold': [{4: 6}]}} {}\n"
     ]
    },
    {
     "name": "stdout",
     "output_type": "stream",
     "text": [
      "2024-11-22 11:25:56,164 - cassandra.pool - WARNING - Error attempting to reconnect to 10.1.2.166:9042, scheduling retry in 510.0 seconds: [Errno None] Tried connecting to [('10.1.2.166', 9042)]. Last error: timed out\n",
      "2024-11-22 11:27:20,022 - cassandra.pool - WARNING - Error attempting to reconnect to 10.1.2.159:9042, scheduling retry in 540.0 seconds: [Errno None] Tried connecting to [('10.1.2.159', 9042)]. Last error: timed out\n",
      "2024-11-22 11:28:01,671 - cassandra.pool - WARNING - Error attempting to reconnect to 10.1.2.159:9042, scheduling retry in 570.0 seconds: [Errno None] Tried connecting to [('10.1.2.159', 9042)]. Last error: timed out\n",
      "2024-11-22 11:28:07,054 - cassandra.pool - WARNING - Error attempting to reconnect to 10.1.2.166:9042, scheduling retry in 600.0 seconds: [Errno None] Tried connecting to [('10.1.2.166', 9042)]. Last error: timed out\n",
      "2024-11-22 11:28:59,964 - cassandra.pool - WARNING - Error attempting to reconnect to 10.1.2.166:9042, scheduling retry in 600.0 seconds: [Errno None] Tried connecting to [('10.1.2.166', 9042)]. Last error: timed out\n",
      "2024-11-22 11:30:06,750 - cassandra.pool - WARNING - Error attempting to reconnect to 10.1.2.166:9042, scheduling retry in 534.0 seconds: [Errno None] Tried connecting to [('10.1.2.166', 9042)]. Last error: timed out\n",
      "2024-11-22 11:30:45,596 - cassandra.pool - WARNING - Error attempting to reconnect to 10.1.2.166:9042, scheduling retry in 600.0 seconds: [Errno None] Tried connecting to [('10.1.2.166', 9042)]. Last error: timed out\n",
      "2024-11-22 11:31:08,885 - cassandra.pool - WARNING - Error attempting to reconnect to 10.1.2.159:9042, scheduling retry in 576.0 seconds: [Errno None] Tried connecting to [('10.1.2.159', 9042)]. Last error: timed out\n",
      "2024-11-22 11:31:18,484 - cassandra.pool - WARNING - Error attempting to reconnect to 10.1.2.166:9042, scheduling retry in 600.0 seconds: [Errno None] Tried connecting to [('10.1.2.166', 9042)]. Last error: timed out\n",
      "2024-11-22 11:31:20,712 - cassandra.pool - WARNING - Error attempting to reconnect to 10.1.2.159:9042, scheduling retry in 600.0 seconds: [Errno None] Tried connecting to [('10.1.2.159', 9042)]. Last error: timed out\n",
      "2024-11-22 11:31:22,202 - cassandra.pool - WARNING - Error attempting to reconnect to 10.1.2.159:9042, scheduling retry in 540.0 seconds: [Errno None] Tried connecting to [('10.1.2.159', 9042)]. Last error: timed out\n",
      "2024-11-22 11:33:48,012 - cassandra.pool - WARNING - Error attempting to reconnect to 10.1.2.159:9042, scheduling retry in 522.0 seconds: [Errno None] Tried connecting to [('10.1.2.159', 9042)]. Last error: timed out\n",
      "2024-11-22 11:33:51,056 - cassandra.pool - WARNING - Error attempting to reconnect to 10.1.2.166:9042, scheduling retry in 600.0 seconds: [Errno None] Tried connecting to [('10.1.2.166', 9042)]. Last error: timed out\n",
      "2024-11-22 11:34:02,825 - cassandra.pool - WARNING - Error attempting to reconnect to 10.1.2.159:9042, scheduling retry in 600.0 seconds: [Errno None] Tried connecting to [('10.1.2.159', 9042)]. Last error: timed out\n",
      "2024-11-22 11:34:31,196 - cassandra.pool - WARNING - Error attempting to reconnect to 10.1.2.166:9042, scheduling retry in 600.0 seconds: [Errno None] Tried connecting to [('10.1.2.166', 9042)]. Last error: timed out\n",
      "2024-11-22 11:35:11,034 - cassandra.pool - WARNING - Error attempting to reconnect to 10.1.2.166:9042, scheduling retry in 600.0 seconds: [Errno None] Tried connecting to [('10.1.2.166', 9042)]. Last error: timed out\n",
      "2024-11-22 11:35:48,491 - cassandra.pool - WARNING - Error attempting to reconnect to 10.1.2.159:9042, scheduling retry in 600.0 seconds: [Errno None] Tried connecting to [('10.1.2.159', 9042)]. Last error: timed out\n",
      "2024-11-22 11:36:25,114 - cassandra.pool - WARNING - Error attempting to reconnect to 10.1.2.159:9042, scheduling retry in 600.0 seconds: [Errno None] Tried connecting to [('10.1.2.159', 9042)]. Last error: timed out\n",
      "2024-11-22 11:37:36,723 - cassandra.pool - WARNING - Error attempting to reconnect to 10.1.2.159:9042, scheduling retry in 600.0 seconds: [Errno None] Tried connecting to [('10.1.2.159', 9042)]. Last error: timed out\n",
      "2024-11-22 11:38:12,098 - cassandra.pool - WARNING - Error attempting to reconnect to 10.1.2.166:9042, scheduling retry in 558.0 seconds: [Errno None] Tried connecting to [('10.1.2.166', 9042)]. Last error: timed out\n",
      "2024-11-22 11:39:05,066 - cassandra.pool - WARNING - Error attempting to reconnect to 10.1.2.166:9042, scheduling retry in 600.0 seconds: [Errno None] Tried connecting to [('10.1.2.166', 9042)]. Last error: timed out\n",
      "2024-11-22 11:39:05,813 - cassandra.pool - WARNING - Error attempting to reconnect to 10.1.2.166:9042, scheduling retry in 600.0 seconds: [Errno None] Tried connecting to [('10.1.2.166', 9042)]. Last error: timed out\n",
      "2024-11-22 11:40:27,288 - cassandra.pool - WARNING - Error attempting to reconnect to 10.1.2.159:9042, scheduling retry in 600.0 seconds: [Errno None] Tried connecting to [('10.1.2.159', 9042)]. Last error: timed out\n",
      "2024-11-22 11:40:49,947 - cassandra.pool - WARNING - Error attempting to reconnect to 10.1.2.159:9042, scheduling retry in 600.0 seconds: [Errno None] Tried connecting to [('10.1.2.159', 9042)]. Last error: timed out\n",
      "2024-11-22 11:40:50,617 - cassandra.pool - WARNING - Error attempting to reconnect to 10.1.2.166:9042, scheduling retry in 600.0 seconds: [Errno None] Tried connecting to [('10.1.2.166', 9042)]. Last error: timed out\n",
      "2024-11-22 11:41:23,592 - cassandra.pool - WARNING - Error attempting to reconnect to 10.1.2.166:9042, scheduling retry in 600.0 seconds: [Errno None] Tried connecting to [('10.1.2.166', 9042)]. Last error: timed out\n",
      "2024-11-22 11:41:25,790 - cassandra.pool - WARNING - Error attempting to reconnect to 10.1.2.159:9042, scheduling retry in 600.0 seconds: [Errno None] Tried connecting to [('10.1.2.159', 9042)]. Last error: timed out\n",
      "2024-11-22 11:42:35,110 - cassandra.pool - WARNING - Error attempting to reconnect to 10.1.2.159:9042, scheduling retry in 546.0 seconds: [Errno None] Tried connecting to [('10.1.2.159', 9042)]. Last error: timed out\n",
      "2024-11-22 11:43:56,171 - cassandra.pool - WARNING - Error attempting to reconnect to 10.1.2.166:9042, scheduling retry in 600.0 seconds: [Errno None] Tried connecting to [('10.1.2.166', 9042)]. Last error: timed out\n",
      "2024-11-22 11:44:07,858 - cassandra.pool - WARNING - Error attempting to reconnect to 10.1.2.159:9042, scheduling retry in 600.0 seconds: [Errno None] Tried connecting to [('10.1.2.159', 9042)]. Last error: timed out\n",
      "2024-11-22 11:44:36,286 - cassandra.pool - WARNING - Error attempting to reconnect to 10.1.2.166:9042, scheduling retry in 600.0 seconds: [Errno None] Tried connecting to [('10.1.2.166', 9042)]. Last error: timed out\n",
      "2024-11-22 11:45:16,087 - cassandra.pool - WARNING - Error attempting to reconnect to 10.1.2.166:9042, scheduling retry in 600.0 seconds: [Errno None] Tried connecting to [('10.1.2.166', 9042)]. Last error: timed out\n",
      "2024-11-22 11:45:53,546 - cassandra.pool - WARNING - Error attempting to reconnect to 10.1.2.159:9042, scheduling retry in 534.0 seconds: [Errno None] Tried connecting to [('10.1.2.159', 9042)]. Last error: timed out\n",
      "2024-11-22 11:46:30,220 - cassandra.pool - WARNING - Error attempting to reconnect to 10.1.2.159:9042, scheduling retry in 540.0 seconds: [Errno None] Tried connecting to [('10.1.2.159', 9042)]. Last error: timed out\n",
      "2024-11-22 11:47:35,126 - cassandra.pool - WARNING - Error attempting to reconnect to 10.1.2.166:9042, scheduling retry in 600.0 seconds: [Errno None] Tried connecting to [('10.1.2.166', 9042)]. Last error: timed out\n",
      "2024-11-22 11:47:41,793 - cassandra.pool - WARNING - Error attempting to reconnect to 10.1.2.159:9042, scheduling retry in 600.0 seconds: [Errno None] Tried connecting to [('10.1.2.159', 9042)]. Last error: timed out\n",
      "2024-11-22 11:49:10,096 - cassandra.pool - WARNING - Error attempting to reconnect to 10.1.2.166:9042, scheduling retry in 552.0 seconds: [Errno None] Tried connecting to [('10.1.2.166', 9042)]. Last error: timed out\n",
      "2024-11-22 11:49:10,844 - cassandra.pool - WARNING - Error attempting to reconnect to 10.1.2.166:9042, scheduling retry in 594.0 seconds: [Errno None] Tried connecting to [('10.1.2.166', 9042)]. Last error: timed out\n",
      "2024-11-22 11:50:32,374 - cassandra.pool - WARNING - Error attempting to reconnect to 10.1.2.159:9042, scheduling retry in 600.0 seconds: [Errno None] Tried connecting to [('10.1.2.159', 9042)]. Last error: timed out\n",
      "2024-11-22 11:50:54,959 - cassandra.pool - WARNING - Error attempting to reconnect to 10.1.2.159:9042, scheduling retry in 600.0 seconds: [Errno None] Tried connecting to [('10.1.2.159', 9042)]. Last error: timed out\n",
      "2024-11-22 11:50:55,679 - cassandra.pool - WARNING - Error attempting to reconnect to 10.1.2.166:9042, scheduling retry in 528.0 seconds: [Errno None] Tried connecting to [('10.1.2.166', 9042)]. Last error: timed out\n",
      "2024-11-22 11:51:28,674 - cassandra.pool - WARNING - Error attempting to reconnect to 10.1.2.166:9042, scheduling retry in 600.0 seconds: [Errno None] Tried connecting to [('10.1.2.166', 9042)]. Last error: timed out\n",
      "2024-11-22 11:51:30,865 - cassandra.pool - WARNING - Error attempting to reconnect to 10.1.2.159:9042, scheduling retry in 600.0 seconds: [Errno None] Tried connecting to [('10.1.2.159', 9042)]. Last error: timed out\n",
      "2024-11-22 11:51:46,209 - cassandra.pool - WARNING - Error attempting to reconnect to 10.1.2.159:9042, scheduling retry in 600.0 seconds: [Errno None] Tried connecting to [('10.1.2.159', 9042)]. Last error: timed out\n",
      "2024-11-22 11:54:01,276 - cassandra.pool - WARNING - Error attempting to reconnect to 10.1.2.166:9042, scheduling retry in 582.0 seconds: [Errno None] Tried connecting to [('10.1.2.166', 9042)]. Last error: timed out\n",
      "2024-11-22 11:54:12,933 - cassandra.pool - WARNING - Error attempting to reconnect to 10.1.2.159:9042, scheduling retry in 516.0 seconds: [Errno None] Tried connecting to [('10.1.2.159', 9042)]. Last error: timed out\n",
      "2024-11-22 11:54:41,387 - cassandra.pool - WARNING - Error attempting to reconnect to 10.1.2.166:9042, scheduling retry in 600.0 seconds: [Errno None] Tried connecting to [('10.1.2.166', 9042)]. Last error: timed out\n",
      "2024-11-22 11:54:52,648 - cassandra.pool - WARNING - Error attempting to reconnect to 10.1.2.159:9042, scheduling retry in 600.0 seconds: [Errno None] Tried connecting to [('10.1.2.159', 9042)]. Last error: timed out\n",
      "2024-11-22 11:55:21,201 - cassandra.pool - WARNING - Error attempting to reconnect to 10.1.2.166:9042, scheduling retry in 600.0 seconds: [Errno None] Tried connecting to [('10.1.2.166', 9042)]. Last error: timed out\n",
      "2024-11-22 11:55:35,239 - cassandra.pool - WARNING - Error attempting to reconnect to 10.1.2.159:9042, scheduling retry in 540.0 seconds: [Errno None] Tried connecting to [('10.1.2.159', 9042)]. Last error: timed out\n",
      "2024-11-22 11:57:40,245 - cassandra.pool - WARNING - Error attempting to reconnect to 10.1.2.166:9042, scheduling retry in 570.0 seconds: [Errno None] Tried connecting to [('10.1.2.166', 9042)]. Last error: timed out\n",
      "2024-11-22 11:57:46,899 - cassandra.pool - WARNING - Error attempting to reconnect to 10.1.2.159:9042, scheduling retry in 552.0 seconds: [Errno None] Tried connecting to [('10.1.2.159', 9042)]. Last error: timed out\n",
      "2024-11-22 11:58:27,139 - cassandra.pool - WARNING - Error attempting to reconnect to 10.1.2.166:9042, scheduling retry in 546.0 seconds: [Errno None] Tried connecting to [('10.1.2.166', 9042)]. Last error: timed out\n",
      "2024-11-22 11:59:09,899 - cassandra.pool - WARNING - Error attempting to reconnect to 10.1.2.166:9042, scheduling retry in 510.0 seconds: [Errno None] Tried connecting to [('10.1.2.166', 9042)]. Last error: timed out\n",
      "2024-11-22 11:59:48,701 - cassandra.pool - WARNING - Error attempting to reconnect to 10.1.2.166:9042, scheduling retry in 600.0 seconds: [Errno None] Tried connecting to [('10.1.2.166', 9042)]. Last error: timed out\n",
      "2024-11-22 12:00:37,426 - cassandra.pool - WARNING - Error attempting to reconnect to 10.1.2.159:9042, scheduling retry in 600.0 seconds: [Errno None] Tried connecting to [('10.1.2.159', 9042)]. Last error: timed out\n",
      "2024-11-22 12:01:00,066 - cassandra.pool - WARNING - Error attempting to reconnect to 10.1.2.159:9042, scheduling retry in 600.0 seconds: [Errno None] Tried connecting to [('10.1.2.159', 9042)]. Last error: timed out\n",
      "2024-11-22 12:01:33,754 - cassandra.pool - WARNING - Error attempting to reconnect to 10.1.2.166:9042, scheduling retry in 588.0 seconds: [Errno None] Tried connecting to [('10.1.2.166', 9042)]. Last error: timed out\n",
      "2024-11-22 12:01:35,949 - cassandra.pool - WARNING - Error attempting to reconnect to 10.1.2.159:9042, scheduling retry in 552.0 seconds: [Errno None] Tried connecting to [('10.1.2.159', 9042)]. Last error: timed out\n",
      "2024-11-22 12:01:51,305 - cassandra.pool - WARNING - Error attempting to reconnect to 10.1.2.159:9042, scheduling retry in 564.0 seconds: [Errno None] Tried connecting to [('10.1.2.159', 9042)]. Last error: timed out\n",
      "2024-11-22 12:02:53,984 - cassandra.pool - WARNING - Error attempting to reconnect to 10.1.2.159:9042, scheduling retry in 600.0 seconds: [Errno None] Tried connecting to [('10.1.2.159', 9042)]. Last error: timed out\n",
      "2024-11-22 12:03:48,311 - cassandra.pool - WARNING - Error attempting to reconnect to 10.1.2.166:9042, scheduling retry in 600.0 seconds: [Errno None] Tried connecting to [('10.1.2.166', 9042)]. Last error: timed out\n",
      "2024-11-22 12:04:40,275 - cassandra.pool - WARNING - Error attempting to reconnect to 10.1.2.159:9042, scheduling retry in 600.0 seconds: [Errno None] Tried connecting to [('10.1.2.159', 9042)]. Last error: timed out\n",
      "2024-11-22 12:04:46,392 - cassandra.pool - WARNING - Error attempting to reconnect to 10.1.2.166:9042, scheduling retry in 546.0 seconds: [Errno None] Tried connecting to [('10.1.2.166', 9042)]. Last error: timed out\n",
      "2024-11-22 12:04:57,762 - cassandra.pool - WARNING - Error attempting to reconnect to 10.1.2.159:9042, scheduling retry in 600.0 seconds: [Errno None] Tried connecting to [('10.1.2.159', 9042)]. Last error: timed out\n",
      "2024-11-22 12:05:26,310 - cassandra.pool - WARNING - Error attempting to reconnect to 10.1.2.166:9042, scheduling retry in 600.0 seconds: [Errno None] Tried connecting to [('10.1.2.166', 9042)]. Last error: timed out\n",
      "2024-11-22 12:07:03,923 - cassandra.pool - WARNING - Error attempting to reconnect to 10.1.2.159:9042, scheduling retry in 600.0 seconds: [Errno None] Tried connecting to [('10.1.2.159', 9042)]. Last error: timed out\n",
      "2024-11-22 12:07:15,308 - cassandra.pool - WARNING - Error attempting to reconnect to 10.1.2.166:9042, scheduling retry in 600.0 seconds: [Errno None] Tried connecting to [('10.1.2.166', 9042)]. Last error: timed out\n",
      "2024-11-22 12:07:38,249 - cassandra.pool - WARNING - Error attempting to reconnect to 10.1.2.166:9042, scheduling retry in 522.0 seconds: [Errno None] Tried connecting to [('10.1.2.166', 9042)]. Last error: timed out\n",
      "2024-11-22 12:07:44,950 - cassandra.pool - WARNING - Error attempting to reconnect to 10.1.2.166:9042, scheduling retry in 546.0 seconds: [Errno None] Tried connecting to [('10.1.2.166', 9042)]. Last error: timed out\n",
      "2024-11-22 12:09:53,766 - cassandra.pool - WARNING - Error attempting to reconnect to 10.1.2.166:9042, scheduling retry in 528.0 seconds: [Errno None] Tried connecting to [('10.1.2.166', 9042)]. Last error: timed out\n",
      "2024-11-22 12:10:42,543 - cassandra.pool - WARNING - Error attempting to reconnect to 10.1.2.159:9042, scheduling retry in 570.0 seconds: [Errno None] Tried connecting to [('10.1.2.159', 9042)]. Last error: timed out\n",
      "2024-11-22 12:10:53,002 - cassandra.pool - WARNING - Error attempting to reconnect to 10.1.2.159:9042, scheduling retry in 600.0 seconds: [Errno None] Tried connecting to [('10.1.2.159', 9042)]. Last error: timed out\n",
      "2024-11-22 12:11:05,172 - cassandra.pool - WARNING - Error attempting to reconnect to 10.1.2.159:9042, scheduling retry in 522.0 seconds: [Errno None] Tried connecting to [('10.1.2.159', 9042)]. Last error: timed out\n",
      "2024-11-22 12:11:20,315 - cassandra.pool - WARNING - Error attempting to reconnect to 10.1.2.159:9042, scheduling retry in 528.0 seconds: [Errno None] Tried connecting to [('10.1.2.159', 9042)]. Last error: timed out\n",
      "2024-11-22 12:11:26,857 - cassandra.pool - WARNING - Error attempting to reconnect to 10.1.2.166:9042, scheduling retry in 516.0 seconds: [Errno None] Tried connecting to [('10.1.2.166', 9042)]. Last error: timed out\n",
      "2024-11-22 12:12:59,061 - cassandra.pool - WARNING - Error attempting to reconnect to 10.1.2.159:9042, scheduling retry in 600.0 seconds: [Errno None] Tried connecting to [('10.1.2.159', 9042)]. Last error: timed out\n",
      "2024-11-22 12:13:53,387 - cassandra.pool - WARNING - Error attempting to reconnect to 10.1.2.166:9042, scheduling retry in 600.0 seconds: [Errno None] Tried connecting to [('10.1.2.166', 9042)]. Last error: timed out\n",
      "2024-11-22 12:13:57,500 - cassandra.pool - WARNING - Error attempting to reconnect to 10.1.2.166:9042, scheduling retry in 600.0 seconds: [Errno None] Tried connecting to [('10.1.2.166', 9042)]. Last error: timed out\n",
      "2024-11-22 12:14:45,347 - cassandra.pool - WARNING - Error attempting to reconnect to 10.1.2.159:9042, scheduling retry in 528.0 seconds: [Errno None] Tried connecting to [('10.1.2.159', 9042)]. Last error: timed out\n",
      "2024-11-22 12:15:02,823 - cassandra.pool - WARNING - Error attempting to reconnect to 10.1.2.159:9042, scheduling retry in 600.0 seconds: [Errno None] Tried connecting to [('10.1.2.159', 9042)]. Last error: timed out\n",
      "2024-11-22 12:15:31,346 - cassandra.pool - WARNING - Error attempting to reconnect to 10.1.2.166:9042, scheduling retry in 600.0 seconds: [Errno None] Tried connecting to [('10.1.2.166', 9042)]. Last error: timed out\n",
      "2024-11-22 12:16:25,277 - cassandra.pool - WARNING - Error attempting to reconnect to 10.1.2.166:9042, scheduling retry in 600.0 seconds: [Errno None] Tried connecting to [('10.1.2.166', 9042)]. Last error: timed out\n",
      "2024-11-22 12:16:56,045 - cassandra.pool - WARNING - Error attempting to reconnect to 10.1.2.166:9042, scheduling retry in 600.0 seconds: [Errno None] Tried connecting to [('10.1.2.166', 9042)]. Last error: timed out\n",
      "2024-11-22 12:17:08,956 - cassandra.pool - WARNING - Error attempting to reconnect to 10.1.2.159:9042, scheduling retry in 564.0 seconds: [Errno None] Tried connecting to [('10.1.2.159', 9042)]. Last error: timed out\n",
      "2024-11-22 12:17:20,338 - cassandra.pool - WARNING - Error attempting to reconnect to 10.1.2.166:9042, scheduling retry in 522.0 seconds: [Errno None] Tried connecting to [('10.1.2.166', 9042)]. Last error: timed out\n",
      "2024-11-22 12:18:46,855 - cassandra.pool - WARNING - Error attempting to reconnect to 10.1.2.166:9042, scheduling retry in 600.0 seconds: [Errno None] Tried connecting to [('10.1.2.166', 9042)]. Last error: timed out\n",
      "2024-11-22 12:19:52,213 - cassandra.pool - WARNING - Error attempting to reconnect to 10.1.2.159:9042, scheduling retry in 594.0 seconds: [Errno None] Tried connecting to [('10.1.2.159', 9042)]. Last error: timed out\n",
      "2024-11-22 12:20:07,962 - cassandra.pool - WARNING - Error attempting to reconnect to 10.1.2.166:9042, scheduling retry in 600.0 seconds: [Errno None] Tried connecting to [('10.1.2.166', 9042)]. Last error: timed out\n",
      "2024-11-22 12:20:13,376 - cassandra.pool - WARNING - Error attempting to reconnect to 10.1.2.159:9042, scheduling retry in 540.0 seconds: [Errno None] Tried connecting to [('10.1.2.159', 9042)]. Last error: timed out\n",
      "2024-11-22 12:20:17,642 - cassandra.pool - WARNING - Error attempting to reconnect to 10.1.2.159:9042, scheduling retry in 564.0 seconds: [Errno None] Tried connecting to [('10.1.2.159', 9042)]. Last error: timed out\n",
      "2024-11-22 12:20:58,058 - cassandra.pool - WARNING - Error attempting to reconnect to 10.1.2.159:9042, scheduling retry in 522.0 seconds: [Errno None] Tried connecting to [('10.1.2.159', 9042)]. Last error: timed out\n",
      "2024-11-22 12:23:04,136 - cassandra.pool - WARNING - Error attempting to reconnect to 10.1.2.159:9042, scheduling retry in 510.0 seconds: [Errno None] Tried connecting to [('10.1.2.159', 9042)]. Last error: timed out\n",
      "2024-11-22 12:23:38,389 - cassandra.pool - WARNING - Error attempting to reconnect to 10.1.2.159:9042, scheduling retry in 600.0 seconds: [Errno None] Tried connecting to [('10.1.2.159', 9042)]. Last error: timed out\n",
      "2024-11-22 12:23:58,468 - cassandra.pool - WARNING - Error attempting to reconnect to 10.1.2.166:9042, scheduling retry in 600.0 seconds: [Errno None] Tried connecting to [('10.1.2.166', 9042)]. Last error: timed out\n",
      "2024-11-22 12:24:02,563 - cassandra.pool - WARNING - Error attempting to reconnect to 10.1.2.166:9042, scheduling retry in 600.0 seconds: [Errno None] Tried connecting to [('10.1.2.166', 9042)]. Last error: timed out\n",
      "2024-11-22 12:25:07,878 - cassandra.pool - WARNING - Error attempting to reconnect to 10.1.2.159:9042, scheduling retry in 546.0 seconds: [Errno None] Tried connecting to [('10.1.2.159', 9042)]. Last error: timed out\n",
      "2024-11-22 12:25:36,385 - cassandra.pool - WARNING - Error attempting to reconnect to 10.1.2.166:9042, scheduling retry in 600.0 seconds: [Errno None] Tried connecting to [('10.1.2.166', 9042)]. Last error: timed out\n",
      "2024-11-22 12:26:07,351 - cassandra.pool - WARNING - Error attempting to reconnect to 10.1.2.166:9042, scheduling retry in 600.0 seconds: [Errno None] Tried connecting to [('10.1.2.166', 9042)]. Last error: timed out\n",
      "2024-11-22 12:26:30,326 - cassandra.pool - WARNING - Error attempting to reconnect to 10.1.2.166:9042, scheduling retry in 522.0 seconds: [Errno None] Tried connecting to [('10.1.2.166', 9042)]. Last error: timed out\n",
      "2024-11-22 12:26:37,972 - cassandra.pool - WARNING - Error attempting to reconnect to 10.1.2.159:9042, scheduling retry in 570.0 seconds: [Errno None] Tried connecting to [('10.1.2.159', 9042)]. Last error: timed out\n",
      "2024-11-22 12:27:01,154 - cassandra.pool - WARNING - Error attempting to reconnect to 10.1.2.166:9042, scheduling retry in 600.0 seconds: [Errno None] Tried connecting to [('10.1.2.166', 9042)]. Last error: timed out\n",
      "2024-11-22 12:28:51,903 - cassandra.pool - WARNING - Error attempting to reconnect to 10.1.2.166:9042, scheduling retry in 600.0 seconds: [Errno None] Tried connecting to [('10.1.2.166', 9042)]. Last error: timed out\n",
      "2024-11-22 12:29:18,390 - cassandra.pool - WARNING - Error attempting to reconnect to 10.1.2.159:9042, scheduling retry in 600.0 seconds: [Errno None] Tried connecting to [('10.1.2.159', 9042)]. Last error: timed out\n",
      "2024-11-22 12:29:45,066 - cassandra.pool - WARNING - Error attempting to reconnect to 10.1.2.159:9042, scheduling retry in 600.0 seconds: [Errno None] Tried connecting to [('10.1.2.159', 9042)]. Last error: timed out\n",
      "2024-11-22 12:29:46,720 - cassandra.pool - WARNING - Error attempting to reconnect to 10.1.2.159:9042, scheduling retry in 600.0 seconds: [Errno None] Tried connecting to [('10.1.2.159', 9042)]. Last error: timed out\n",
      "2024-11-22 12:29:51,305 - cassandra.pool - WARNING - Error attempting to reconnect to 10.1.2.159:9042, scheduling retry in 564.0 seconds: [Errno None] Tried connecting to [('10.1.2.159', 9042)]. Last error: timed out\n",
      "2024-11-22 12:30:13,084 - cassandra.pool - WARNING - Error attempting to reconnect to 10.1.2.166:9042, scheduling retry in 600.0 seconds: [Errno None] Tried connecting to [('10.1.2.166', 9042)]. Last error: timed out\n",
      "2024-11-22 12:31:39,164 - cassandra.pool - WARNING - Error attempting to reconnect to 10.1.2.159:9042, scheduling retry in 600.0 seconds: [Errno None] Tried connecting to [('10.1.2.159', 9042)]. Last error: timed out\n",
      "2024-11-22 12:33:43,472 - cassandra.pool - WARNING - Error attempting to reconnect to 10.1.2.159:9042, scheduling retry in 582.0 seconds: [Errno None] Tried connecting to [('10.1.2.159', 9042)]. Last error: timed out\n",
      "2024-11-22 12:34:03,495 - cassandra.pool - WARNING - Error attempting to reconnect to 10.1.2.166:9042, scheduling retry in 594.0 seconds: [Errno None] Tried connecting to [('10.1.2.166', 9042)]. Last error: timed out\n",
      "2024-11-22 12:34:07,601 - cassandra.pool - WARNING - Error attempting to reconnect to 10.1.2.166:9042, scheduling retry in 534.0 seconds: [Errno None] Tried connecting to [('10.1.2.166', 9042)]. Last error: timed out\n",
      "2024-11-22 12:34:18,965 - cassandra.pool - WARNING - Error attempting to reconnect to 10.1.2.159:9042, scheduling retry in 582.0 seconds: [Errno None] Tried connecting to [('10.1.2.159', 9042)]. Last error: timed out\n",
      "2024-11-22 12:35:17,440 - cassandra.pool - WARNING - Error attempting to reconnect to 10.1.2.166:9042, scheduling retry in 552.0 seconds: [Errno None] Tried connecting to [('10.1.2.166', 9042)]. Last error: timed out\n",
      "2024-11-22 12:35:41,481 - cassandra.pool - WARNING - Error attempting to reconnect to 10.1.2.166:9042, scheduling retry in 558.0 seconds: [Errno None] Tried connecting to [('10.1.2.166', 9042)]. Last error: timed out\n",
      "2024-11-22 12:36:12,460 - cassandra.pool - WARNING - Error attempting to reconnect to 10.1.2.166:9042, scheduling retry in 600.0 seconds: [Errno None] Tried connecting to [('10.1.2.166', 9042)]. Last error: timed out\n",
      "2024-11-22 12:36:13,007 - cassandra.pool - WARNING - Error attempting to reconnect to 10.1.2.159:9042, scheduling retry in 510.0 seconds: [Errno None] Tried connecting to [('10.1.2.159', 9042)]. Last error: timed out\n",
      "2024-11-22 12:37:06,177 - cassandra.pool - WARNING - Error attempting to reconnect to 10.1.2.166:9042, scheduling retry in 600.0 seconds: [Errno None] Tried connecting to [('10.1.2.166', 9042)]. Last error: timed out\n",
      "2024-11-22 12:38:56,993 - cassandra.pool - WARNING - Error attempting to reconnect to 10.1.2.166:9042, scheduling retry in 600.0 seconds: [Errno None] Tried connecting to [('10.1.2.166', 9042)]. Last error: timed out\n",
      "2024-11-22 12:39:20,350 - cassandra.pool - WARNING - Error attempting to reconnect to 10.1.2.159:9042, scheduling retry in 528.0 seconds: [Errno None] Tried connecting to [('10.1.2.159', 9042)]. Last error: timed out\n",
      "2024-11-22 12:39:23,463 - cassandra.pool - WARNING - Error attempting to reconnect to 10.1.2.159:9042, scheduling retry in 516.0 seconds: [Errno None] Tried connecting to [('10.1.2.159', 9042)]. Last error: timed out\n",
      "2024-11-22 12:39:50,175 - cassandra.pool - WARNING - Error attempting to reconnect to 10.1.2.159:9042, scheduling retry in 600.0 seconds: [Errno None] Tried connecting to [('10.1.2.159', 9042)]. Last error: timed out\n",
      "2024-11-22 12:39:51,840 - cassandra.pool - WARNING - Error attempting to reconnect to 10.1.2.159:9042, scheduling retry in 600.0 seconds: [Errno None] Tried connecting to [('10.1.2.159', 9042)]. Last error: timed out\n",
      "2024-11-22 12:40:18,111 - cassandra.pool - WARNING - Error attempting to reconnect to 10.1.2.166:9042, scheduling retry in 600.0 seconds: [Errno None] Tried connecting to [('10.1.2.166', 9042)]. Last error: timed out\n",
      "2024-11-22 12:41:44,237 - cassandra.pool - WARNING - Error attempting to reconnect to 10.1.2.159:9042, scheduling retry in 600.0 seconds: [Errno None] Tried connecting to [('10.1.2.159', 9042)]. Last error: timed out\n",
      "2024-11-22 12:43:06,657 - cassandra.pool - WARNING - Error attempting to reconnect to 10.1.2.166:9042, scheduling retry in 570.0 seconds: [Errno None] Tried connecting to [('10.1.2.166', 9042)]. Last error: timed out\n",
      "2024-11-22 12:43:30,485 - cassandra.pool - WARNING - Error attempting to reconnect to 10.1.2.159:9042, scheduling retry in 552.0 seconds: [Errno None] Tried connecting to [('10.1.2.159', 9042)]. Last error: timed out\n",
      "2024-11-22 12:44:02,550 - cassandra.pool - WARNING - Error attempting to reconnect to 10.1.2.166:9042, scheduling retry in 600.0 seconds: [Errno None] Tried connecting to [('10.1.2.166', 9042)]. Last error: timed out\n",
      "2024-11-22 12:44:06,054 - cassandra.pool - WARNING - Error attempting to reconnect to 10.1.2.159:9042, scheduling retry in 600.0 seconds: [Errno None] Tried connecting to [('10.1.2.159', 9042)]. Last error: timed out\n",
      "2024-11-22 12:44:34,512 - cassandra.pool - WARNING - Error attempting to reconnect to 10.1.2.166:9042, scheduling retry in 564.0 seconds: [Errno None] Tried connecting to [('10.1.2.166', 9042)]. Last error: timed out\n",
      "2024-11-22 12:44:48,087 - cassandra.pool - WARNING - Error attempting to reconnect to 10.1.2.159:9042, scheduling retry in 528.0 seconds: [Errno None] Tried connecting to [('10.1.2.159', 9042)]. Last error: timed out\n",
      "2024-11-22 12:45:04,516 - cassandra.pool - WARNING - Error attempting to reconnect to 10.1.2.166:9042, scheduling retry in 600.0 seconds: [Errno None] Tried connecting to [('10.1.2.166', 9042)]. Last error: timed out\n",
      "2024-11-22 12:46:17,507 - cassandra.pool - WARNING - Error attempting to reconnect to 10.1.2.166:9042, scheduling retry in 600.0 seconds: [Errno None] Tried connecting to [('10.1.2.166', 9042)]. Last error: timed out\n",
      "2024-11-22 12:47:11,204 - cassandra.pool - WARNING - Error attempting to reconnect to 10.1.2.166:9042, scheduling retry in 600.0 seconds: [Errno None] Tried connecting to [('10.1.2.166', 9042)]. Last error: timed out\n",
      "2024-11-22 12:48:04,570 - cassandra.pool - WARNING - Error attempting to reconnect to 10.1.2.159:9042, scheduling retry in 576.0 seconds: [Errno None] Tried connecting to [('10.1.2.159', 9042)]. Last error: timed out\n",
      "2024-11-22 12:48:13,391 - cassandra.pool - WARNING - Error attempting to reconnect to 10.1.2.159:9042, scheduling retry in 582.0 seconds: [Errno None] Tried connecting to [('10.1.2.159', 9042)]. Last error: timed out\n",
      "2024-11-22 12:49:02,055 - cassandra.pool - WARNING - Error attempting to reconnect to 10.1.2.166:9042, scheduling retry in 522.0 seconds: [Errno None] Tried connecting to [('10.1.2.166', 9042)]. Last error: timed out\n",
      "2024-11-22 12:49:55,225 - cassandra.pool - WARNING - Error attempting to reconnect to 10.1.2.159:9042, scheduling retry in 588.0 seconds: [Errno None] Tried connecting to [('10.1.2.159', 9042)]. Last error: timed out\n",
      "2024-11-22 12:49:56,881 - cassandra.pool - WARNING - Error attempting to reconnect to 10.1.2.159:9042, scheduling retry in 594.0 seconds: [Errno None] Tried connecting to [('10.1.2.159', 9042)]. Last error: timed out\n",
      "2024-11-22 12:50:23,223 - cassandra.pool - WARNING - Error attempting to reconnect to 10.1.2.166:9042, scheduling retry in 600.0 seconds: [Errno None] Tried connecting to [('10.1.2.166', 9042)]. Last error: timed out\n",
      "2024-11-22 12:51:49,317 - cassandra.pool - WARNING - Error attempting to reconnect to 10.1.2.159:9042, scheduling retry in 600.0 seconds: [Errno None] Tried connecting to [('10.1.2.159', 9042)]. Last error: timed out\n",
      "2024-11-22 12:52:41,755 - cassandra.pool - WARNING - Error attempting to reconnect to 10.1.2.166:9042, scheduling retry in 516.0 seconds: [Errno None] Tried connecting to [('10.1.2.166', 9042)]. Last error: timed out\n",
      "2024-11-22 12:52:47,545 - cassandra.pool - WARNING - Error attempting to reconnect to 10.1.2.159:9042, scheduling retry in 600.0 seconds: [Errno None] Tried connecting to [('10.1.2.159', 9042)]. Last error: timed out\n",
      "2024-11-22 12:53:41,197 - cassandra.pool - WARNING - Error attempting to reconnect to 10.1.2.159:9042, scheduling retry in 600.0 seconds: [Errno None] Tried connecting to [('10.1.2.159', 9042)]. Last error: timed out\n",
      "2024-11-22 12:54:03,525 - cassandra.pool - WARNING - Error attempting to reconnect to 10.1.2.166:9042, scheduling retry in 600.0 seconds: [Errno None] Tried connecting to [('10.1.2.166', 9042)]. Last error: timed out\n",
      "2024-11-22 12:54:07,635 - cassandra.pool - WARNING - Error attempting to reconnect to 10.1.2.166:9042, scheduling retry in 540.0 seconds: [Errno None] Tried connecting to [('10.1.2.166', 9042)]. Last error: timed out\n",
      "2024-11-22 12:54:11,122 - cassandra.pool - WARNING - Error attempting to reconnect to 10.1.2.159:9042, scheduling retry in 564.0 seconds: [Errno None] Tried connecting to [('10.1.2.159', 9042)]. Last error: timed out\n",
      "2024-11-22 12:55:09,597 - cassandra.pool - WARNING - Error attempting to reconnect to 10.1.2.166:9042, scheduling retry in 540.0 seconds: [Errno None] Tried connecting to [('10.1.2.166', 9042)]. Last error: timed out\n",
      "2024-11-22 12:56:22,556 - cassandra.pool - WARNING - Error attempting to reconnect to 10.1.2.166:9042, scheduling retry in 600.0 seconds: [Errno None] Tried connecting to [('10.1.2.166', 9042)]. Last error: timed out\n",
      "2024-11-22 12:57:16,267 - cassandra.pool - WARNING - Error attempting to reconnect to 10.1.2.166:9042, scheduling retry in 600.0 seconds: [Errno None] Tried connecting to [('10.1.2.166', 9042)]. Last error: timed out\n",
      "2024-11-22 12:57:45,588 - cassandra.pool - WARNING - Error attempting to reconnect to 10.1.2.159:9042, scheduling retry in 600.0 seconds: [Errno None] Tried connecting to [('10.1.2.159', 9042)]. Last error: timed out\n",
      "2024-11-22 12:57:49,126 - cassandra.pool - WARNING - Error attempting to reconnect to 10.1.2.166:9042, scheduling retry in 540.0 seconds: [Errno None] Tried connecting to [('10.1.2.166', 9042)]. Last error: timed out\n",
      "2024-11-22 12:58:00,398 - cassandra.pool - WARNING - Error attempting to reconnect to 10.1.2.159:9042, scheduling retry in 600.0 seconds: [Errno None] Tried connecting to [('10.1.2.159', 9042)]. Last error: timed out\n",
      "2024-11-22 12:59:48,297 - cassandra.pool - WARNING - Error attempting to reconnect to 10.1.2.159:9042, scheduling retry in 600.0 seconds: [Errno None] Tried connecting to [('10.1.2.159', 9042)]. Last error: timed out\n",
      "2024-11-22 12:59:55,967 - cassandra.pool - WARNING - Error attempting to reconnect to 10.1.2.159:9042, scheduling retry in 600.0 seconds: [Errno None] Tried connecting to [('10.1.2.159', 9042)]. Last error: timed out\n",
      "2024-11-22 13:00:28,314 - cassandra.pool - WARNING - Error attempting to reconnect to 10.1.2.166:9042, scheduling retry in 552.0 seconds: [Errno None] Tried connecting to [('10.1.2.166', 9042)]. Last error: timed out\n",
      "2024-11-22 13:01:22,845 - cassandra.pool - WARNING - Error attempting to reconnect to 10.1.2.166:9042, scheduling retry in 522.0 seconds: [Errno None] Tried connecting to [('10.1.2.166', 9042)]. Last error: timed out\n",
      "2024-11-22 13:01:54,369 - cassandra.pool - WARNING - Error attempting to reconnect to 10.1.2.159:9042, scheduling retry in 510.0 seconds: [Errno None] Tried connecting to [('10.1.2.159', 9042)]. Last error: timed out\n",
      "2024-11-22 13:02:52,622 - cassandra.pool - WARNING - Error attempting to reconnect to 10.1.2.159:9042, scheduling retry in 570.0 seconds: [Errno None] Tried connecting to [('10.1.2.159', 9042)]. Last error: timed out\n",
      "2024-11-22 13:03:12,655 - cassandra.pool - WARNING - Error attempting to reconnect to 10.1.2.166:9042, scheduling retry in 516.0 seconds: [Errno None] Tried connecting to [('10.1.2.166', 9042)]. Last error: timed out\n",
      "2024-11-22 13:03:40,132 - cassandra.pool - WARNING - Error attempting to reconnect to 10.1.2.159:9042, scheduling retry in 600.0 seconds: [Errno None] Tried connecting to [('10.1.2.159', 9042)]. Last error: timed out\n",
      "2024-11-22 13:03:46,281 - cassandra.pool - WARNING - Error attempting to reconnect to 10.1.2.159:9042, scheduling retry in 600.0 seconds: [Errno None] Tried connecting to [('10.1.2.159', 9042)]. Last error: timed out\n",
      "2024-11-22 13:04:08,605 - cassandra.pool - WARNING - Error attempting to reconnect to 10.1.2.166:9042, scheduling retry in 522.0 seconds: [Errno None] Tried connecting to [('10.1.2.166', 9042)]. Last error: timed out\n",
      "2024-11-22 13:04:14,717 - cassandra.pool - WARNING - Error attempting to reconnect to 10.1.2.166:9042, scheduling retry in 600.0 seconds: [Errno None] Tried connecting to [('10.1.2.166', 9042)]. Last error: timed out\n",
      "2024-11-22 13:06:27,649 - cassandra.pool - WARNING - Error attempting to reconnect to 10.1.2.166:9042, scheduling retry in 600.0 seconds: [Errno None] Tried connecting to [('10.1.2.166', 9042)]. Last error: timed out\n",
      "2024-11-22 13:06:54,186 - cassandra.pool - WARNING - Error attempting to reconnect to 10.1.2.166:9042, scheduling retry in 600.0 seconds: [Errno None] Tried connecting to [('10.1.2.166', 9042)]. Last error: timed out\n",
      "2024-11-22 13:07:21,387 - cassandra.pool - WARNING - Error attempting to reconnect to 10.1.2.166:9042, scheduling retry in 600.0 seconds: [Errno None] Tried connecting to [('10.1.2.166', 9042)]. Last error: timed out\n",
      "2024-11-22 13:07:50,660 - cassandra.pool - WARNING - Error attempting to reconnect to 10.1.2.159:9042, scheduling retry in 600.0 seconds: [Errno None] Tried connecting to [('10.1.2.159', 9042)]. Last error: timed out\n",
      "2024-11-22 13:08:05,519 - cassandra.pool - WARNING - Error attempting to reconnect to 10.1.2.159:9042, scheduling retry in 600.0 seconds: [Errno None] Tried connecting to [('10.1.2.159', 9042)]. Last error: timed out\n",
      "2024-11-22 13:09:45,378 - cassandra.pool - WARNING - Error attempting to reconnect to 10.1.2.166:9042, scheduling retry in 600.0 seconds: [Errno None] Tried connecting to [('10.1.2.166', 9042)]. Last error: timed out\n",
      "2024-11-22 13:09:53,357 - cassandra.pool - WARNING - Error attempting to reconnect to 10.1.2.159:9042, scheduling retry in 600.0 seconds: [Errno None] Tried connecting to [('10.1.2.159', 9042)]. Last error: timed out\n",
      "2024-11-22 13:10:00,998 - cassandra.pool - WARNING - Error attempting to reconnect to 10.1.2.159:9042, scheduling retry in 510.0 seconds: [Errno None] Tried connecting to [('10.1.2.159', 9042)]. Last error: timed out\n",
      "2024-11-22 13:10:09,896 - cassandra.pool - WARNING - Error attempting to reconnect to 10.1.2.166:9042, scheduling retry in 600.0 seconds: [Errno None] Tried connecting to [('10.1.2.166', 9042)]. Last error: timed out\n",
      "2024-11-22 13:10:29,398 - cassandra.pool - WARNING - Error attempting to reconnect to 10.1.2.159:9042, scheduling retry in 600.0 seconds: [Errno None] Tried connecting to [('10.1.2.159', 9042)]. Last error: timed out\n",
      "2024-11-22 13:11:53,694 - cassandra.pool - WARNING - Error attempting to reconnect to 10.1.2.166:9042, scheduling retry in 600.0 seconds: [Errno None] Tried connecting to [('10.1.2.166', 9042)]. Last error: timed out\n",
      "2024-11-22 13:12:27,708 - cassandra.pool - WARNING - Error attempting to reconnect to 10.1.2.159:9042, scheduling retry in 600.0 seconds: [Errno None] Tried connecting to [('10.1.2.159', 9042)]. Last error: timed out\n",
      "2024-11-22 13:12:55,659 - cassandra.pool - WARNING - Error attempting to reconnect to 10.1.2.166:9042, scheduling retry in 600.0 seconds: [Errno None] Tried connecting to [('10.1.2.166', 9042)]. Last error: timed out\n",
      "2024-11-22 13:13:45,207 - cassandra.pool - WARNING - Error attempting to reconnect to 10.1.2.159:9042, scheduling retry in 582.0 seconds: [Errno None] Tried connecting to [('10.1.2.159', 9042)]. Last error: timed out\n",
      "2024-11-22 13:13:51,313 - cassandra.pool - WARNING - Error attempting to reconnect to 10.1.2.159:9042, scheduling retry in 534.0 seconds: [Errno None] Tried connecting to [('10.1.2.159', 9042)]. Last error: timed out\n",
      "2024-11-22 13:14:19,773 - cassandra.pool - WARNING - Error attempting to reconnect to 10.1.2.166:9042, scheduling retry in 600.0 seconds: [Errno None] Tried connecting to [('10.1.2.166', 9042)]. Last error: timed out\n",
      "2024-11-22 13:16:32,743 - cassandra.pool - WARNING - Error attempting to reconnect to 10.1.2.166:9042, scheduling retry in 540.0 seconds: [Errno None] Tried connecting to [('10.1.2.166', 9042)]. Last error: timed out\n",
      "2024-11-22 13:16:59,242 - cassandra.pool - WARNING - Error attempting to reconnect to 10.1.2.166:9042, scheduling retry in 558.0 seconds: [Errno None] Tried connecting to [('10.1.2.166', 9042)]. Last error: timed out\n",
      "2024-11-22 13:17:26,462 - cassandra.pool - WARNING - Error attempting to reconnect to 10.1.2.166:9042, scheduling retry in 540.0 seconds: [Errno None] Tried connecting to [('10.1.2.166', 9042)]. Last error: timed out\n",
      "2024-11-22 13:17:55,739 - cassandra.pool - WARNING - Error attempting to reconnect to 10.1.2.159:9042, scheduling retry in 558.0 seconds: [Errno None] Tried connecting to [('10.1.2.159', 9042)]. Last error: timed out\n",
      "2024-11-22 13:18:10,556 - cassandra.pool - WARNING - Error attempting to reconnect to 10.1.2.159:9042, scheduling retry in 516.0 seconds: [Errno None] Tried connecting to [('10.1.2.159', 9042)]. Last error: timed out\n",
      "2024-11-22 13:18:36,060 - cassandra.pool - WARNING - Error attempting to reconnect to 10.1.2.159:9042, scheduling retry in 546.0 seconds: [Errno None] Tried connecting to [('10.1.2.159', 9042)]. Last error: timed out\n",
      "2024-11-22 13:19:50,441 - cassandra.pool - WARNING - Error attempting to reconnect to 10.1.2.166:9042, scheduling retry in 600.0 seconds: [Errno None] Tried connecting to [('10.1.2.166', 9042)]. Last error: timed out\n",
      "2024-11-22 13:19:58,384 - cassandra.pool - WARNING - Error attempting to reconnect to 10.1.2.159:9042, scheduling retry in 600.0 seconds: [Errno None] Tried connecting to [('10.1.2.159', 9042)]. Last error: timed out\n",
      "2024-11-22 13:20:14,969 - cassandra.pool - WARNING - Error attempting to reconnect to 10.1.2.166:9042, scheduling retry in 600.0 seconds: [Errno None] Tried connecting to [('10.1.2.166', 9042)]. Last error: timed out\n",
      "2024-11-22 13:20:34,470 - cassandra.pool - WARNING - Error attempting to reconnect to 10.1.2.159:9042, scheduling retry in 510.0 seconds: [Errno None] Tried connecting to [('10.1.2.159', 9042)]. Last error: timed out\n",
      "2024-11-22 13:21:58,788 - cassandra.pool - WARNING - Error attempting to reconnect to 10.1.2.166:9042, scheduling retry in 570.0 seconds: [Errno None] Tried connecting to [('10.1.2.166', 9042)]. Last error: timed out\n",
      "2024-11-22 13:22:32,731 - cassandra.pool - WARNING - Error attempting to reconnect to 10.1.2.159:9042, scheduling retry in 600.0 seconds: [Errno None] Tried connecting to [('10.1.2.159', 9042)]. Last error: timed out\n",
      "2024-11-22 13:22:50,348 - cassandra.pool - WARNING - Error attempting to reconnect to 10.1.2.159:9042, scheduling retry in 600.0 seconds: [Errno None] Tried connecting to [('10.1.2.159', 9042)]. Last error: timed out\n",
      "2024-11-22 13:23:00,683 - cassandra.pool - WARNING - Error attempting to reconnect to 10.1.2.166:9042, scheduling retry in 600.0 seconds: [Errno None] Tried connecting to [('10.1.2.166', 9042)]. Last error: timed out\n",
      "2024-11-22 13:23:32,296 - cassandra.pool - WARNING - Error attempting to reconnect to 10.1.2.159:9042, scheduling retry in 534.0 seconds: [Errno None] Tried connecting to [('10.1.2.159', 9042)]. Last error: timed out\n",
      "2024-11-22 13:24:24,817 - cassandra.pool - WARNING - Error attempting to reconnect to 10.1.2.166:9042, scheduling retry in 600.0 seconds: [Errno None] Tried connecting to [('10.1.2.166', 9042)]. Last error: timed out\n",
      "2024-11-22 13:25:37,794 - cassandra.pool - WARNING - Error attempting to reconnect to 10.1.2.166:9042, scheduling retry in 600.0 seconds: [Errno None] Tried connecting to [('10.1.2.166', 9042)]. Last error: timed out\n",
      "2024-11-22 13:26:22,292 - cassandra.pool - WARNING - Error attempting to reconnect to 10.1.2.166:9042, scheduling retry in 534.0 seconds: [Errno None] Tried connecting to [('10.1.2.166', 9042)]. Last error: timed out\n",
      "2024-11-22 13:26:31,541 - cassandra.pool - WARNING - Error attempting to reconnect to 10.1.2.166:9042, scheduling retry in 552.0 seconds: [Errno None] Tried connecting to [('10.1.2.166', 9042)]. Last error: timed out\n",
      "2024-11-22 13:26:51,580 - cassandra.pool - WARNING - Error attempting to reconnect to 10.1.2.159:9042, scheduling retry in 600.0 seconds: [Errno None] Tried connecting to [('10.1.2.159', 9042)]. Last error: timed out\n",
      "2024-11-22 13:27:18,816 - cassandra.pool - WARNING - Error attempting to reconnect to 10.1.2.159:9042, scheduling retry in 600.0 seconds: [Errno None] Tried connecting to [('10.1.2.159', 9042)]. Last error: timed out\n",
      "2024-11-22 13:27:47,107 - cassandra.pool - WARNING - Error attempting to reconnect to 10.1.2.159:9042, scheduling retry in 552.0 seconds: [Errno None] Tried connecting to [('10.1.2.159', 9042)]. Last error: timed out\n",
      "2024-11-22 13:29:09,497 - cassandra.pool - WARNING - Error attempting to reconnect to 10.1.2.159:9042, scheduling retry in 600.0 seconds: [Errno None] Tried connecting to [('10.1.2.159', 9042)]. Last error: timed out\n",
      "2024-11-22 13:29:55,508 - cassandra.pool - WARNING - Error attempting to reconnect to 10.1.2.166:9042, scheduling retry in 600.0 seconds: [Errno None] Tried connecting to [('10.1.2.166', 9042)]. Last error: timed out\n",
      "2024-11-22 13:30:03,455 - cassandra.pool - WARNING - Error attempting to reconnect to 10.1.2.159:9042, scheduling retry in 558.0 seconds: [Errno None] Tried connecting to [('10.1.2.159', 9042)]. Last error: timed out\n",
      "2024-11-22 13:30:20,062 - cassandra.pool - WARNING - Error attempting to reconnect to 10.1.2.166:9042, scheduling retry in 582.0 seconds: [Errno None] Tried connecting to [('10.1.2.166', 9042)]. Last error: timed out\n",
      "2024-11-22 13:31:33,844 - cassandra.pool - WARNING - Error attempting to reconnect to 10.1.2.166:9042, scheduling retry in 546.0 seconds: [Errno None] Tried connecting to [('10.1.2.166', 9042)]. Last error: timed out\n",
      "2024-11-22 13:32:31,358 - cassandra.pool - WARNING - Error attempting to reconnect to 10.1.2.159:9042, scheduling retry in 600.0 seconds: [Errno None] Tried connecting to [('10.1.2.159', 9042)]. Last error: timed out\n",
      "2024-11-22 13:32:37,754 - cassandra.pool - WARNING - Error attempting to reconnect to 10.1.2.159:9042, scheduling retry in 570.0 seconds: [Errno None] Tried connecting to [('10.1.2.159', 9042)]. Last error: timed out\n",
      "2024-11-22 13:32:55,380 - cassandra.pool - WARNING - Error attempting to reconnect to 10.1.2.159:9042, scheduling retry in 600.0 seconds: [Errno None] Tried connecting to [('10.1.2.159', 9042)]. Last error: timed out\n",
      "2024-11-22 13:33:05,763 - cassandra.pool - WARNING - Error attempting to reconnect to 10.1.2.166:9042, scheduling retry in 600.0 seconds: [Errno None] Tried connecting to [('10.1.2.166', 9042)]. Last error: timed out\n",
      "2024-11-22 13:34:29,899 - cassandra.pool - WARNING - Error attempting to reconnect to 10.1.2.166:9042, scheduling retry in 522.0 seconds: [Errno None] Tried connecting to [('10.1.2.166', 9042)]. Last error: timed out\n",
      "2024-11-22 13:35:21,353 - cassandra.pool - WARNING - Error attempting to reconnect to 10.1.2.166:9042, scheduling retry in 510.0 seconds: [Errno None] Tried connecting to [('10.1.2.166', 9042)]. Last error: timed out\n",
      "2024-11-22 13:35:42,812 - cassandra.pool - WARNING - Error attempting to reconnect to 10.1.2.166:9042, scheduling retry in 600.0 seconds: [Errno None] Tried connecting to [('10.1.2.166', 9042)]. Last error: timed out\n",
      "2024-11-22 13:35:48,604 - cassandra.pool - WARNING - Error attempting to reconnect to 10.1.2.166:9042, scheduling retry in 522.0 seconds: [Errno None] Tried connecting to [('10.1.2.166', 9042)]. Last error: timed out\n",
      "2024-11-22 13:36:56,688 - cassandra.pool - WARNING - Error attempting to reconnect to 10.1.2.159:9042, scheduling retry in 600.0 seconds: [Errno None] Tried connecting to [('10.1.2.159', 9042)]. Last error: timed out\n",
      "2024-11-22 13:37:04,139 - cassandra.pool - WARNING - Error attempting to reconnect to 10.1.2.159:9042, scheduling retry in 546.0 seconds: [Errno None] Tried connecting to [('10.1.2.159', 9042)]. Last error: timed out\n",
      "2024-11-22 13:37:23,870 - cassandra.pool - WARNING - Error attempting to reconnect to 10.1.2.159:9042, scheduling retry in 600.0 seconds: [Errno None] Tried connecting to [('10.1.2.159', 9042)]. Last error: timed out\n",
      "2024-11-22 13:39:14,594 - cassandra.pool - WARNING - Error attempting to reconnect to 10.1.2.159:9042, scheduling retry in 546.0 seconds: [Errno None] Tried connecting to [('10.1.2.159', 9042)]. Last error: timed out\n",
      "2024-11-22 13:39:26,570 - cassandra.pool - WARNING - Error attempting to reconnect to 10.1.2.159:9042, scheduling retry in 546.0 seconds: [Errno None] Tried connecting to [('10.1.2.159', 9042)]. Last error: timed out\n",
      "2024-11-22 13:40:00,619 - cassandra.pool - WARNING - Error attempting to reconnect to 10.1.2.166:9042, scheduling retry in 600.0 seconds: [Errno None] Tried connecting to [('10.1.2.166', 9042)]. Last error: timed out\n",
      "2024-11-22 13:40:07,126 - cassandra.pool - WARNING - Error attempting to reconnect to 10.1.2.166:9042, scheduling retry in 600.0 seconds: [Errno None] Tried connecting to [('10.1.2.166', 9042)]. Last error: timed out\n",
      "2024-11-22 13:40:44,873 - cassandra.pool - WARNING - Error attempting to reconnect to 10.1.2.166:9042, scheduling retry in 600.0 seconds: [Errno None] Tried connecting to [('10.1.2.166', 9042)]. Last error: timed out\n",
      "2024-11-22 13:42:12,808 - cassandra.pool - WARNING - Error attempting to reconnect to 10.1.2.159:9042, scheduling retry in 600.0 seconds: [Errno None] Tried connecting to [('10.1.2.159', 9042)]. Last error: timed out\n",
      "2024-11-22 13:42:36,446 - cassandra.pool - WARNING - Error attempting to reconnect to 10.1.2.159:9042, scheduling retry in 594.0 seconds: [Errno None] Tried connecting to [('10.1.2.159', 9042)]. Last error: timed out\n",
      "2024-11-22 13:43:00,473 - cassandra.pool - WARNING - Error attempting to reconnect to 10.1.2.159:9042, scheduling retry in 534.0 seconds: [Errno None] Tried connecting to [('10.1.2.159', 9042)]. Last error: timed out\n",
      "2024-11-22 13:43:10,782 - cassandra.pool - WARNING - Error attempting to reconnect to 10.1.2.166:9042, scheduling retry in 540.0 seconds: [Errno None] Tried connecting to [('10.1.2.166', 9042)]. Last error: timed out\n",
      "2024-11-22 13:43:16,988 - cassandra.pool - WARNING - Error attempting to reconnect to 10.1.2.166:9042, scheduling retry in 600.0 seconds: [Errno None] Tried connecting to [('10.1.2.166', 9042)]. Last error: timed out\n",
      "2024-11-22 13:43:56,377 - cassandra.pool - WARNING - Error attempting to reconnect to 10.1.2.166:9042, scheduling retry in 600.0 seconds: [Errno None] Tried connecting to [('10.1.2.166', 9042)]. Last error: timed out\n",
      "2024-11-22 13:44:35,613 - cassandra.pool - WARNING - Error attempting to reconnect to 10.1.2.166:9042, scheduling retry in 600.0 seconds: [Errno None] Tried connecting to [('10.1.2.166', 9042)]. Last error: timed out\n",
      "2024-11-22 13:45:47,882 - cassandra.pool - WARNING - Error attempting to reconnect to 10.1.2.166:9042, scheduling retry in 600.0 seconds: [Errno None] Tried connecting to [('10.1.2.166', 9042)]. Last error: timed out\n",
      "2024-11-22 13:46:15,244 - cassandra.pool - WARNING - Error attempting to reconnect to 10.1.2.159:9042, scheduling retry in 510.0 seconds: [Errno None] Tried connecting to [('10.1.2.159', 9042)]. Last error: timed out\n",
      "2024-11-22 13:47:01,802 - cassandra.pool - WARNING - Error attempting to reconnect to 10.1.2.159:9042, scheduling retry in 600.0 seconds: [Errno None] Tried connecting to [('10.1.2.159', 9042)]. Last error: timed out\n",
      "2024-11-22 13:47:28,908 - cassandra.pool - WARNING - Error attempting to reconnect to 10.1.2.159:9042, scheduling retry in 600.0 seconds: [Errno None] Tried connecting to [('10.1.2.159', 9042)]. Last error: timed out\n",
      "2024-11-22 13:48:25,677 - cassandra.pool - WARNING - Error attempting to reconnect to 10.1.2.159:9042, scheduling retry in 600.0 seconds: [Errno None] Tried connecting to [('10.1.2.159', 9042)]. Last error: timed out\n",
      "2024-11-22 13:48:37,635 - cassandra.pool - WARNING - Error attempting to reconnect to 10.1.2.159:9042, scheduling retry in 528.0 seconds: [Errno None] Tried connecting to [('10.1.2.159', 9042)]. Last error: timed out\n",
      "2024-11-22 13:50:05,646 - cassandra.pool - WARNING - Error attempting to reconnect to 10.1.2.166:9042, scheduling retry in 600.0 seconds: [Errno None] Tried connecting to [('10.1.2.166', 9042)]. Last error: timed out\n",
      "2024-11-22 13:50:12,188 - cassandra.pool - WARNING - Error attempting to reconnect to 10.1.2.166:9042, scheduling retry in 600.0 seconds: [Errno None] Tried connecting to [('10.1.2.166', 9042)]. Last error: timed out\n",
      "2024-11-22 13:50:49,916 - cassandra.pool - WARNING - Error attempting to reconnect to 10.1.2.166:9042, scheduling retry in 600.0 seconds: [Errno None] Tried connecting to [('10.1.2.166', 9042)]. Last error: timed out\n",
      "2024-11-22 13:51:59,584 - cassandra.pool - WARNING - Error attempting to reconnect to 10.1.2.159:9042, scheduling retry in 594.0 seconds: [Errno None] Tried connecting to [('10.1.2.159', 9042)]. Last error: timed out\n",
      "2024-11-22 13:52:15,871 - cassandra.pool - WARNING - Error attempting to reconnect to 10.1.2.166:9042, scheduling retry in 600.0 seconds: [Errno None] Tried connecting to [('10.1.2.166', 9042)]. Last error: timed out\n",
      "2024-11-22 13:52:17,870 - cassandra.pool - WARNING - Error attempting to reconnect to 10.1.2.159:9042, scheduling retry in 564.0 seconds: [Errno None] Tried connecting to [('10.1.2.159', 9042)]. Last error: timed out\n",
      "2024-11-22 13:52:35,465 - cassandra.pool - WARNING - Error attempting to reconnect to 10.1.2.159:9042, scheduling retry in 600.0 seconds: [Errno None] Tried connecting to [('10.1.2.159', 9042)]. Last error: timed out\n",
      "2024-11-22 13:53:22,020 - cassandra.pool - WARNING - Error attempting to reconnect to 10.1.2.166:9042, scheduling retry in 600.0 seconds: [Errno None] Tried connecting to [('10.1.2.166', 9042)]. Last error: timed out\n",
      "2024-11-22 13:54:01,453 - cassandra.pool - WARNING - Error attempting to reconnect to 10.1.2.166:9042, scheduling retry in 564.0 seconds: [Errno None] Tried connecting to [('10.1.2.166', 9042)]. Last error: timed out\n",
      "2024-11-22 13:54:40,692 - cassandra.pool - WARNING - Error attempting to reconnect to 10.1.2.166:9042, scheduling retry in 546.0 seconds: [Errno None] Tried connecting to [('10.1.2.166', 9042)]. Last error: timed out\n",
      "2024-11-22 13:54:50,311 - cassandra.pool - WARNING - Error attempting to reconnect to 10.1.2.159:9042, scheduling retry in 594.0 seconds: [Errno None] Tried connecting to [('10.1.2.159', 9042)]. Last error: timed out\n",
      "2024-11-22 13:55:52,924 - cassandra.pool - WARNING - Error attempting to reconnect to 10.1.2.166:9042, scheduling retry in 510.0 seconds: [Errno None] Tried connecting to [('10.1.2.166', 9042)]. Last error: timed out\n",
      "2024-11-22 13:57:06,874 - cassandra.pool - WARNING - Error attempting to reconnect to 10.1.2.159:9042, scheduling retry in 534.0 seconds: [Errno None] Tried connecting to [('10.1.2.159', 9042)]. Last error: timed out\n",
      "2024-11-22 13:57:30,747 - cassandra.pool - WARNING - Error attempting to reconnect to 10.1.2.159:9042, scheduling retry in 600.0 seconds: [Errno None] Tried connecting to [('10.1.2.159', 9042)]. Last error: timed out\n",
      "2024-11-22 13:57:33,993 - cassandra.pool - WARNING - Error attempting to reconnect to 10.1.2.159:9042, scheduling retry in 600.0 seconds: [Errno None] Tried connecting to [('10.1.2.159', 9042)]. Last error: timed out\n",
      "2024-11-22 13:58:30,689 - cassandra.pool - WARNING - Error attempting to reconnect to 10.1.2.159:9042, scheduling retry in 600.0 seconds: [Errno None] Tried connecting to [('10.1.2.159', 9042)]. Last error: timed out\n",
      "2024-11-22 14:00:10,752 - cassandra.pool - WARNING - Error attempting to reconnect to 10.1.2.166:9042, scheduling retry in 540.0 seconds: [Errno None] Tried connecting to [('10.1.2.166', 9042)]. Last error: timed out\n",
      "2024-11-22 14:00:17,292 - cassandra.pool - WARNING - Error attempting to reconnect to 10.1.2.166:9042, scheduling retry in 600.0 seconds: [Errno None] Tried connecting to [('10.1.2.166', 9042)]. Last error: timed out\n",
      "2024-11-22 14:00:55,009 - cassandra.pool - WARNING - Error attempting to reconnect to 10.1.2.166:9042, scheduling retry in 600.0 seconds: [Errno None] Tried connecting to [('10.1.2.166', 9042)]. Last error: timed out\n",
      "2024-11-22 14:01:46,966 - cassandra.pool - WARNING - Error attempting to reconnect to 10.1.2.159:9042, scheduling retry in 576.0 seconds: [Errno None] Tried connecting to [('10.1.2.159', 9042)]. Last error: timed out\n",
      "2024-11-22 14:01:58,666 - cassandra.pool - WARNING - Error attempting to reconnect to 10.1.2.159:9042, scheduling retry in 522.0 seconds: [Errno None] Tried connecting to [('10.1.2.159', 9042)]. Last error: timed out\n",
      "2024-11-22 14:02:20,980 - cassandra.pool - WARNING - Error attempting to reconnect to 10.1.2.166:9042, scheduling retry in 600.0 seconds: [Errno None] Tried connecting to [('10.1.2.166', 9042)]. Last error: timed out\n",
      "2024-11-22 14:02:40,478 - cassandra.pool - WARNING - Error attempting to reconnect to 10.1.2.159:9042, scheduling retry in 600.0 seconds: [Errno None] Tried connecting to [('10.1.2.159', 9042)]. Last error: timed out\n",
      "2024-11-22 14:03:27,104 - cassandra.pool - WARNING - Error attempting to reconnect to 10.1.2.166:9042, scheduling retry in 600.0 seconds: [Errno None] Tried connecting to [('10.1.2.166', 9042)]. Last error: timed out\n",
      "2024-11-22 14:03:30,560 - cassandra.pool - WARNING - Error attempting to reconnect to 10.1.2.166:9042, scheduling retry in 522.0 seconds: [Errno None] Tried connecting to [('10.1.2.166', 9042)]. Last error: timed out\n",
      "2024-11-22 14:03:51,789 - cassandra.pool - WARNING - Error attempting to reconnect to 10.1.2.166:9042, scheduling retry in 600.0 seconds: [Errno None] Tried connecting to [('10.1.2.166', 9042)]. Last error: timed out\n",
      "2024-11-22 14:04:28,014 - cassandra.pool - WARNING - Error attempting to reconnect to 10.1.2.166:9042, scheduling retry in 600.0 seconds: [Errno None] Tried connecting to [('10.1.2.166', 9042)]. Last error: timed out\n",
      "2024-11-22 14:04:49,354 - cassandra.pool - WARNING - Error attempting to reconnect to 10.1.2.159:9042, scheduling retry in 600.0 seconds: [Errno None] Tried connecting to [('10.1.2.159', 9042)]. Last error: timed out\n",
      "2024-11-22 14:06:05,969 - cassandra.pool - WARNING - Error attempting to reconnect to 10.1.2.159:9042, scheduling retry in 600.0 seconds: [Errno None] Tried connecting to [('10.1.2.159', 9042)]. Last error: timed out\n",
      "2024-11-22 14:07:35,773 - cassandra.pool - WARNING - Error attempting to reconnect to 10.1.2.159:9042, scheduling retry in 600.0 seconds: [Errno None] Tried connecting to [('10.1.2.159', 9042)]. Last error: timed out\n",
      "2024-11-22 14:07:39,082 - cassandra.pool - WARNING - Error attempting to reconnect to 10.1.2.159:9042, scheduling retry in 600.0 seconds: [Errno None] Tried connecting to [('10.1.2.159', 9042)]. Last error: timed out\n",
      "2024-11-22 14:08:35,742 - cassandra.pool - WARNING - Error attempting to reconnect to 10.1.2.159:9042, scheduling retry in 600.0 seconds: [Errno None] Tried connecting to [('10.1.2.159', 9042)]. Last error: timed out\n",
      "2024-11-22 14:09:15,786 - cassandra.pool - WARNING - Error attempting to reconnect to 10.1.2.166:9042, scheduling retry in 600.0 seconds: [Errno None] Tried connecting to [('10.1.2.166', 9042)]. Last error: timed out\n",
      "2024-11-22 14:10:22,329 - cassandra.pool - WARNING - Error attempting to reconnect to 10.1.2.166:9042, scheduling retry in 570.0 seconds: [Errno None] Tried connecting to [('10.1.2.166', 9042)]. Last error: timed out\n",
      "2024-11-22 14:10:45,783 - cassandra.pool - WARNING - Error attempting to reconnect to 10.1.2.159:9042, scheduling retry in 522.0 seconds: [Errno None] Tried connecting to [('10.1.2.159', 9042)]. Last error: timed out\n",
      "2024-11-22 14:11:00,111 - cassandra.pool - WARNING - Error attempting to reconnect to 10.1.2.166:9042, scheduling retry in 600.0 seconds: [Errno None] Tried connecting to [('10.1.2.166', 9042)]. Last error: timed out\n",
      "2024-11-22 14:11:27,971 - cassandra.pool - WARNING - Error attempting to reconnect to 10.1.2.159:9042, scheduling retry in 600.0 seconds: [Errno None] Tried connecting to [('10.1.2.159', 9042)]. Last error: timed out\n",
      "2024-11-22 14:12:17,598 - cassandra.pool - WARNING - Error attempting to reconnect to 10.1.2.166:9042, scheduling retry in 588.0 seconds: [Errno None] Tried connecting to [('10.1.2.166', 9042)]. Last error: timed out\n",
      "2024-11-22 14:12:26,047 - cassandra.pool - WARNING - Error attempting to reconnect to 10.1.2.166:9042, scheduling retry in 600.0 seconds: [Errno None] Tried connecting to [('10.1.2.166', 9042)]. Last error: timed out\n",
      "2024-11-22 14:12:45,556 - cassandra.pool - WARNING - Error attempting to reconnect to 10.1.2.159:9042, scheduling retry in 588.0 seconds: [Errno None] Tried connecting to [('10.1.2.159', 9042)]. Last error: timed out\n",
      "2024-11-22 14:13:32,121 - cassandra.pool - WARNING - Error attempting to reconnect to 10.1.2.166:9042, scheduling retry in 600.0 seconds: [Errno None] Tried connecting to [('10.1.2.166', 9042)]. Last error: timed out\n",
      "2024-11-22 14:13:56,817 - cassandra.pool - WARNING - Error attempting to reconnect to 10.1.2.166:9042, scheduling retry in 564.0 seconds: [Errno None] Tried connecting to [('10.1.2.166', 9042)]. Last error: timed out\n",
      "2024-11-22 14:14:33,050 - cassandra.pool - WARNING - Error attempting to reconnect to 10.1.2.166:9042, scheduling retry in 552.0 seconds: [Errno None] Tried connecting to [('10.1.2.166', 9042)]. Last error: timed out\n",
      "2024-11-22 14:14:54,389 - cassandra.pool - WARNING - Error attempting to reconnect to 10.1.2.159:9042, scheduling retry in 600.0 seconds: [Errno None] Tried connecting to [('10.1.2.159', 9042)]. Last error: timed out\n",
      "2024-11-22 14:16:11,048 - cassandra.pool - WARNING - Error attempting to reconnect to 10.1.2.159:9042, scheduling retry in 600.0 seconds: [Errno None] Tried connecting to [('10.1.2.159', 9042)]. Last error: timed out\n",
      "2024-11-22 14:17:40,789 - cassandra.pool - WARNING - Error attempting to reconnect to 10.1.2.159:9042, scheduling retry in 516.0 seconds: [Errno None] Tried connecting to [('10.1.2.159', 9042)]. Last error: timed out\n",
      "2024-11-22 14:17:44,120 - cassandra.pool - WARNING - Error attempting to reconnect to 10.1.2.159:9042, scheduling retry in 600.0 seconds: [Errno None] Tried connecting to [('10.1.2.159', 9042)]. Last error: timed out\n",
      "2024-11-22 14:18:40,846 - cassandra.pool - WARNING - Error attempting to reconnect to 10.1.2.159:9042, scheduling retry in 516.0 seconds: [Errno None] Tried connecting to [('10.1.2.159', 9042)]. Last error: timed out\n",
      "2024-11-22 14:19:20,799 - cassandra.pool - WARNING - Error attempting to reconnect to 10.1.2.166:9042, scheduling retry in 564.0 seconds: [Errno None] Tried connecting to [('10.1.2.166', 9042)]. Last error: timed out\n",
      "2024-11-22 14:19:32,833 - cassandra.pool - WARNING - Error attempting to reconnect to 10.1.2.159:9042, scheduling retry in 600.0 seconds: [Errno None] Tried connecting to [('10.1.2.159', 9042)]. Last error: timed out\n",
      "2024-11-22 14:19:57,344 - cassandra.pool - WARNING - Error attempting to reconnect to 10.1.2.166:9042, scheduling retry in 600.0 seconds: [Errno None] Tried connecting to [('10.1.2.166', 9042)]. Last error: timed out\n",
      "2024-11-22 14:21:05,200 - cassandra.pool - WARNING - Error attempting to reconnect to 10.1.2.166:9042, scheduling retry in 600.0 seconds: [Errno None] Tried connecting to [('10.1.2.166', 9042)]. Last error: timed out\n",
      "2024-11-22 14:21:33,078 - cassandra.pool - WARNING - Error attempting to reconnect to 10.1.2.159:9042, scheduling retry in 570.0 seconds: [Errno None] Tried connecting to [('10.1.2.159', 9042)]. Last error: timed out\n",
      "2024-11-22 14:22:10,645 - cassandra.pool - WARNING - Error attempting to reconnect to 10.1.2.166:9042, scheduling retry in 600.0 seconds: [Errno None] Tried connecting to [('10.1.2.166', 9042)]. Last error: timed out\n",
      "2024-11-22 14:22:31,087 - cassandra.pool - WARNING - Error attempting to reconnect to 10.1.2.166:9042, scheduling retry in 600.0 seconds: [Errno None] Tried connecting to [('10.1.2.166', 9042)]. Last error: timed out\n",
      "2024-11-22 14:22:38,652 - cassandra.pool - WARNING - Error attempting to reconnect to 10.1.2.159:9042, scheduling retry in 600.0 seconds: [Errno None] Tried connecting to [('10.1.2.159', 9042)]. Last error: timed out\n",
      "2024-11-22 14:23:25,923 - cassandra.pool - WARNING - Error attempting to reconnect to 10.1.2.166:9042, scheduling retry in 540.0 seconds: [Errno None] Tried connecting to [('10.1.2.166', 9042)]. Last error: timed out\n",
      "2024-11-22 14:23:37,185 - cassandra.pool - WARNING - Error attempting to reconnect to 10.1.2.166:9042, scheduling retry in 600.0 seconds: [Errno None] Tried connecting to [('10.1.2.166', 9042)]. Last error: timed out\n",
      "2024-11-22 14:23:50,107 - cassandra.pool - WARNING - Error attempting to reconnect to 10.1.2.166:9042, scheduling retry in 600.0 seconds: [Errno None] Tried connecting to [('10.1.2.166', 9042)]. Last error: timed out\n",
      "2024-11-22 14:24:59,436 - cassandra.pool - WARNING - Error attempting to reconnect to 10.1.2.159:9042, scheduling retry in 600.0 seconds: [Errno None] Tried connecting to [('10.1.2.159', 9042)]. Last error: timed out\n",
      "2024-11-22 14:26:16,087 - cassandra.pool - WARNING - Error attempting to reconnect to 10.1.2.159:9042, scheduling retry in 600.0 seconds: [Errno None] Tried connecting to [('10.1.2.159', 9042)]. Last error: timed out\n",
      "2024-11-22 14:26:21,882 - cassandra.pool - WARNING - Error attempting to reconnect to 10.1.2.159:9042, scheduling retry in 600.0 seconds: [Errno None] Tried connecting to [('10.1.2.159', 9042)]. Last error: timed out\n",
      "2024-11-22 14:27:21,905 - cassandra.pool - WARNING - Error attempting to reconnect to 10.1.2.159:9042, scheduling retry in 546.0 seconds: [Errno None] Tried connecting to [('10.1.2.159', 9042)]. Last error: timed out\n",
      "2024-11-22 14:27:49,153 - cassandra.pool - WARNING - Error attempting to reconnect to 10.1.2.159:9042, scheduling retry in 588.0 seconds: [Errno None] Tried connecting to [('10.1.2.159', 9042)]. Last error: timed out\n",
      "2024-11-22 14:28:49,893 - cassandra.pool - WARNING - Error attempting to reconnect to 10.1.2.166:9042, scheduling retry in 600.0 seconds: [Errno None] Tried connecting to [('10.1.2.166', 9042)]. Last error: timed out\n",
      "2024-11-22 14:29:37,868 - cassandra.pool - WARNING - Error attempting to reconnect to 10.1.2.159:9042, scheduling retry in 600.0 seconds: [Errno None] Tried connecting to [('10.1.2.159', 9042)]. Last error: timed out\n",
      "2024-11-22 14:30:02,393 - cassandra.pool - WARNING - Error attempting to reconnect to 10.1.2.166:9042, scheduling retry in 600.0 seconds: [Errno None] Tried connecting to [('10.1.2.166', 9042)]. Last error: timed out\n",
      "2024-11-22 14:31:08,085 - cassandra.pool - WARNING - Error attempting to reconnect to 10.1.2.159:9042, scheduling retry in 600.0 seconds: [Errno None] Tried connecting to [('10.1.2.159', 9042)]. Last error: timed out\n",
      "2024-11-22 14:31:10,311 - cassandra.pool - WARNING - Error attempting to reconnect to 10.1.2.166:9042, scheduling retry in 600.0 seconds: [Errno None] Tried connecting to [('10.1.2.166', 9042)]. Last error: timed out\n",
      "2024-11-22 14:32:15,695 - cassandra.pool - WARNING - Error attempting to reconnect to 10.1.2.166:9042, scheduling retry in 582.0 seconds: [Errno None] Tried connecting to [('10.1.2.166', 9042)]. Last error: timed out\n",
      "2024-11-22 14:32:31,044 - cassandra.pool - WARNING - Error attempting to reconnect to 10.1.2.166:9042, scheduling retry in 600.0 seconds: [Errno None] Tried connecting to [('10.1.2.166', 9042)]. Last error: timed out\n",
      "2024-11-22 14:32:36,185 - cassandra.pool - WARNING - Error attempting to reconnect to 10.1.2.166:9042, scheduling retry in 540.0 seconds: [Errno None] Tried connecting to [('10.1.2.166', 9042)]. Last error: timed out\n",
      "2024-11-22 14:32:43,738 - cassandra.pool - WARNING - Error attempting to reconnect to 10.1.2.159:9042, scheduling retry in 576.0 seconds: [Errno None] Tried connecting to [('10.1.2.159', 9042)]. Last error: timed out\n",
      "2024-11-22 14:33:42,250 - cassandra.pool - WARNING - Error attempting to reconnect to 10.1.2.166:9042, scheduling retry in 576.0 seconds: [Errno None] Tried connecting to [('10.1.2.166', 9042)]. Last error: timed out\n",
      "2024-11-22 14:33:55,200 - cassandra.pool - WARNING - Error attempting to reconnect to 10.1.2.166:9042, scheduling retry in 600.0 seconds: [Errno None] Tried connecting to [('10.1.2.166', 9042)]. Last error: timed out\n",
      "2024-11-22 14:35:04,534 - cassandra.pool - WARNING - Error attempting to reconnect to 10.1.2.159:9042, scheduling retry in 600.0 seconds: [Errno None] Tried connecting to [('10.1.2.159', 9042)]. Last error: timed out\n",
      "2024-11-22 14:36:21,175 - cassandra.pool - WARNING - Error attempting to reconnect to 10.1.2.159:9042, scheduling retry in 516.0 seconds: [Errno None] Tried connecting to [('10.1.2.159', 9042)]. Last error: timed out\n",
      "2024-11-22 14:36:26,973 - cassandra.pool - WARNING - Error attempting to reconnect to 10.1.2.159:9042, scheduling retry in 600.0 seconds: [Errno None] Tried connecting to [('10.1.2.159', 9042)]. Last error: timed out\n",
      "2024-11-22 14:36:32,942 - cassandra.pool - WARNING - Error attempting to reconnect to 10.1.2.159:9042, scheduling retry in 600.0 seconds: [Errno None] Tried connecting to [('10.1.2.159', 9042)]. Last error: timed out\n",
      "2024-11-22 14:37:42,165 - cassandra.pool - WARNING - Error attempting to reconnect to 10.1.2.159:9042, scheduling retry in 552.0 seconds: [Errno None] Tried connecting to [('10.1.2.159', 9042)]. Last error: timed out\n",
      "2024-11-22 14:38:54,933 - cassandra.pool - WARNING - Error attempting to reconnect to 10.1.2.166:9042, scheduling retry in 600.0 seconds: [Errno None] Tried connecting to [('10.1.2.166', 9042)]. Last error: timed out\n",
      "2024-11-22 14:39:42,925 - cassandra.pool - WARNING - Error attempting to reconnect to 10.1.2.159:9042, scheduling retry in 558.0 seconds: [Errno None] Tried connecting to [('10.1.2.159', 9042)]. Last error: timed out\n",
      "2024-11-22 14:40:07,437 - cassandra.pool - WARNING - Error attempting to reconnect to 10.1.2.166:9042, scheduling retry in 600.0 seconds: [Errno None] Tried connecting to [('10.1.2.166', 9042)]. Last error: timed out\n",
      "2024-11-22 14:41:13,152 - cassandra.pool - WARNING - Error attempting to reconnect to 10.1.2.159:9042, scheduling retry in 540.0 seconds: [Errno None] Tried connecting to [('10.1.2.159', 9042)]. Last error: timed out\n",
      "2024-11-22 14:41:15,422 - cassandra.pool - WARNING - Error attempting to reconnect to 10.1.2.166:9042, scheduling retry in 600.0 seconds: [Errno None] Tried connecting to [('10.1.2.166', 9042)]. Last error: timed out\n",
      "2024-11-22 14:41:41,278 - cassandra.pool - WARNING - Error attempting to reconnect to 10.1.2.166:9042, scheduling retry in 528.0 seconds: [Errno None] Tried connecting to [('10.1.2.166', 9042)]. Last error: timed out\n",
      "2024-11-22 14:42:02,758 - cassandra.pool - WARNING - Error attempting to reconnect to 10.1.2.166:9042, scheduling retry in 600.0 seconds: [Errno None] Tried connecting to [('10.1.2.166', 9042)]. Last error: timed out\n",
      "2024-11-22 14:42:24,844 - cassandra.pool - WARNING - Error attempting to reconnect to 10.1.2.159:9042, scheduling retry in 600.0 seconds: [Errno None] Tried connecting to [('10.1.2.159', 9042)]. Last error: timed out\n",
      "2024-11-22 14:42:36,063 - cassandra.pool - WARNING - Error attempting to reconnect to 10.1.2.166:9042, scheduling retry in 522.0 seconds: [Errno None] Tried connecting to [('10.1.2.166', 9042)]. Last error: timed out\n",
      "2024-11-22 14:43:23,300 - cassandra.pool - WARNING - Error attempting to reconnect to 10.1.2.166:9042, scheduling retry in 600.0 seconds: [Errno None] Tried connecting to [('10.1.2.166', 9042)]. Last error: timed out\n",
      "2024-11-22 14:44:00,288 - cassandra.pool - WARNING - Error attempting to reconnect to 10.1.2.166:9042, scheduling retry in 600.0 seconds: [Errno None] Tried connecting to [('10.1.2.166', 9042)]. Last error: timed out\n",
      "2024-11-22 14:45:02,183 - cassandra.pool - WARNING - Error attempting to reconnect to 10.1.2.159:9042, scheduling retry in 570.0 seconds: [Errno None] Tried connecting to [('10.1.2.159', 9042)]. Last error: timed out\n",
      "2024-11-22 14:45:09,617 - cassandra.pool - WARNING - Error attempting to reconnect to 10.1.2.159:9042, scheduling retry in 600.0 seconds: [Errno None] Tried connecting to [('10.1.2.159', 9042)]. Last error: timed out\n",
      "2024-11-22 14:46:32,025 - cassandra.pool - WARNING - Error attempting to reconnect to 10.1.2.159:9042, scheduling retry in 600.0 seconds: [Errno None] Tried connecting to [('10.1.2.159', 9042)]. Last error: timed out\n",
      "2024-11-22 14:46:37,955 - cassandra.pool - WARNING - Error attempting to reconnect to 10.1.2.159:9042, scheduling retry in 600.0 seconds: [Errno None] Tried connecting to [('10.1.2.159', 9042)]. Last error: timed out\n",
      "2024-11-22 14:46:59,271 - cassandra.pool - WARNING - Error attempting to reconnect to 10.1.2.159:9042, scheduling retry in 528.0 seconds: [Errno None] Tried connecting to [('10.1.2.159', 9042)]. Last error: timed out\n",
      "2024-11-22 14:48:59,977 - cassandra.pool - WARNING - Error attempting to reconnect to 10.1.2.166:9042, scheduling retry in 600.0 seconds: [Errno None] Tried connecting to [('10.1.2.166', 9042)]. Last error: timed out\n",
      "2024-11-22 14:49:06,006 - cassandra.pool - WARNING - Error attempting to reconnect to 10.1.2.159:9042, scheduling retry in 558.0 seconds: [Errno None] Tried connecting to [('10.1.2.159', 9042)]. Last error: timed out\n",
      "2024-11-22 14:50:12,472 - cassandra.pool - WARNING - Error attempting to reconnect to 10.1.2.166:9042, scheduling retry in 600.0 seconds: [Errno None] Tried connecting to [('10.1.2.166', 9042)]. Last error: timed out\n",
      "2024-11-22 14:50:18,169 - cassandra.pool - WARNING - Error attempting to reconnect to 10.1.2.159:9042, scheduling retry in 564.0 seconds: [Errno None] Tried connecting to [('10.1.2.159', 9042)]. Last error: timed out\n",
      "2024-11-22 14:50:34,384 - cassandra.pool - WARNING - Error attempting to reconnect to 10.1.2.166:9042, scheduling retry in 522.0 seconds: [Errno None] Tried connecting to [('10.1.2.166', 9042)]. Last error: timed out\n",
      "2024-11-22 14:51:20,533 - cassandra.pool - WARNING - Error attempting to reconnect to 10.1.2.166:9042, scheduling retry in 600.0 seconds: [Errno None] Tried connecting to [('10.1.2.166', 9042)]. Last error: timed out\n",
      "2024-11-22 14:51:23,121 - cassandra.pool - WARNING - Error attempting to reconnect to 10.1.2.166:9042, scheduling retry in 600.0 seconds: [Errno None] Tried connecting to [('10.1.2.166', 9042)]. Last error: timed out\n",
      "2024-11-22 14:52:07,814 - cassandra.pool - WARNING - Error attempting to reconnect to 10.1.2.166:9042, scheduling retry in 594.0 seconds: [Errno None] Tried connecting to [('10.1.2.166', 9042)]. Last error: timed out\n",
      "2024-11-22 14:52:29,954 - cassandra.pool - WARNING - Error attempting to reconnect to 10.1.2.159:9042, scheduling retry in 600.0 seconds: [Errno None] Tried connecting to [('10.1.2.159', 9042)]. Last error: timed out\n",
      "2024-11-22 14:53:28,408 - cassandra.pool - WARNING - Error attempting to reconnect to 10.1.2.166:9042, scheduling retry in 600.0 seconds: [Errno None] Tried connecting to [('10.1.2.166', 9042)]. Last error: timed out\n",
      "2024-11-22 14:54:05,378 - cassandra.pool - WARNING - Error attempting to reconnect to 10.1.2.166:9042, scheduling retry in 600.0 seconds: [Errno None] Tried connecting to [('10.1.2.166', 9042)]. Last error: timed out\n",
      "2024-11-22 14:54:37,226 - cassandra.pool - WARNING - Error attempting to reconnect to 10.1.2.159:9042, scheduling retry in 534.0 seconds: [Errno None] Tried connecting to [('10.1.2.159', 9042)]. Last error: timed out\n",
      "2024-11-22 14:55:14,675 - cassandra.pool - WARNING - Error attempting to reconnect to 10.1.2.159:9042, scheduling retry in 600.0 seconds: [Errno None] Tried connecting to [('10.1.2.159', 9042)]. Last error: timed out\n",
      "2024-11-22 14:55:52,304 - cassandra.pool - WARNING - Error attempting to reconnect to 10.1.2.159:9042, scheduling retry in 600.0 seconds: [Errno None] Tried connecting to [('10.1.2.159', 9042)]. Last error: timed out\n",
      "2024-11-22 14:56:37,080 - cassandra.pool - WARNING - Error attempting to reconnect to 10.1.2.159:9042, scheduling retry in 600.0 seconds: [Errno None] Tried connecting to [('10.1.2.159', 9042)]. Last error: timed out\n",
      "2024-11-22 14:56:42,985 - cassandra.pool - WARNING - Error attempting to reconnect to 10.1.2.159:9042, scheduling retry in 534.0 seconds: [Errno None] Tried connecting to [('10.1.2.159', 9042)]. Last error: timed out\n",
      "2024-11-22 14:58:29,075 - cassandra.pool - WARNING - Error attempting to reconnect to 10.1.2.159:9042, scheduling retry in 600.0 seconds: [Errno None] Tried connecting to [('10.1.2.159', 9042)]. Last error: timed out\n",
      "2024-11-22 14:59:05,058 - cassandra.pool - WARNING - Error attempting to reconnect to 10.1.2.166:9042, scheduling retry in 600.0 seconds: [Errno None] Tried connecting to [('10.1.2.166', 9042)]. Last error: timed out\n",
      "2024-11-22 14:59:21,456 - cassandra.pool - WARNING - Error attempting to reconnect to 10.1.2.166:9042, scheduling retry in 552.0 seconds: [Errno None] Tried connecting to [('10.1.2.166', 9042)]. Last error: timed out\n",
      "2024-11-22 14:59:47,265 - cassandra.pool - WARNING - Error attempting to reconnect to 10.1.2.159:9042, scheduling retry in 600.0 seconds: [Errno None] Tried connecting to [('10.1.2.159', 9042)]. Last error: timed out\n",
      "2024-11-22 15:00:17,500 - cassandra.pool - WARNING - Error attempting to reconnect to 10.1.2.166:9042, scheduling retry in 588.0 seconds: [Errno None] Tried connecting to [('10.1.2.166', 9042)]. Last error: timed out\n",
      "2024-11-22 15:01:25,540 - cassandra.pool - WARNING - Error attempting to reconnect to 10.1.2.166:9042, scheduling retry in 600.0 seconds: [Errno None] Tried connecting to [('10.1.2.166', 9042)]. Last error: timed out\n",
      "2024-11-22 15:01:28,167 - cassandra.pool - WARNING - Error attempting to reconnect to 10.1.2.166:9042, scheduling retry in 600.0 seconds: [Errno None] Tried connecting to [('10.1.2.166', 9042)]. Last error: timed out\n",
      "2024-11-22 15:02:06,912 - cassandra.pool - WARNING - Error attempting to reconnect to 10.1.2.166:9042, scheduling retry in 546.0 seconds: [Errno None] Tried connecting to [('10.1.2.166', 9042)]. Last error: timed out\n",
      "2024-11-22 15:02:35,059 - cassandra.pool - WARNING - Error attempting to reconnect to 10.1.2.159:9042, scheduling retry in 528.0 seconds: [Errno None] Tried connecting to [('10.1.2.159', 9042)]. Last error: timed out\n",
      "2024-11-22 15:03:33,473 - cassandra.pool - WARNING - Error attempting to reconnect to 10.1.2.166:9042, scheduling retry in 576.0 seconds: [Errno None] Tried connecting to [('10.1.2.166', 9042)]. Last error: timed out\n",
      "2024-11-22 15:03:36,332 - cassandra.pool - WARNING - Error attempting to reconnect to 10.1.2.159:9042, scheduling retry in 594.0 seconds: [Errno None] Tried connecting to [('10.1.2.159', 9042)]. Last error: timed out\n",
      "2024-11-22 15:04:10,459 - cassandra.pool - WARNING - Error attempting to reconnect to 10.1.2.166:9042, scheduling retry in 600.0 seconds: [Errno None] Tried connecting to [('10.1.2.166', 9042)]. Last error: timed out\n",
      "2024-11-22 15:05:19,777 - cassandra.pool - WARNING - Error attempting to reconnect to 10.1.2.159:9042, scheduling retry in 600.0 seconds: [Errno None] Tried connecting to [('10.1.2.159', 9042)]. Last error: timed out\n",
      "2024-11-22 15:05:41,997 - cassandra.pool - WARNING - Error attempting to reconnect to 10.1.2.159:9042, scheduling retry in 600.0 seconds: [Errno None] Tried connecting to [('10.1.2.159', 9042)]. Last error: timed out\n",
      "2024-11-22 15:05:57,326 - cassandra.pool - WARNING - Error attempting to reconnect to 10.1.2.159:9042, scheduling retry in 576.0 seconds: [Errno None] Tried connecting to [('10.1.2.159', 9042)]. Last error: timed out\n",
      "2024-11-22 15:06:42,092 - cassandra.pool - WARNING - Error attempting to reconnect to 10.1.2.159:9042, scheduling retry in 600.0 seconds: [Errno None] Tried connecting to [('10.1.2.159', 9042)]. Last error: timed out\n",
      "2024-11-22 15:08:34,197 - cassandra.pool - WARNING - Error attempting to reconnect to 10.1.2.159:9042, scheduling retry in 546.0 seconds: [Errno None] Tried connecting to [('10.1.2.159', 9042)]. Last error: timed out\n",
      "2024-11-22 15:08:38,574 - cassandra.pool - WARNING - Error attempting to reconnect to 10.1.2.166:9042, scheduling retry in 534.0 seconds: [Errno None] Tried connecting to [('10.1.2.166', 9042)]. Last error: timed out\n",
      "2024-11-22 15:09:10,066 - cassandra.pool - WARNING - Error attempting to reconnect to 10.1.2.166:9042, scheduling retry in 600.0 seconds: [Errno None] Tried connecting to [('10.1.2.166', 9042)]. Last error: timed out\n",
      "2024-11-22 15:09:52,306 - cassandra.pool - WARNING - Error attempting to reconnect to 10.1.2.159:9042, scheduling retry in 600.0 seconds: [Errno None] Tried connecting to [('10.1.2.159', 9042)]. Last error: timed out\n",
      "2024-11-22 15:10:10,523 - cassandra.pool - WARNING - Error attempting to reconnect to 10.1.2.166:9042, scheduling retry in 600.0 seconds: [Errno None] Tried connecting to [('10.1.2.166', 9042)]. Last error: timed out\n",
      "2024-11-22 15:11:17,922 - cassandra.pool - WARNING - Error attempting to reconnect to 10.1.2.166:9042, scheduling retry in 510.0 seconds: [Errno None] Tried connecting to [('10.1.2.166', 9042)]. Last error: timed out\n",
      "2024-11-22 15:11:28,121 - cassandra.pool - WARNING - Error attempting to reconnect to 10.1.2.159:9042, scheduling retry in 594.0 seconds: [Errno None] Tried connecting to [('10.1.2.159', 9042)]. Last error: timed out\n",
      "2024-11-22 15:11:30,621 - cassandra.pool - WARNING - Error attempting to reconnect to 10.1.2.166:9042, scheduling retry in 558.0 seconds: [Errno None] Tried connecting to [('10.1.2.166', 9042)]. Last error: timed out\n",
      "2024-11-22 15:11:33,226 - cassandra.pool - WARNING - Error attempting to reconnect to 10.1.2.166:9042, scheduling retry in 600.0 seconds: [Errno None] Tried connecting to [('10.1.2.166', 9042)]. Last error: timed out\n",
      "2024-11-22 15:13:14,557 - cassandra.pool - WARNING - Error attempting to reconnect to 10.1.2.166:9042, scheduling retry in 564.0 seconds: [Errno None] Tried connecting to [('10.1.2.166', 9042)]. Last error: timed out\n",
      "2024-11-22 15:13:35,435 - cassandra.pool - WARNING - Error attempting to reconnect to 10.1.2.159:9042, scheduling retry in 600.0 seconds: [Errno None] Tried connecting to [('10.1.2.159', 9042)]. Last error: timed out\n",
      "2024-11-22 15:14:15,474 - cassandra.pool - WARNING - Error attempting to reconnect to 10.1.2.166:9042, scheduling retry in 576.0 seconds: [Errno None] Tried connecting to [('10.1.2.166', 9042)]. Last error: timed out\n",
      "2024-11-22 15:15:24,826 - cassandra.pool - WARNING - Error attempting to reconnect to 10.1.2.159:9042, scheduling retry in 534.0 seconds: [Errno None] Tried connecting to [('10.1.2.159', 9042)]. Last error: timed out\n",
      "2024-11-22 15:15:38,388 - cassandra.pool - WARNING - Error attempting to reconnect to 10.1.2.159:9042, scheduling retry in 594.0 seconds: [Errno None] Tried connecting to [('10.1.2.159', 9042)]. Last error: timed out\n",
      "2024-11-22 15:15:47,042 - cassandra.pool - WARNING - Error attempting to reconnect to 10.1.2.159:9042, scheduling retry in 600.0 seconds: [Errno None] Tried connecting to [('10.1.2.159', 9042)]. Last error: timed out\n",
      "2024-11-22 15:16:47,140 - cassandra.pool - WARNING - Error attempting to reconnect to 10.1.2.159:9042, scheduling retry in 600.0 seconds: [Errno None] Tried connecting to [('10.1.2.159', 9042)]. Last error: timed out\n",
      "2024-11-22 15:17:37,588 - cassandra.pool - WARNING - Error attempting to reconnect to 10.1.2.166:9042, scheduling retry in 528.0 seconds: [Errno None] Tried connecting to [('10.1.2.166', 9042)]. Last error: timed out\n",
      "2024-11-22 15:17:45,248 - cassandra.pool - WARNING - Error attempting to reconnect to 10.1.2.159:9042, scheduling retry in 516.0 seconds: [Errno None] Tried connecting to [('10.1.2.159', 9042)]. Last error: timed out\n",
      "2024-11-22 15:19:15,111 - cassandra.pool - WARNING - Error attempting to reconnect to 10.1.2.166:9042, scheduling retry in 600.0 seconds: [Errno None] Tried connecting to [('10.1.2.166', 9042)]. Last error: timed out\n",
      "2024-11-22 15:19:53,004 - cassandra.pool - WARNING - Error attempting to reconnect to 10.1.2.166:9042, scheduling retry in 510.0 seconds: [Errno None] Tried connecting to [('10.1.2.166', 9042)]. Last error: timed out\n",
      "2024-11-22 15:19:57,387 - cassandra.pool - WARNING - Error attempting to reconnect to 10.1.2.159:9042, scheduling retry in 600.0 seconds: [Errno None] Tried connecting to [('10.1.2.159', 9042)]. Last error: timed out\n",
      "2024-11-22 15:20:15,571 - cassandra.pool - WARNING - Error attempting to reconnect to 10.1.2.166:9042, scheduling retry in 552.0 seconds: [Errno None] Tried connecting to [('10.1.2.166', 9042)]. Last error: timed out\n",
      "2024-11-22 15:20:53,691 - cassandra.pool - WARNING - Error attempting to reconnect to 10.1.2.166:9042, scheduling retry in 570.0 seconds: [Errno None] Tried connecting to [('10.1.2.166', 9042)]. Last error: timed out\n",
      "2024-11-22 15:21:27,186 - cassandra.pool - WARNING - Error attempting to reconnect to 10.1.2.159:9042, scheduling retry in 600.0 seconds: [Errno None] Tried connecting to [('10.1.2.159', 9042)]. Last error: timed out\n",
      "2024-11-22 15:21:38,328 - cassandra.pool - WARNING - Error attempting to reconnect to 10.1.2.166:9042, scheduling retry in 588.0 seconds: [Errno None] Tried connecting to [('10.1.2.166', 9042)]. Last error: timed out\n",
      "2024-11-22 15:22:43,584 - cassandra.pool - WARNING - Error attempting to reconnect to 10.1.2.166:9042, scheduling retry in 528.0 seconds: [Errno None] Tried connecting to [('10.1.2.166', 9042)]. Last error: timed out\n",
      "2024-11-22 15:23:40,496 - cassandra.pool - WARNING - Error attempting to reconnect to 10.1.2.159:9042, scheduling retry in 588.0 seconds: [Errno None] Tried connecting to [('10.1.2.159', 9042)]. Last error: timed out\n",
      "2024-11-22 15:23:56,551 - cassandra.pool - WARNING - Error attempting to reconnect to 10.1.2.166:9042, scheduling retry in 600.0 seconds: [Errno None] Tried connecting to [('10.1.2.166', 9042)]. Last error: timed out\n",
      "2024-11-22 15:24:23,862 - cassandra.pool - WARNING - Error attempting to reconnect to 10.1.2.159:9042, scheduling retry in 528.0 seconds: [Errno None] Tried connecting to [('10.1.2.159', 9042)]. Last error: timed out\n",
      "2024-11-22 15:25:37,410 - cassandra.pool - WARNING - Error attempting to reconnect to 10.1.2.159:9042, scheduling retry in 564.0 seconds: [Errno None] Tried connecting to [('10.1.2.159', 9042)]. Last error: timed out\n",
      "2024-11-22 15:25:52,086 - cassandra.pool - WARNING - Error attempting to reconnect to 10.1.2.159:9042, scheduling retry in 600.0 seconds: [Errno None] Tried connecting to [('10.1.2.159', 9042)]. Last error: timed out\n",
      "2024-11-22 15:26:26,284 - cassandra.pool - WARNING - Error attempting to reconnect to 10.1.2.159:9042, scheduling retry in 516.0 seconds: [Errno None] Tried connecting to [('10.1.2.159', 9042)]. Last error: timed out\n",
      "2024-11-22 15:26:30,675 - cassandra.pool - WARNING - Error attempting to reconnect to 10.1.2.166:9042, scheduling retry in 582.0 seconds: [Errno None] Tried connecting to [('10.1.2.166', 9042)]. Last error: timed out\n",
      "2024-11-22 15:26:52,202 - cassandra.pool - WARNING - Error attempting to reconnect to 10.1.2.159:9042, scheduling retry in 516.0 seconds: [Errno None] Tried connecting to [('10.1.2.159', 9042)]. Last error: timed out\n",
      "2024-11-22 15:28:28,017 - cassandra.pool - WARNING - Error attempting to reconnect to 10.1.2.166:9042, scheduling retry in 594.0 seconds: [Errno None] Tried connecting to [('10.1.2.166', 9042)]. Last error: timed out\n",
      "2024-11-22 15:29:20,155 - cassandra.pool - WARNING - Error attempting to reconnect to 10.1.2.166:9042, scheduling retry in 600.0 seconds: [Errno None] Tried connecting to [('10.1.2.166', 9042)]. Last error: timed out\n",
      "2024-11-22 15:29:32,637 - cassandra.pool - WARNING - Error attempting to reconnect to 10.1.2.166:9042, scheduling retry in 600.0 seconds: [Errno None] Tried connecting to [('10.1.2.166', 9042)]. Last error: timed out\n",
      "2024-11-22 15:30:02,452 - cassandra.pool - WARNING - Error attempting to reconnect to 10.1.2.159:9042, scheduling retry in 564.0 seconds: [Errno None] Tried connecting to [('10.1.2.159', 9042)]. Last error: timed out\n",
      "2024-11-22 15:30:28,707 - cassandra.pool - WARNING - Error attempting to reconnect to 10.1.2.166:9042, scheduling retry in 600.0 seconds: [Errno None] Tried connecting to [('10.1.2.166', 9042)]. Last error: timed out\n",
      "2024-11-22 15:31:31,371 - cassandra.pool - WARNING - Error attempting to reconnect to 10.1.2.166:9042, scheduling retry in 600.0 seconds: [Errno None] Tried connecting to [('10.1.2.166', 9042)]. Last error: timed out\n",
      "2024-11-22 15:31:32,219 - cassandra.pool - WARNING - Error attempting to reconnect to 10.1.2.159:9042, scheduling retry in 600.0 seconds: [Errno None] Tried connecting to [('10.1.2.159', 9042)]. Last error: timed out\n",
      "2024-11-22 15:31:36,633 - cassandra.pool - WARNING - Error attempting to reconnect to 10.1.2.166:9042, scheduling retry in 600.0 seconds: [Errno None] Tried connecting to [('10.1.2.166', 9042)]. Last error: timed out\n",
      "2024-11-22 15:33:16,966 - cassandra.pool - WARNING - Error attempting to reconnect to 10.1.2.159:9042, scheduling retry in 522.0 seconds: [Errno None] Tried connecting to [('10.1.2.159', 9042)]. Last error: timed out\n",
      "2024-11-22 15:33:33,598 - cassandra.pool - WARNING - Error attempting to reconnect to 10.1.2.159:9042, scheduling retry in 600.0 seconds: [Errno None] Tried connecting to [('10.1.2.159', 9042)]. Last error: timed out\n",
      "2024-11-22 15:34:01,608 - cassandra.pool - WARNING - Error attempting to reconnect to 10.1.2.166:9042, scheduling retry in 600.0 seconds: [Errno None] Tried connecting to [('10.1.2.166', 9042)]. Last error: timed out\n",
      "2024-11-22 15:35:06,526 - cassandra.pool - WARNING - Error attempting to reconnect to 10.1.2.159:9042, scheduling retry in 600.0 seconds: [Errno None] Tried connecting to [('10.1.2.159', 9042)]. Last error: timed out\n",
      "2024-11-22 15:35:07,405 - cassandra.pool - WARNING - Error attempting to reconnect to 10.1.2.159:9042, scheduling retry in 600.0 seconds: [Errno None] Tried connecting to [('10.1.2.159', 9042)]. Last error: timed out\n",
      "2024-11-22 15:35:33,236 - cassandra.pool - WARNING - Error attempting to reconnect to 10.1.2.159:9042, scheduling retry in 528.0 seconds: [Errno None] Tried connecting to [('10.1.2.159', 9042)]. Last error: timed out\n",
      "2024-11-22 15:35:57,171 - cassandra.pool - WARNING - Error attempting to reconnect to 10.1.2.159:9042, scheduling retry in 600.0 seconds: [Errno None] Tried connecting to [('10.1.2.159', 9042)]. Last error: timed out\n",
      "2024-11-22 15:36:17,719 - cassandra.pool - WARNING - Error attempting to reconnect to 10.1.2.166:9042, scheduling retry in 528.0 seconds: [Errno None] Tried connecting to [('10.1.2.166', 9042)]. Last error: timed out\n",
      "2024-11-22 15:38:27,041 - cassandra.pool - WARNING - Error attempting to reconnect to 10.1.2.166:9042, scheduling retry in 558.0 seconds: [Errno None] Tried connecting to [('10.1.2.166', 9042)]. Last error: timed out\n",
      "2024-11-22 15:39:25,220 - cassandra.pool - WARNING - Error attempting to reconnect to 10.1.2.166:9042, scheduling retry in 600.0 seconds: [Errno None] Tried connecting to [('10.1.2.166', 9042)]. Last error: timed out\n",
      "2024-11-22 15:39:31,471 - cassandra.pool - WARNING - Error attempting to reconnect to 10.1.2.159:9042, scheduling retry in 600.0 seconds: [Errno None] Tried connecting to [('10.1.2.159', 9042)]. Last error: timed out\n",
      "2024-11-22 15:39:37,691 - cassandra.pool - WARNING - Error attempting to reconnect to 10.1.2.166:9042, scheduling retry in 600.0 seconds: [Errno None] Tried connecting to [('10.1.2.166', 9042)]. Last error: timed out\n",
      "2024-11-22 15:40:33,799 - cassandra.pool - WARNING - Error attempting to reconnect to 10.1.2.166:9042, scheduling retry in 588.0 seconds: [Errno None] Tried connecting to [('10.1.2.166', 9042)]. Last error: timed out\n",
      "2024-11-22 15:41:36,464 - cassandra.pool - WARNING - Error attempting to reconnect to 10.1.2.166:9042, scheduling retry in 546.0 seconds: [Errno None] Tried connecting to [('10.1.2.166', 9042)]. Last error: timed out\n",
      "2024-11-22 15:41:37,308 - cassandra.pool - WARNING - Error attempting to reconnect to 10.1.2.159:9042, scheduling retry in 600.0 seconds: [Errno None] Tried connecting to [('10.1.2.159', 9042)]. Last error: timed out\n",
      "2024-11-22 15:41:41,683 - cassandra.pool - WARNING - Error attempting to reconnect to 10.1.2.166:9042, scheduling retry in 540.0 seconds: [Errno None] Tried connecting to [('10.1.2.166', 9042)]. Last error: timed out\n",
      "2024-11-22 15:42:04,010 - cassandra.pool - WARNING - Error attempting to reconnect to 10.1.2.159:9042, scheduling retry in 600.0 seconds: [Errno None] Tried connecting to [('10.1.2.159', 9042)]. Last error: timed out\n",
      "2024-11-22 15:43:38,637 - cassandra.pool - WARNING - Error attempting to reconnect to 10.1.2.159:9042, scheduling retry in 522.0 seconds: [Errno None] Tried connecting to [('10.1.2.159', 9042)]. Last error: timed out\n",
      "2024-11-22 15:44:06,707 - cassandra.pool - WARNING - Error attempting to reconnect to 10.1.2.166:9042, scheduling retry in 600.0 seconds: [Errno None] Tried connecting to [('10.1.2.166', 9042)]. Last error: timed out\n",
      "2024-11-22 15:44:26,270 - cassandra.pool - WARNING - Error attempting to reconnect to 10.1.2.159:9042, scheduling retry in 552.0 seconds: [Errno None] Tried connecting to [('10.1.2.159', 9042)]. Last error: timed out\n",
      "2024-11-22 15:45:10,793 - cassandra.pool - WARNING - Error attempting to reconnect to 10.1.2.166:9042, scheduling retry in 600.0 seconds: [Errno None] Tried connecting to [('10.1.2.166', 9042)]. Last error: timed out\n",
      "2024-11-22 15:45:11,553 - cassandra.pool - WARNING - Error attempting to reconnect to 10.1.2.159:9042, scheduling retry in 600.0 seconds: [Errno None] Tried connecting to [('10.1.2.159', 9042)]. Last error: timed out\n",
      "2024-11-22 15:45:12,435 - cassandra.pool - WARNING - Error attempting to reconnect to 10.1.2.159:9042, scheduling retry in 570.0 seconds: [Errno None] Tried connecting to [('10.1.2.159', 9042)]. Last error: timed out\n",
      "2024-11-22 15:46:02,216 - cassandra.pool - WARNING - Error attempting to reconnect to 10.1.2.159:9042, scheduling retry in 600.0 seconds: [Errno None] Tried connecting to [('10.1.2.159', 9042)]. Last error: timed out\n",
      "2024-11-22 15:47:50,079 - cassandra.pool - WARNING - Error attempting to reconnect to 10.1.2.166:9042, scheduling retry in 558.0 seconds: [Errno None] Tried connecting to [('10.1.2.166', 9042)]. Last error: timed out\n",
      "2024-11-22 15:49:30,329 - cassandra.pool - WARNING - Error attempting to reconnect to 10.1.2.166:9042, scheduling retry in 564.0 seconds: [Errno None] Tried connecting to [('10.1.2.166', 9042)]. Last error: timed out\n",
      "2024-11-22 15:49:36,516 - cassandra.pool - WARNING - Error attempting to reconnect to 10.1.2.159:9042, scheduling retry in 600.0 seconds: [Errno None] Tried connecting to [('10.1.2.159', 9042)]. Last error: timed out\n",
      "2024-11-22 15:49:42,781 - cassandra.pool - WARNING - Error attempting to reconnect to 10.1.2.166:9042, scheduling retry in 564.0 seconds: [Errno None] Tried connecting to [('10.1.2.166', 9042)]. Last error: timed out\n",
      "2024-11-22 15:50:26,846 - cassandra.pool - WARNING - Error attempting to reconnect to 10.1.2.166:9042, scheduling retry in 528.0 seconds: [Errno None] Tried connecting to [('10.1.2.166', 9042)]. Last error: timed out\n",
      "2024-11-22 15:50:46,800 - cassandra.pool - WARNING - Error attempting to reconnect to 10.1.2.166:9042, scheduling retry in 600.0 seconds: [Errno None] Tried connecting to [('10.1.2.166', 9042)]. Last error: timed out\n",
      "2024-11-22 15:50:47,565 - cassandra.pool - WARNING - Error attempting to reconnect to 10.1.2.166:9042, scheduling retry in 600.0 seconds: [Errno None] Tried connecting to [('10.1.2.166', 9042)]. Last error: timed out\n",
      "2024-11-22 15:51:42,352 - cassandra.pool - WARNING - Error attempting to reconnect to 10.1.2.159:9042, scheduling retry in 594.0 seconds: [Errno None] Tried connecting to [('10.1.2.159', 9042)]. Last error: timed out\n",
      "2024-11-22 15:52:09,045 - cassandra.pool - WARNING - Error attempting to reconnect to 10.1.2.159:9042, scheduling retry in 558.0 seconds: [Errno None] Tried connecting to [('10.1.2.159', 9042)]. Last error: timed out\n",
      "2024-11-22 15:52:25,723 - cassandra.pool - WARNING - Error attempting to reconnect to 10.1.2.159:9042, scheduling retry in 600.0 seconds: [Errno None] Tried connecting to [('10.1.2.159', 9042)]. Last error: timed out\n",
      "2024-11-22 15:53:43,374 - cassandra.pool - WARNING - Error attempting to reconnect to 10.1.2.159:9042, scheduling retry in 510.0 seconds: [Errno None] Tried connecting to [('10.1.2.159', 9042)]. Last error: timed out\n",
      "2024-11-22 15:54:11,821 - cassandra.pool - WARNING - Error attempting to reconnect to 10.1.2.166:9042, scheduling retry in 600.0 seconds: [Errno None] Tried connecting to [('10.1.2.166', 9042)]. Last error: timed out\n",
      "2024-11-22 15:54:47,544 - cassandra.pool - WARNING - Error attempting to reconnect to 10.1.2.159:9042, scheduling retry in 594.0 seconds: [Errno None] Tried connecting to [('10.1.2.159', 9042)]. Last error: timed out\n",
      "2024-11-22 15:55:15,856 - cassandra.pool - WARNING - Error attempting to reconnect to 10.1.2.166:9042, scheduling retry in 570.0 seconds: [Errno None] Tried connecting to [('10.1.2.166', 9042)]. Last error: timed out\n",
      "2024-11-22 15:55:16,577 - cassandra.pool - WARNING - Error attempting to reconnect to 10.1.2.159:9042, scheduling retry in 600.0 seconds: [Errno None] Tried connecting to [('10.1.2.159', 9042)]. Last error: timed out\n",
      "2024-11-22 15:56:07,312 - cassandra.pool - WARNING - Error attempting to reconnect to 10.1.2.159:9042, scheduling retry in 600.0 seconds: [Errno None] Tried connecting to [('10.1.2.159', 9042)]. Last error: timed out\n",
      "2024-11-22 15:57:13,119 - cassandra.pool - WARNING - Error attempting to reconnect to 10.1.2.166:9042, scheduling retry in 528.0 seconds: [Errno None] Tried connecting to [('10.1.2.166', 9042)]. Last error: timed out\n",
      "2024-11-22 15:58:59,379 - cassandra.pool - WARNING - Error attempting to reconnect to 10.1.2.166:9042, scheduling retry in 600.0 seconds: [Errno None] Tried connecting to [('10.1.2.166', 9042)]. Last error: timed out\n",
      "2024-11-22 15:59:11,810 - cassandra.pool - WARNING - Error attempting to reconnect to 10.1.2.166:9042, scheduling retry in 600.0 seconds: [Errno None] Tried connecting to [('10.1.2.166', 9042)]. Last error: timed out\n",
      "2024-11-22 15:59:19,895 - cassandra.pool - WARNING - Error attempting to reconnect to 10.1.2.166:9042, scheduling retry in 600.0 seconds: [Errno None] Tried connecting to [('10.1.2.166', 9042)]. Last error: timed out\n",
      "2024-11-22 15:59:41,611 - cassandra.pool - WARNING - Error attempting to reconnect to 10.1.2.159:9042, scheduling retry in 600.0 seconds: [Errno None] Tried connecting to [('10.1.2.159', 9042)]. Last error: timed out\n",
      "2024-11-22 16:00:51,872 - cassandra.pool - WARNING - Error attempting to reconnect to 10.1.2.166:9042, scheduling retry in 600.0 seconds: [Errno None] Tried connecting to [('10.1.2.166', 9042)]. Last error: timed out\n",
      "2024-11-22 16:00:52,654 - cassandra.pool - WARNING - Error attempting to reconnect to 10.1.2.166:9042, scheduling retry in 558.0 seconds: [Errno None] Tried connecting to [('10.1.2.166', 9042)]. Last error: timed out\n",
      "2024-11-22 16:01:32,062 - cassandra.pool - WARNING - Error attempting to reconnect to 10.1.2.159:9042, scheduling retry in 600.0 seconds: [Errno None] Tried connecting to [('10.1.2.159', 9042)]. Last error: timed out\n",
      "2024-11-22 16:01:41,379 - cassandra.pool - WARNING - Error attempting to reconnect to 10.1.2.159:9042, scheduling retry in 600.0 seconds: [Errno None] Tried connecting to [('10.1.2.159', 9042)]. Last error: timed out\n",
      "2024-11-22 16:02:18,387 - cassandra.pool - WARNING - Error attempting to reconnect to 10.1.2.159:9042, scheduling retry in 600.0 seconds: [Errno None] Tried connecting to [('10.1.2.159', 9042)]. Last error: timed out\n",
      "2024-11-22 16:02:30,809 - cassandra.pool - WARNING - Error attempting to reconnect to 10.1.2.159:9042, scheduling retry in 558.0 seconds: [Errno None] Tried connecting to [('10.1.2.159', 9042)]. Last error: timed out\n",
      "2024-11-22 16:04:16,904 - cassandra.pool - WARNING - Error attempting to reconnect to 10.1.2.166:9042, scheduling retry in 546.0 seconds: [Errno None] Tried connecting to [('10.1.2.166', 9042)]. Last error: timed out\n",
      "2024-11-22 16:04:46,620 - cassandra.pool - WARNING - Error attempting to reconnect to 10.1.2.159:9042, scheduling retry in 600.0 seconds: [Errno None] Tried connecting to [('10.1.2.159', 9042)]. Last error: timed out\n",
      "2024-11-22 16:04:50,884 - cassandra.pool - WARNING - Error attempting to reconnect to 10.1.2.166:9042, scheduling retry in 546.0 seconds: [Errno None] Tried connecting to [('10.1.2.166', 9042)]. Last error: timed out\n",
      "2024-11-22 16:05:21,698 - cassandra.pool - WARNING - Error attempting to reconnect to 10.1.2.159:9042, scheduling retry in 600.0 seconds: [Errno None] Tried connecting to [('10.1.2.159', 9042)]. Last error: timed out\n",
      "2024-11-22 16:06:06,212 - cassandra.pool - WARNING - Error attempting to reconnect to 10.1.2.166:9042, scheduling retry in 510.0 seconds: [Errno None] Tried connecting to [('10.1.2.166', 9042)]. Last error: timed out\n",
      "2024-11-22 16:06:12,407 - cassandra.pool - WARNING - Error attempting to reconnect to 10.1.2.159:9042, scheduling retry in 600.0 seconds: [Errno None] Tried connecting to [('10.1.2.159', 9042)]. Last error: timed out\n",
      "2024-11-22 16:09:04,404 - cassandra.pool - WARNING - Error attempting to reconnect to 10.1.2.166:9042, scheduling retry in 564.0 seconds: [Errno None] Tried connecting to [('10.1.2.166', 9042)]. Last error: timed out\n",
      "2024-11-22 16:09:16,905 - cassandra.pool - WARNING - Error attempting to reconnect to 10.1.2.166:9042, scheduling retry in 540.0 seconds: [Errno None] Tried connecting to [('10.1.2.166', 9042)]. Last error: timed out\n",
      "2024-11-22 16:09:25,006 - cassandra.pool - WARNING - Error attempting to reconnect to 10.1.2.166:9042, scheduling retry in 522.0 seconds: [Errno None] Tried connecting to [('10.1.2.166', 9042)]. Last error: timed out\n",
      "2024-11-22 16:09:46,693 - cassandra.pool - WARNING - Error attempting to reconnect to 10.1.2.159:9042, scheduling retry in 510.0 seconds: [Errno None] Tried connecting to [('10.1.2.159', 9042)]. Last error: timed out\n",
      "2024-11-22 16:10:15,735 - cassandra.pool - WARNING - Error attempting to reconnect to 10.1.2.166:9042, scheduling retry in 600.0 seconds: [Errno None] Tried connecting to [('10.1.2.166', 9042)]. Last error: timed out\n",
      "2024-11-22 16:10:56,929 - cassandra.pool - WARNING - Error attempting to reconnect to 10.1.2.166:9042, scheduling retry in 600.0 seconds: [Errno None] Tried connecting to [('10.1.2.166', 9042)]. Last error: timed out\n",
      "2024-11-22 16:11:37,088 - cassandra.pool - WARNING - Error attempting to reconnect to 10.1.2.159:9042, scheduling retry in 600.0 seconds: [Errno None] Tried connecting to [('10.1.2.159', 9042)]. Last error: timed out\n",
      "2024-11-22 16:11:46,440 - cassandra.pool - WARNING - Error attempting to reconnect to 10.1.2.159:9042, scheduling retry in 600.0 seconds: [Errno None] Tried connecting to [('10.1.2.159', 9042)]. Last error: timed out\n",
      "2024-11-22 16:11:53,834 - cassandra.pool - WARNING - Error attempting to reconnect to 10.1.2.159:9042, scheduling retry in 510.0 seconds: [Errno None] Tried connecting to [('10.1.2.159', 9042)]. Last error: timed out\n",
      "2024-11-22 16:12:23,465 - cassandra.pool - WARNING - Error attempting to reconnect to 10.1.2.159:9042, scheduling retry in 600.0 seconds: [Errno None] Tried connecting to [('10.1.2.159', 9042)]. Last error: timed out\n",
      "2024-11-22 16:13:27,981 - cassandra.pool - WARNING - Error attempting to reconnect to 10.1.2.166:9042, scheduling retry in 588.0 seconds: [Errno None] Tried connecting to [('10.1.2.166', 9042)]. Last error: timed out\n",
      "2024-11-22 16:14:01,901 - cassandra.pool - WARNING - Error attempting to reconnect to 10.1.2.166:9042, scheduling retry in 570.0 seconds: [Errno None] Tried connecting to [('10.1.2.166', 9042)]. Last error: timed out\n",
      "2024-11-22 16:14:41,308 - cassandra.pool - WARNING - Error attempting to reconnect to 10.1.2.166:9042, scheduling retry in 600.0 seconds: [Errno None] Tried connecting to [('10.1.2.166', 9042)]. Last error: timed out\n",
      "2024-11-22 16:14:51,711 - cassandra.pool - WARNING - Error attempting to reconnect to 10.1.2.159:9042, scheduling retry in 600.0 seconds: [Errno None] Tried connecting to [('10.1.2.159', 9042)]. Last error: timed out\n",
      "2024-11-22 16:15:26,759 - cassandra.pool - WARNING - Error attempting to reconnect to 10.1.2.159:9042, scheduling retry in 600.0 seconds: [Errno None] Tried connecting to [('10.1.2.159', 9042)]. Last error: timed out\n",
      "2024-11-22 16:16:17,414 - cassandra.pool - WARNING - Error attempting to reconnect to 10.1.2.159:9042, scheduling retry in 558.0 seconds: [Errno None] Tried connecting to [('10.1.2.159', 9042)]. Last error: timed out\n",
      "2024-11-22 16:18:12,069 - cassandra.pool - WARNING - Error attempting to reconnect to 10.1.2.166:9042, scheduling retry in 582.0 seconds: [Errno None] Tried connecting to [('10.1.2.166', 9042)]. Last error: timed out\n",
      "2024-11-22 16:18:21,795 - cassandra.pool - WARNING - Error attempting to reconnect to 10.1.2.159:9042, scheduling retry in 600.0 seconds: [Errno None] Tried connecting to [('10.1.2.159', 9042)]. Last error: timed out\n",
      "2024-11-22 16:18:22,014 - cassandra.pool - WARNING - Error attempting to reconnect to 10.1.2.166:9042, scheduling retry in 528.0 seconds: [Errno None] Tried connecting to [('10.1.2.166', 9042)]. Last error: timed out\n",
      "2024-11-22 16:18:33,482 - cassandra.pool - WARNING - Error attempting to reconnect to 10.1.2.166:9042, scheduling retry in 600.0 seconds: [Errno None] Tried connecting to [('10.1.2.166', 9042)]. Last error: timed out\n",
      "2024-11-22 16:20:20,846 - cassandra.pool - WARNING - Error attempting to reconnect to 10.1.2.166:9042, scheduling retry in 600.0 seconds: [Errno None] Tried connecting to [('10.1.2.166', 9042)]. Last error: timed out\n",
      "2024-11-22 16:20:28,932 - cassandra.pool - WARNING - Error attempting to reconnect to 10.1.2.159:9042, scheduling retry in 552.0 seconds: [Errno None] Tried connecting to [('10.1.2.159', 9042)]. Last error: timed out\n",
      "2024-11-22 16:21:01,985 - cassandra.pool - WARNING - Error attempting to reconnect to 10.1.2.166:9042, scheduling retry in 600.0 seconds: [Errno None] Tried connecting to [('10.1.2.166', 9042)]. Last error: timed out\n",
      "2024-11-22 16:21:42,190 - cassandra.pool - WARNING - Error attempting to reconnect to 10.1.2.159:9042, scheduling retry in 510.0 seconds: [Errno None] Tried connecting to [('10.1.2.159', 9042)]. Last error: timed out\n",
      "2024-11-22 16:21:51,454 - cassandra.pool - WARNING - Error attempting to reconnect to 10.1.2.159:9042, scheduling retry in 516.0 seconds: [Errno None] Tried connecting to [('10.1.2.159', 9042)]. Last error: timed out\n",
      "2024-11-22 16:22:28,524 - cassandra.pool - WARNING - Error attempting to reconnect to 10.1.2.159:9042, scheduling retry in 600.0 seconds: [Errno None] Tried connecting to [('10.1.2.159', 9042)]. Last error: timed out\n",
      "2024-11-22 16:23:21,049 - cassandra.pool - WARNING - Error attempting to reconnect to 10.1.2.166:9042, scheduling retry in 570.0 seconds: [Errno None] Tried connecting to [('10.1.2.166', 9042)]. Last error: timed out\n",
      "2024-11-22 16:23:36,929 - cassandra.pool - WARNING - Error attempting to reconnect to 10.1.2.166:9042, scheduling retry in 570.0 seconds: [Errno None] Tried connecting to [('10.1.2.166', 9042)]. Last error: timed out\n",
      "2024-11-22 16:24:46,335 - cassandra.pool - WARNING - Error attempting to reconnect to 10.1.2.166:9042, scheduling retry in 600.0 seconds: [Errno None] Tried connecting to [('10.1.2.166', 9042)]. Last error: timed out\n",
      "2024-11-22 16:24:56,720 - cassandra.pool - WARNING - Error attempting to reconnect to 10.1.2.159:9042, scheduling retry in 600.0 seconds: [Errno None] Tried connecting to [('10.1.2.159', 9042)]. Last error: timed out\n",
      "2024-11-22 16:25:31,787 - cassandra.pool - WARNING - Error attempting to reconnect to 10.1.2.159:9042, scheduling retry in 600.0 seconds: [Errno None] Tried connecting to [('10.1.2.159', 9042)]. Last error: timed out\n",
      "2024-11-22 16:25:40,431 - cassandra.pool - WARNING - Error attempting to reconnect to 10.1.2.159:9042, scheduling retry in 600.0 seconds: [Errno None] Tried connecting to [('10.1.2.159', 9042)]. Last error: timed out\n",
      "2024-11-22 16:27:15,113 - cassandra.pool - WARNING - Error attempting to reconnect to 10.1.2.166:9042, scheduling retry in 594.0 seconds: [Errno None] Tried connecting to [('10.1.2.166', 9042)]. Last error: timed out\n",
      "2024-11-22 16:27:59,083 - cassandra.pool - WARNING - Error attempting to reconnect to 10.1.2.166:9042, scheduling retry in 600.0 seconds: [Errno None] Tried connecting to [('10.1.2.166', 9042)]. Last error: timed out\n",
      "2024-11-22 16:28:26,843 - cassandra.pool - WARNING - Error attempting to reconnect to 10.1.2.159:9042, scheduling retry in 600.0 seconds: [Errno None] Tried connecting to [('10.1.2.159', 9042)]. Last error: timed out\n",
      "2024-11-22 16:28:38,533 - cassandra.pool - WARNING - Error attempting to reconnect to 10.1.2.166:9042, scheduling retry in 594.0 seconds: [Errno None] Tried connecting to [('10.1.2.166', 9042)]. Last error: timed out\n",
      "2024-11-22 16:29:45,954 - cassandra.pool - WARNING - Error attempting to reconnect to 10.1.2.159:9042, scheduling retry in 594.0 seconds: [Errno None] Tried connecting to [('10.1.2.159', 9042)]. Last error: timed out\n",
      "2024-11-22 16:30:17,259 - cassandra.pool - WARNING - Error attempting to reconnect to 10.1.2.159:9042, scheduling retry in 600.0 seconds: [Errno None] Tried connecting to [('10.1.2.159', 9042)]. Last error: timed out\n",
      "2024-11-22 16:30:25,906 - cassandra.pool - WARNING - Error attempting to reconnect to 10.1.2.166:9042, scheduling retry in 600.0 seconds: [Errno None] Tried connecting to [('10.1.2.166', 9042)]. Last error: timed out\n",
      "2024-11-22 16:30:32,476 - cassandra.pool - WARNING - Error attempting to reconnect to 10.1.2.159:9042, scheduling retry in 600.0 seconds: [Errno None] Tried connecting to [('10.1.2.159', 9042)]. Last error: timed out\n",
      "2024-11-22 16:31:07,081 - cassandra.pool - WARNING - Error attempting to reconnect to 10.1.2.166:9042, scheduling retry in 534.0 seconds: [Errno None] Tried connecting to [('10.1.2.166', 9042)]. Last error: timed out\n",
      "2024-11-22 16:32:33,595 - cassandra.pool - WARNING - Error attempting to reconnect to 10.1.2.159:9042, scheduling retry in 600.0 seconds: [Errno None] Tried connecting to [('10.1.2.159', 9042)]. Last error: timed out\n",
      "2024-11-22 16:32:56,142 - cassandra.pool - WARNING - Error attempting to reconnect to 10.1.2.166:9042, scheduling retry in 600.0 seconds: [Errno None] Tried connecting to [('10.1.2.166', 9042)]. Last error: timed out\n",
      "2024-11-22 16:33:12,008 - cassandra.pool - WARNING - Error attempting to reconnect to 10.1.2.166:9042, scheduling retry in 600.0 seconds: [Errno None] Tried connecting to [('10.1.2.166', 9042)]. Last error: timed out\n",
      "2024-11-22 16:34:51,366 - cassandra.pool - WARNING - Error attempting to reconnect to 10.1.2.166:9042, scheduling retry in 600.0 seconds: [Errno None] Tried connecting to [('10.1.2.166', 9042)]. Last error: timed out\n",
      "2024-11-22 16:35:01,782 - cassandra.pool - WARNING - Error attempting to reconnect to 10.1.2.159:9042, scheduling retry in 600.0 seconds: [Errno None] Tried connecting to [('10.1.2.159', 9042)]. Last error: timed out\n",
      "2024-11-22 16:35:36,873 - cassandra.pool - WARNING - Error attempting to reconnect to 10.1.2.159:9042, scheduling retry in 600.0 seconds: [Errno None] Tried connecting to [('10.1.2.159', 9042)]. Last error: timed out\n",
      "2024-11-22 16:35:45,496 - cassandra.pool - WARNING - Error attempting to reconnect to 10.1.2.159:9042, scheduling retry in 600.0 seconds: [Errno None] Tried connecting to [('10.1.2.159', 9042)]. Last error: timed out\n",
      "2024-11-22 16:37:14,216 - cassandra.pool - WARNING - Error attempting to reconnect to 10.1.2.166:9042, scheduling retry in 600.0 seconds: [Errno None] Tried connecting to [('10.1.2.166', 9042)]. Last error: timed out\n",
      "2024-11-22 16:38:04,111 - cassandra.pool - WARNING - Error attempting to reconnect to 10.1.2.166:9042, scheduling retry in 588.0 seconds: [Errno None] Tried connecting to [('10.1.2.166', 9042)]. Last error: timed out\n",
      "2024-11-22 16:38:31,953 - cassandra.pool - WARNING - Error attempting to reconnect to 10.1.2.159:9042, scheduling retry in 600.0 seconds: [Errno None] Tried connecting to [('10.1.2.159', 9042)]. Last error: timed out\n",
      "2024-11-22 16:38:37,653 - cassandra.pool - WARNING - Error attempting to reconnect to 10.1.2.166:9042, scheduling retry in 516.0 seconds: [Errno None] Tried connecting to [('10.1.2.166', 9042)]. Last error: timed out\n",
      "2024-11-22 16:39:45,069 - cassandra.pool - WARNING - Error attempting to reconnect to 10.1.2.159:9042, scheduling retry in 576.0 seconds: [Errno None] Tried connecting to [('10.1.2.159', 9042)]. Last error: timed out\n",
      "2024-11-22 16:40:06,187 - cassandra.pool - WARNING - Error attempting to reconnect to 10.1.2.166:9042, scheduling retry in 546.0 seconds: [Errno None] Tried connecting to [('10.1.2.166', 9042)]. Last error: timed out\n",
      "2024-11-22 16:40:22,355 - cassandra.pool - WARNING - Error attempting to reconnect to 10.1.2.159:9042, scheduling retry in 552.0 seconds: [Errno None] Tried connecting to [('10.1.2.159', 9042)]. Last error: timed out\n",
      "2024-11-22 16:40:30,975 - cassandra.pool - WARNING - Error attempting to reconnect to 10.1.2.166:9042, scheduling retry in 570.0 seconds: [Errno None] Tried connecting to [('10.1.2.166', 9042)]. Last error: timed out\n",
      "2024-11-22 16:40:37,580 - cassandra.pool - WARNING - Error attempting to reconnect to 10.1.2.159:9042, scheduling retry in 600.0 seconds: [Errno None] Tried connecting to [('10.1.2.159', 9042)]. Last error: timed out\n",
      "2024-11-22 16:42:38,684 - cassandra.pool - WARNING - Error attempting to reconnect to 10.1.2.159:9042, scheduling retry in 558.0 seconds: [Errno None] Tried connecting to [('10.1.2.159', 9042)]. Last error: timed out\n",
      "2024-11-22 16:43:01,244 - cassandra.pool - WARNING - Error attempting to reconnect to 10.1.2.166:9042, scheduling retry in 552.0 seconds: [Errno None] Tried connecting to [('10.1.2.166', 9042)]. Last error: timed out\n",
      "2024-11-22 16:43:17,079 - cassandra.pool - WARNING - Error attempting to reconnect to 10.1.2.166:9042, scheduling retry in 558.0 seconds: [Errno None] Tried connecting to [('10.1.2.166', 9042)]. Last error: timed out\n",
      "2024-11-22 16:44:56,470 - cassandra.pool - WARNING - Error attempting to reconnect to 10.1.2.166:9042, scheduling retry in 528.0 seconds: [Errno None] Tried connecting to [('10.1.2.166', 9042)]. Last error: timed out\n",
      "2024-11-22 16:45:06,894 - cassandra.pool - WARNING - Error attempting to reconnect to 10.1.2.159:9042, scheduling retry in 600.0 seconds: [Errno None] Tried connecting to [('10.1.2.159', 9042)]. Last error: timed out\n",
      "2024-11-22 16:45:41,921 - cassandra.pool - WARNING - Error attempting to reconnect to 10.1.2.159:9042, scheduling retry in 570.0 seconds: [Errno None] Tried connecting to [('10.1.2.159', 9042)]. Last error: timed out\n",
      "2024-11-22 16:45:50,548 - cassandra.pool - WARNING - Error attempting to reconnect to 10.1.2.159:9042, scheduling retry in 600.0 seconds: [Errno None] Tried connecting to [('10.1.2.159', 9042)]. Last error: timed out\n",
      "2024-11-22 16:47:18,682 - cassandra.pool - WARNING - Error attempting to reconnect to 10.1.2.166:9042, scheduling retry in 510.0 seconds: [Errno None] Tried connecting to [('10.1.2.166', 9042)]. Last error: timed out\n",
      "2024-11-22 16:47:19,338 - cassandra.pool - WARNING - Error attempting to reconnect to 10.1.2.166:9042, scheduling retry in 552.0 seconds: [Errno None] Tried connecting to [('10.1.2.166', 9042)]. Last error: timed out\n",
      "2024-11-22 16:47:57,210 - cassandra.pool - WARNING - Error attempting to reconnect to 10.1.2.166:9042, scheduling retry in 510.0 seconds: [Errno None] Tried connecting to [('10.1.2.166', 9042)]. Last error: timed out\n",
      "2024-11-22 16:48:36,962 - cassandra.pool - WARNING - Error attempting to reconnect to 10.1.2.159:9042, scheduling retry in 546.0 seconds: [Errno None] Tried connecting to [('10.1.2.159', 9042)]. Last error: timed out\n",
      "2024-11-22 16:49:17,275 - cassandra.pool - WARNING - Error attempting to reconnect to 10.1.2.166:9042, scheduling retry in 582.0 seconds: [Errno None] Tried connecting to [('10.1.2.166', 9042)]. Last error: timed out\n",
      "2024-11-22 16:49:26,156 - cassandra.pool - WARNING - Error attempting to reconnect to 10.1.2.159:9042, scheduling retry in None seconds: [Errno None] Tried connecting to [('10.1.2.159', 9042)]. Last error: timed out\n",
      "2024-11-22 16:49:26,157 - cassandra.pool - WARNING - Will not continue to retry reconnection attempts due to an exhausted retry schedule\n",
      "2024-11-22 16:49:39,411 - cassandra.pool - WARNING - Error attempting to reconnect to 10.1.2.159:9042, scheduling retry in 582.0 seconds: [Errno None] Tried connecting to [('10.1.2.159', 9042)]. Last error: timed out\n",
      "2024-11-22 16:50:06,026 - cassandra.pool - WARNING - Error attempting to reconnect to 10.1.2.166:9042, scheduling retry in 540.0 seconds: [Errno None] Tried connecting to [('10.1.2.166', 9042)]. Last error: timed out\n",
      "2024-11-22 16:50:42,690 - cassandra.pool - WARNING - Error attempting to reconnect to 10.1.2.159:9042, scheduling retry in 588.0 seconds: [Errno None] Tried connecting to [('10.1.2.159', 9042)]. Last error: timed out\n",
      "2024-11-22 17:52:34,443 - cassandra.pool - WARNING - Error attempting to reconnect to 10.1.2.159:9042, scheduling retry in 600.0 seconds: [Errno None] Tried connecting to [('10.1.2.159', 9042)]. Last error: timed out\n",
      "2024-11-22 17:52:34,472 - cassandra.pool - WARNING - Error attempting to reconnect to 10.1.2.166:9042, scheduling retry in None seconds: [Errno 10065] Tried connecting to [('10.1.2.166', 9042)]. Last error: A socket operation was attempted to an unreachable host\n",
      "2024-11-22 17:52:34,472 - cassandra.pool - WARNING - Error attempting to reconnect to 10.1.2.159:9042, scheduling retry in None seconds: [Errno 10065] Tried connecting to [('10.1.2.159', 9042)]. Last error: A socket operation was attempted to an unreachable host\n",
      "2024-11-22 17:52:34,475 - cassandra.pool - WARNING - Error attempting to reconnect to 10.1.2.166:9042, scheduling retry in None seconds: [Errno 10065] Tried connecting to [('10.1.2.166', 9042)]. Last error: A socket operation was attempted to an unreachable host\n",
      "2024-11-22 17:52:34,479 - cassandra.pool - WARNING - Will not continue to retry reconnection attempts due to an exhausted retry schedule\n",
      "2024-11-22 17:52:34,480 - cassandra.pool - WARNING - Will not continue to retry reconnection attempts due to an exhausted retry schedule\n",
      "2024-11-22 17:52:34,481 - cassandra.pool - WARNING - Error attempting to reconnect to 10.1.2.166:9042, scheduling retry in 600.0 seconds: [Errno 10065] Tried connecting to [('10.1.2.166', 9042)]. Last error: A socket operation was attempted to an unreachable host\n",
      "2024-11-22 17:52:34,481 - cassandra.pool - WARNING - Error attempting to reconnect to 10.1.2.159:9042, scheduling retry in 534.0 seconds: [Errno 10065] Tried connecting to [('10.1.2.159', 9042)]. Last error: A socket operation was attempted to an unreachable host\n",
      "2024-11-22 17:52:34,483 - cassandra.pool - WARNING - Will not continue to retry reconnection attempts due to an exhausted retry schedule\n",
      "2024-11-22 17:52:34,514 - cassandra.pool - WARNING - Error attempting to reconnect to 10.1.2.166:9042, scheduling retry in 600.0 seconds: [Errno 10065] Tried connecting to [('10.1.2.166', 9042)]. Last error: A socket operation was attempted to an unreachable host\n",
      "2024-11-22 17:52:34,515 - cassandra.pool - WARNING - Error attempting to reconnect to 10.1.2.159:9042, scheduling retry in 516.0 seconds: [Errno 10065] Tried connecting to [('10.1.2.159', 9042)]. Last error: A socket operation was attempted to an unreachable host\n",
      "2024-11-22 17:52:34,516 - cassandra.pool - WARNING - Error attempting to reconnect to 10.1.2.159:9042, scheduling retry in None seconds: [Errno 10065] Tried connecting to [('10.1.2.159', 9042)]. Last error: A socket operation was attempted to an unreachable host\n",
      "2024-11-22 17:52:34,516 - cassandra.pool - WARNING - Error attempting to reconnect to 10.1.2.166:9042, scheduling retry in 600.0 seconds: [Errno 10065] Tried connecting to [('10.1.2.166', 9042)]. Last error: A socket operation was attempted to an unreachable host\n",
      "2024-11-22 17:52:34,522 - cassandra.pool - WARNING - Will not continue to retry reconnection attempts due to an exhausted retry schedule\n",
      "2024-11-22 17:52:34,527 - cassandra.pool - WARNING - Error attempting to reconnect to 10.1.2.166:9042, scheduling retry in None seconds: [Errno 10065] Tried connecting to [('10.1.2.166', 9042)]. Last error: A socket operation was attempted to an unreachable host\n",
      "2024-11-22 17:52:34,528 - cassandra.pool - WARNING - Error attempting to reconnect to 10.1.2.159:9042, scheduling retry in None seconds: [Errno 10065] Tried connecting to [('10.1.2.159', 9042)]. Last error: A socket operation was attempted to an unreachable host\n",
      "2024-11-22 17:52:34,529 - cassandra.pool - WARNING - Will not continue to retry reconnection attempts due to an exhausted retry schedule\n",
      "2024-11-22 17:52:34,531 - cassandra.pool - WARNING - Will not continue to retry reconnection attempts due to an exhausted retry schedule\n",
      "2024-11-22 17:52:34,535 - cassandra.pool - WARNING - Error attempting to reconnect to 10.1.2.159:9042, scheduling retry in None seconds: [Errno 10065] Tried connecting to [('10.1.2.159', 9042)]. Last error: A socket operation was attempted to an unreachable host\n",
      "2024-11-22 17:52:34,535 - cassandra.pool - WARNING - Error attempting to reconnect to 10.1.2.166:9042, scheduling retry in None seconds: [Errno 10065] Tried connecting to [('10.1.2.166', 9042)]. Last error: A socket operation was attempted to an unreachable host\n",
      "2024-11-22 17:52:34,536 - cassandra.pool - WARNING - Error attempting to reconnect to 10.1.2.166:9042, scheduling retry in None seconds: [Errno 10065] Tried connecting to [('10.1.2.166', 9042)]. Last error: A socket operation was attempted to an unreachable host\n",
      "2024-11-22 17:52:34,537 - cassandra.pool - WARNING - Will not continue to retry reconnection attempts due to an exhausted retry schedule\n",
      "2024-11-22 17:52:34,538 - cassandra.pool - WARNING - Will not continue to retry reconnection attempts due to an exhausted retry schedule\n",
      "2024-11-22 17:52:34,539 - cassandra.pool - WARNING - Will not continue to retry reconnection attempts due to an exhausted retry schedule\n",
      "2024-11-22 18:01:15,555 - cassandra.pool - WARNING - Error attempting to reconnect to 10.1.2.159:9042, scheduling retry in None seconds: [Errno None] Tried connecting to [('10.1.2.159', 9042)]. Last error: timed out\n",
      "2024-11-22 18:01:15,556 - cassandra.pool - WARNING - Will not continue to retry reconnection attempts due to an exhausted retry schedule\n",
      "2024-11-22 18:01:33,555 - cassandra.pool - WARNING - Error attempting to reconnect to 10.1.2.159:9042, scheduling retry in 600.0 seconds: [Errno None] Tried connecting to [('10.1.2.159', 9042)]. Last error: timed out\n",
      "2024-11-22 18:02:39,549 - cassandra.pool - WARNING - Error attempting to reconnect to 10.1.2.159:9042, scheduling retry in None seconds: [Errno None] Tried connecting to [('10.1.2.159', 9042)]. Last error: timed out\n",
      "2024-11-22 18:02:39,551 - cassandra.pool - WARNING - Will not continue to retry reconnection attempts due to an exhausted retry schedule\n",
      "2024-11-22 18:02:39,581 - cassandra.pool - WARNING - Error attempting to reconnect to 10.1.2.166:9042, scheduling retry in None seconds: [Errno None] Tried connecting to [('10.1.2.166', 9042)]. Last error: timed out\n",
      "2024-11-22 18:02:39,581 - cassandra.pool - WARNING - Error attempting to reconnect to 10.1.2.166:9042, scheduling retry in 522.0 seconds: [Errno None] Tried connecting to [('10.1.2.166', 9042)]. Last error: timed out\n",
      "2024-11-22 18:02:39,582 - cassandra.pool - WARNING - Error attempting to reconnect to 10.1.2.166:9042, scheduling retry in None seconds: [Errno None] Tried connecting to [('10.1.2.166', 9042)]. Last error: timed out\n",
      "2024-11-22 18:02:39,583 - cassandra.pool - WARNING - Will not continue to retry reconnection attempts due to an exhausted retry schedule\n",
      "2024-11-22 18:02:39,586 - cassandra.pool - WARNING - Will not continue to retry reconnection attempts due to an exhausted retry schedule\n",
      "2024-11-22 18:11:26,664 - cassandra.pool - WARNING - Error attempting to reconnect to 10.1.2.166:9042, scheduling retry in None seconds: [Errno None] Tried connecting to [('10.1.2.166', 9042)]. Last error: timed out\n",
      "2024-11-22 18:11:26,664 - cassandra.pool - WARNING - Will not continue to retry reconnection attempts due to an exhausted retry schedule\n",
      "2024-11-22 18:11:38,663 - cassandra.pool - WARNING - Error attempting to reconnect to 10.1.2.159:9042, scheduling retry in None seconds: [Errno None] Tried connecting to [('10.1.2.159', 9042)]. Last error: timed out\n",
      "2024-11-22 18:11:38,664 - cassandra.pool - WARNING - Will not continue to retry reconnection attempts due to an exhausted retry schedule\n"
     ]
    }
   ],
   "source": [
    "## for converting spell damage and upcasts back into a Python dictionary\n",
    "for row in spell:\n",
    "    dmg_dict = {}\n",
    "    dmg = row['dmg']\n",
    "    for level, dmgmap in dmg.items():\n",
    "        dmg_dict[level] = {}\n",
    "        for dmgtype,die_list in dmgmap.items():\n",
    "            dmg_dict[level][dmgtype] = []\n",
    "            for die in die_list:\n",
    "                dmg_dict[level][dmgtype].append(dict(die))\n",
    "    upcast = dict(row['upcast'])\n",
    "    print(dmg_dict,upcast)\n",
    "\n"
   ]
  },
  {
   "cell_type": "code",
   "execution_count": 187,
   "metadata": {},
   "outputs": [
    {
     "name": "stdout",
     "output_type": "stream",
     "text": [
      "2024-11-22 08:54:57,622 - __main__ - INFO -   [x] DB on_request: query succeeded: SELECT * FROM spells WHERE name='Hunger of Hadar' ALLOW FILTERING;\n"
     ]
    }
   ],
   "source": [
    "spell = db.exec_query(\n",
    "    \"SELECT * FROM spells WHERE name='Hunger of Hadar' ALLOW FILTERING;\"\n",
    ")['rows']"
   ]
  },
  {
   "cell_type": "code",
   "execution_count": 188,
   "metadata": {},
   "outputs": [
    {
     "data": {
      "text/plain": [
       "[{'id': '0c1c892e-5e9a-42d3-b950-0a2444b0ca7f',\n",
       "  'addspellmod': True,\n",
       "  'classes': ['Warlock'],\n",
       "  'components': 'V, S, M (a pickled octopus tentacle)',\n",
       "  'conc': True,\n",
       "  'dmg': OrderedMapSerializedKey([(1, OrderedMapSerializedKey([('Acid', [OrderedMapSerializedKey([(2, 6)])]), ('Cold', [OrderedMapSerializedKey([(2, 6)])])]))]),\n",
       "  'duration': 'Concentration, up to 1 minute',\n",
       "  'hard_mod': 0,\n",
       "  'lvl': 3,\n",
       "  'mult': 1,\n",
       "  'name': 'Hunger of Hadar',\n",
       "  'range': '150 feet',\n",
       "  'save': 'DEX',\n",
       "  'time': '1 action',\n",
       "  'upcast': OrderedMapSerializedKey([])}]"
      ]
     },
     "execution_count": 188,
     "metadata": {},
     "output_type": "execute_result"
    }
   ],
   "source": [
    "spell"
   ]
  },
  {
   "cell_type": "code",
   "execution_count": 189,
   "metadata": {},
   "outputs": [
    {
     "name": "stdout",
     "output_type": "stream",
     "text": [
      "{1: {'Acid': [{2: 6}], 'Cold': [{2: 6}]}} {}\n"
     ]
    }
   ],
   "source": [
    "for row in spell:\n",
    "    dmg_dict = {}\n",
    "    dmg = row['dmg']\n",
    "    for level, dmgmap in dmg.items():\n",
    "        dmg_dict[level] = {}\n",
    "        for dmgtype,die_list in dmgmap.items():\n",
    "            dmg_dict[level][dmgtype] = []\n",
    "            for die in die_list:\n",
    "                dmg_dict[level][dmgtype].append(dict(die))\n",
    "    upcast = dict(row['upcast'])\n",
    "    print(dmg_dict,upcast)"
   ]
  },
  {
   "cell_type": "code",
   "execution_count": 235,
   "metadata": {},
   "outputs": [
    {
     "name": "stdout",
     "output_type": "stream",
     "text": [
      "2024-11-22 10:19:39,140 - __main__ - INFO -   [x] DB on_request: query succeeded: SELECT * FROM spells WHERE name='Investiture of Ice' ALLOW FILTERING;\n"
     ]
    },
    {
     "data": {
      "text/plain": [
       "[{'id': 'ea9941fd-917e-4a85-9079-d286a524d58c',\n",
       "  'addspellmod': True,\n",
       "  'classes': ['Druid', 'Sorcerer', 'Warlock', 'Wizard'],\n",
       "  'components': 'V, S',\n",
       "  'conc': True,\n",
       "  'dmg': OrderedMapSerializedKey([(1, OrderedMapSerializedKey([('Cold', [OrderedMapSerializedKey([(4, 6)])])]))]),\n",
       "  'duration': 'Concentration, up to 10 minutes',\n",
       "  'hard_mod': 0,\n",
       "  'lvl': 6,\n",
       "  'mult': 1,\n",
       "  'name': 'Investiture of Ice',\n",
       "  'range': 'Self',\n",
       "  'save': 'CON',\n",
       "  'time': '1 action',\n",
       "  'upcast': OrderedMapSerializedKey([])}]"
      ]
     },
     "execution_count": 235,
     "metadata": {},
     "output_type": "execute_result"
    }
   ],
   "source": [
    "spell = db.exec_query(\n",
    "    \"SELECT * FROM spells WHERE name='Investiture of Ice' ALLOW FILTERING;\"\n",
    ")['rows']\n",
    "spell"
   ]
  },
  {
   "cell_type": "code",
   "execution_count": null,
   "metadata": {},
   "outputs": [
    {
     "name": "stdout",
     "output_type": "stream",
     "text": [
      "upcast dice: 0\n"
     ]
    },
    {
     "data": {
      "text/plain": [
       "{'results': {'Cold': [6, 5, 6, 4]},\n",
       " 'modified_results': {'Cold': [6, 5, 6, 4]},\n",
       " 'save': 'CON'}"
      ]
     },
     "metadata": {},
     "output_type": "display_data"
    },
    {
     "name": "stdout",
     "output_type": "stream",
     "text": [
      "2024-11-22 10:21:55,156 - cassandra.pool - WARNING - Error attempting to reconnect to 10.1.2.166:9042, scheduling retry in 600.0 seconds: [Errno None] Tried connecting to [('10.1.2.166', 9042)]. Last error: timed out\n",
      "2024-11-22 10:22:01,144 - cassandra.pool - WARNING - Error attempting to reconnect to 10.1.2.166:9042, scheduling retry in 600.0 seconds: [Errno None] Tried connecting to [('10.1.2.166', 9042)]. Last error: timed out\n",
      "2024-11-22 10:22:30,426 - cassandra.pool - WARNING - Error attempting to reconnect to 10.1.2.166:9042, scheduling retry in 540.0 seconds: [Errno None] Tried connecting to [('10.1.2.166', 9042)]. Last error: timed out\n",
      "2024-11-22 10:22:46,096 - cassandra.pool - WARNING - Error attempting to reconnect to 10.1.2.166:9042, scheduling retry in 600.0 seconds: [Errno None] Tried connecting to [('10.1.2.166', 9042)]. Last error: timed out\n",
      "2024-11-22 10:22:52,734 - cassandra.pool - WARNING - Error attempting to reconnect to 10.1.2.159:9042, scheduling retry in 588.0 seconds: [Errno None] Tried connecting to [('10.1.2.159', 9042)]. Last error: timed out\n",
      "2024-11-22 10:23:42,520 - cassandra.pool - WARNING - Error attempting to reconnect to 10.1.2.159:9042, scheduling retry in 600.0 seconds: [Errno None] Tried connecting to [('10.1.2.159', 9042)]. Last error: timed out\n",
      "2024-11-22 10:24:03,552 - cassandra.pool - WARNING - Error attempting to reconnect to 10.1.2.159:9042, scheduling retry in 540.0 seconds: [Errno None] Tried connecting to [('10.1.2.159', 9042)]. Last error: timed out\n",
      "2024-11-22 10:24:33,232 - cassandra.pool - WARNING - Error attempting to reconnect to 10.1.2.159:9042, scheduling retry in 570.0 seconds: [Errno None] Tried connecting to [('10.1.2.159', 9042)]. Last error: timed out\n",
      "2024-11-22 10:25:33,669 - cassandra.pool - WARNING - Error attempting to reconnect to 10.1.2.166:9042, scheduling retry in 600.0 seconds: [Errno None] Tried connecting to [('10.1.2.166', 9042)]. Last error: timed out\n",
      "2024-11-22 10:25:55,731 - cassandra.pool - WARNING - Error attempting to reconnect to 10.1.2.166:9042, scheduling retry in 600.0 seconds: [Errno None] Tried connecting to [('10.1.2.166', 9042)]. Last error: timed out\n",
      "2024-11-22 10:26:03,459 - cassandra.pool - WARNING - Error attempting to reconnect to 10.1.2.159:9042, scheduling retry in 600.0 seconds: [Errno None] Tried connecting to [('10.1.2.159', 9042)]. Last error: timed out\n",
      "2024-11-22 10:26:17,442 - cassandra.pool - WARNING - Error attempting to reconnect to 10.1.2.166:9042, scheduling retry in 600.0 seconds: [Errno None] Tried connecting to [('10.1.2.166', 9042)]. Last error: timed out\n",
      "2024-11-22 10:26:43,153 - cassandra.pool - WARNING - Error attempting to reconnect to 10.1.2.159:9042, scheduling retry in 534.0 seconds: [Errno None] Tried connecting to [('10.1.2.159', 9042)]. Last error: timed out\n",
      "2024-11-22 10:28:42,737 - cassandra.pool - WARNING - Error attempting to reconnect to 10.1.2.166:9042, scheduling retry in 534.0 seconds: [Errno None] Tried connecting to [('10.1.2.166', 9042)]. Last error: timed out\n",
      "2024-11-22 10:28:55,257 - cassandra.pool - WARNING - Error attempting to reconnect to 10.1.2.159:9042, scheduling retry in 600.0 seconds: [Errno None] Tried connecting to [('10.1.2.159', 9042)]. Last error: timed out\n",
      "2024-11-22 10:30:07,533 - cassandra.pool - WARNING - Error attempting to reconnect to 10.1.2.159:9042, scheduling retry in 522.0 seconds: [Errno None] Tried connecting to [('10.1.2.159', 9042)]. Last error: timed out\n",
      "2024-11-22 10:31:35,517 - cassandra.pool - WARNING - Error attempting to reconnect to 10.1.2.166:9042, scheduling retry in 528.0 seconds: [Errno None] Tried connecting to [('10.1.2.166', 9042)]. Last error: timed out\n",
      "2024-11-22 10:32:00,242 - cassandra.pool - WARNING - Error attempting to reconnect to 10.1.2.166:9042, scheduling retry in 600.0 seconds: [Errno None] Tried connecting to [('10.1.2.166', 9042)]. Last error: timed out\n",
      "2024-11-22 10:32:06,155 - cassandra.pool - WARNING - Error attempting to reconnect to 10.1.2.166:9042, scheduling retry in 588.0 seconds: [Errno None] Tried connecting to [('10.1.2.166', 9042)]. Last error: timed out\n",
      "2024-11-22 10:32:45,808 - cassandra.pool - WARNING - Error attempting to reconnect to 10.1.2.159:9042, scheduling retry in 546.0 seconds: [Errno None] Tried connecting to [('10.1.2.159', 9042)]. Last error: timed out\n",
      "2024-11-22 10:32:51,175 - cassandra.pool - WARNING - Error attempting to reconnect to 10.1.2.166:9042, scheduling retry in 564.0 seconds: [Errno None] Tried connecting to [('10.1.2.166', 9042)]. Last error: timed out\n",
      "2024-11-22 10:33:08,576 - cassandra.pool - WARNING - Error attempting to reconnect to 10.1.2.159:9042, scheduling retry in 546.0 seconds: [Errno None] Tried connecting to [('10.1.2.159', 9042)]. Last error: timed out\n",
      "2024-11-22 10:33:47,559 - cassandra.pool - WARNING - Error attempting to reconnect to 10.1.2.159:9042, scheduling retry in 600.0 seconds: [Errno None] Tried connecting to [('10.1.2.159', 9042)]. Last error: timed out\n",
      "2024-11-22 10:34:08,316 - cassandra.pool - WARNING - Error attempting to reconnect to 10.1.2.159:9042, scheduling retry in 516.0 seconds: [Errno None] Tried connecting to [('10.1.2.159', 9042)]. Last error: timed out\n",
      "2024-11-22 10:35:38,685 - cassandra.pool - WARNING - Error attempting to reconnect to 10.1.2.166:9042, scheduling retry in 600.0 seconds: [Errno None] Tried connecting to [('10.1.2.166', 9042)]. Last error: timed out\n",
      "2024-11-22 10:35:42,187 - cassandra.pool - WARNING - Error attempting to reconnect to 10.1.2.159:9042, scheduling retry in 600.0 seconds: [Errno None] Tried connecting to [('10.1.2.159', 9042)]. Last error: timed out\n",
      "2024-11-22 10:36:00,855 - cassandra.pool - WARNING - Error attempting to reconnect to 10.1.2.166:9042, scheduling retry in 600.0 seconds: [Errno None] Tried connecting to [('10.1.2.166', 9042)]. Last error: timed out\n",
      "2024-11-22 10:36:08,514 - cassandra.pool - WARNING - Error attempting to reconnect to 10.1.2.159:9042, scheduling retry in 552.0 seconds: [Errno None] Tried connecting to [('10.1.2.159', 9042)]. Last error: timed out\n",
      "2024-11-22 10:36:22,517 - cassandra.pool - WARNING - Error attempting to reconnect to 10.1.2.166:9042, scheduling retry in 522.0 seconds: [Errno None] Tried connecting to [('10.1.2.166', 9042)]. Last error: timed out\n",
      "2024-11-22 10:37:41,801 - cassandra.pool - WARNING - Error attempting to reconnect to 10.1.2.166:9042, scheduling retry in 600.0 seconds: [Errno None] Tried connecting to [('10.1.2.166', 9042)]. Last error: timed out\n",
      "2024-11-22 10:38:54,612 - cassandra.pool - WARNING - Error attempting to reconnect to 10.1.2.159:9042, scheduling retry in 600.0 seconds: [Errno None] Tried connecting to [('10.1.2.159', 9042)]. Last error: timed out\n",
      "2024-11-22 10:39:00,279 - cassandra.pool - WARNING - Error attempting to reconnect to 10.1.2.159:9042, scheduling retry in 600.0 seconds: [Errno None] Tried connecting to [('10.1.2.159', 9042)]. Last error: timed out\n",
      "2024-11-22 10:40:28,610 - cassandra.pool - WARNING - Error attempting to reconnect to 10.1.2.166:9042, scheduling retry in 588.0 seconds: [Errno None] Tried connecting to [('10.1.2.166', 9042)]. Last error: timed out\n",
      "2024-11-22 10:41:56,839 - cassandra.pool - WARNING - Error attempting to reconnect to 10.1.2.159:9042, scheduling retry in 600.0 seconds: [Errno None] Tried connecting to [('10.1.2.159', 9042)]. Last error: timed out\n",
      "2024-11-22 10:41:59,240 - cassandra.pool - WARNING - Error attempting to reconnect to 10.1.2.166:9042, scheduling retry in 546.0 seconds: [Errno None] Tried connecting to [('10.1.2.166', 9042)]. Last error: timed out\n",
      "2024-11-22 10:42:05,352 - cassandra.pool - WARNING - Error attempting to reconnect to 10.1.2.166:9042, scheduling retry in 600.0 seconds: [Errno None] Tried connecting to [('10.1.2.166', 9042)]. Last error: timed out\n",
      "2024-11-22 10:42:19,675 - cassandra.pool - WARNING - Error attempting to reconnect to 10.1.2.159:9042, scheduling retry in 534.0 seconds: [Errno None] Tried connecting to [('10.1.2.159', 9042)]. Last error: timed out\n",
      "2024-11-22 10:42:20,223 - cassandra.pool - WARNING - Error attempting to reconnect to 10.1.2.166:9042, scheduling retry in 600.0 seconds: [Errno None] Tried connecting to [('10.1.2.166', 9042)]. Last error: timed out\n",
      "2024-11-22 10:42:49,420 - cassandra.pool - WARNING - Error attempting to reconnect to 10.1.2.159:9042, scheduling retry in 516.0 seconds: [Errno None] Tried connecting to [('10.1.2.159', 9042)]. Last error: timed out\n",
      "2024-11-22 10:43:52,670 - cassandra.pool - WARNING - Error attempting to reconnect to 10.1.2.159:9042, scheduling retry in 570.0 seconds: [Errno None] Tried connecting to [('10.1.2.159', 9042)]. Last error: timed out\n",
      "2024-11-22 10:45:09,627 - cassandra.pool - WARNING - Error attempting to reconnect to 10.1.2.166:9042, scheduling retry in 600.0 seconds: [Errno None] Tried connecting to [('10.1.2.166', 9042)]. Last error: timed out\n",
      "2024-11-22 10:45:25,548 - cassandra.pool - WARNING - Error attempting to reconnect to 10.1.2.159:9042, scheduling retry in 600.0 seconds: [Errno None] Tried connecting to [('10.1.2.159', 9042)]. Last error: timed out\n",
      "2024-11-22 10:45:43,718 - cassandra.pool - WARNING - Error attempting to reconnect to 10.1.2.166:9042, scheduling retry in 600.0 seconds: [Errno None] Tried connecting to [('10.1.2.166', 9042)]. Last error: timed out\n",
      "2024-11-22 10:45:47,223 - cassandra.pool - WARNING - Error attempting to reconnect to 10.1.2.159:9042, scheduling retry in 582.0 seconds: [Errno None] Tried connecting to [('10.1.2.159', 9042)]. Last error: timed out\n",
      "2024-11-22 10:46:05,920 - cassandra.pool - WARNING - Error attempting to reconnect to 10.1.2.166:9042, scheduling retry in 600.0 seconds: [Errno None] Tried connecting to [('10.1.2.166', 9042)]. Last error: timed out\n",
      "2024-11-22 10:47:46,819 - cassandra.pool - WARNING - Error attempting to reconnect to 10.1.2.166:9042, scheduling retry in 600.0 seconds: [Errno None] Tried connecting to [('10.1.2.166', 9042)]. Last error: timed out\n",
      "2024-11-22 10:48:59,707 - cassandra.pool - WARNING - Error attempting to reconnect to 10.1.2.159:9042, scheduling retry in 600.0 seconds: [Errno None] Tried connecting to [('10.1.2.159', 9042)]. Last error: timed out\n",
      "2024-11-22 10:49:05,384 - cassandra.pool - WARNING - Error attempting to reconnect to 10.1.2.159:9042, scheduling retry in 600.0 seconds: [Errno None] Tried connecting to [('10.1.2.159', 9042)]. Last error: timed out\n",
      "2024-11-22 10:50:21,619 - cassandra.pool - WARNING - Error attempting to reconnect to 10.1.2.166:9042, scheduling retry in 510.0 seconds: [Errno None] Tried connecting to [('10.1.2.166', 9042)]. Last error: timed out\n",
      "2024-11-22 10:51:10,261 - cassandra.pool - WARNING - Error attempting to reconnect to 10.1.2.166:9042, scheduling retry in 600.0 seconds: [Errno None] Tried connecting to [('10.1.2.166', 9042)]. Last error: timed out\n",
      "2024-11-22 10:51:18,681 - cassandra.pool - WARNING - Error attempting to reconnect to 10.1.2.159:9042, scheduling retry in 600.0 seconds: [Errno None] Tried connecting to [('10.1.2.159', 9042)]. Last error: timed out\n",
      "2024-11-22 10:51:30,492 - cassandra.pool - WARNING - Error attempting to reconnect to 10.1.2.159:9042, scheduling retry in 600.0 seconds: [Errno None] Tried connecting to [('10.1.2.159', 9042)]. Last error: timed out\n",
      "2024-11-22 10:52:01,873 - cassandra.pool - WARNING - Error attempting to reconnect to 10.1.2.159:9042, scheduling retry in 540.0 seconds: [Errno None] Tried connecting to [('10.1.2.159', 9042)]. Last error: timed out\n",
      "2024-11-22 10:52:10,409 - cassandra.pool - WARNING - Error attempting to reconnect to 10.1.2.166:9042, scheduling retry in 582.0 seconds: [Errno None] Tried connecting to [('10.1.2.166', 9042)]. Last error: timed out\n",
      "2024-11-22 10:52:25,245 - cassandra.pool - WARNING - Error attempting to reconnect to 10.1.2.166:9042, scheduling retry in 594.0 seconds: [Errno None] Tried connecting to [('10.1.2.166', 9042)]. Last error: timed out\n",
      "2024-11-22 10:53:27,705 - cassandra.pool - WARNING - Error attempting to reconnect to 10.1.2.159:9042, scheduling retry in 600.0 seconds: [Errno None] Tried connecting to [('10.1.2.159', 9042)]. Last error: timed out\n",
      "2024-11-22 10:55:14,653 - cassandra.pool - WARNING - Error attempting to reconnect to 10.1.2.166:9042, scheduling retry in 600.0 seconds: [Errno None] Tried connecting to [('10.1.2.166', 9042)]. Last error: timed out\n",
      "2024-11-22 10:55:30,594 - cassandra.pool - WARNING - Error attempting to reconnect to 10.1.2.159:9042, scheduling retry in 600.0 seconds: [Errno None] Tried connecting to [('10.1.2.159', 9042)]. Last error: timed out\n",
      "2024-11-22 10:55:34,294 - cassandra.pool - WARNING - Error attempting to reconnect to 10.1.2.159:9042, scheduling retry in 600.0 seconds: [Errno None] Tried connecting to [('10.1.2.159', 9042)]. Last error: timed out\n",
      "2024-11-22 10:55:48,783 - cassandra.pool - WARNING - Error attempting to reconnect to 10.1.2.166:9042, scheduling retry in 510.0 seconds: [Errno None] Tried connecting to [('10.1.2.166', 9042)]. Last error: timed out\n",
      "2024-11-22 10:56:10,971 - cassandra.pool - WARNING - Error attempting to reconnect to 10.1.2.166:9042, scheduling retry in 576.0 seconds: [Errno None] Tried connecting to [('10.1.2.166', 9042)]. Last error: timed out\n",
      "2024-11-22 10:57:51,891 - cassandra.pool - WARNING - Error attempting to reconnect to 10.1.2.166:9042, scheduling retry in 600.0 seconds: [Errno None] Tried connecting to [('10.1.2.166', 9042)]. Last error: timed out\n",
      "2024-11-22 10:58:56,738 - cassandra.pool - WARNING - Error attempting to reconnect to 10.1.2.166:9042, scheduling retry in 600.0 seconds: [Errno None] Tried connecting to [('10.1.2.166', 9042)]. Last error: timed out\n",
      "2024-11-22 10:59:04,755 - cassandra.pool - WARNING - Error attempting to reconnect to 10.1.2.159:9042, scheduling retry in 522.0 seconds: [Errno None] Tried connecting to [('10.1.2.159', 9042)]. Last error: timed out\n",
      "2024-11-22 10:59:10,448 - cassandra.pool - WARNING - Error attempting to reconnect to 10.1.2.159:9042, scheduling retry in 600.0 seconds: [Errno None] Tried connecting to [('10.1.2.159', 9042)]. Last error: timed out\n",
      "2024-11-22 11:01:06,907 - cassandra.pool - WARNING - Error attempting to reconnect to 10.1.2.159:9042, scheduling retry in 600.0 seconds: [Errno None] Tried connecting to [('10.1.2.159', 9042)]. Last error: timed out\n",
      "2024-11-22 11:01:15,335 - cassandra.pool - WARNING - Error attempting to reconnect to 10.1.2.166:9042, scheduling retry in 600.0 seconds: [Errno None] Tried connecting to [('10.1.2.166', 9042)]. Last error: timed out\n",
      "2024-11-22 11:01:23,695 - cassandra.pool - WARNING - Error attempting to reconnect to 10.1.2.159:9042, scheduling retry in 570.0 seconds: [Errno None] Tried connecting to [('10.1.2.159', 9042)]. Last error: timed out\n",
      "2024-11-22 11:01:35,581 - cassandra.pool - WARNING - Error attempting to reconnect to 10.1.2.159:9042, scheduling retry in 600.0 seconds: [Errno None] Tried connecting to [('10.1.2.159', 9042)]. Last error: timed out\n",
      "2024-11-22 11:01:57,496 - cassandra.pool - WARNING - Error attempting to reconnect to 10.1.2.166:9042, scheduling retry in 600.0 seconds: [Errno None] Tried connecting to [('10.1.2.166', 9042)]. Last error: timed out\n",
      "2024-11-22 11:02:24,365 - cassandra.pool - WARNING - Error attempting to reconnect to 10.1.2.166:9042, scheduling retry in 510.0 seconds: [Errno None] Tried connecting to [('10.1.2.166', 9042)]. Last error: timed out\n",
      "2024-11-22 11:03:32,799 - cassandra.pool - WARNING - Error attempting to reconnect to 10.1.2.159:9042, scheduling retry in 600.0 seconds: [Errno None] Tried connecting to [('10.1.2.159', 9042)]. Last error: timed out\n",
      "2024-11-22 11:04:23,839 - cassandra.pool - WARNING - Error attempting to reconnect to 10.1.2.166:9042, scheduling retry in 552.0 seconds: [Errno None] Tried connecting to [('10.1.2.166', 9042)]. Last error: timed out\n",
      "2024-11-22 11:05:19,744 - cassandra.pool - WARNING - Error attempting to reconnect to 10.1.2.166:9042, scheduling retry in 600.0 seconds: [Errno None] Tried connecting to [('10.1.2.166', 9042)]. Last error: timed out\n",
      "2024-11-22 11:05:35,694 - cassandra.pool - WARNING - Error attempting to reconnect to 10.1.2.159:9042, scheduling retry in 534.0 seconds: [Errno None] Tried connecting to [('10.1.2.159', 9042)]. Last error: timed out\n",
      "2024-11-22 11:05:39,338 - cassandra.pool - WARNING - Error attempting to reconnect to 10.1.2.159:9042, scheduling retry in 594.0 seconds: [Errno None] Tried connecting to [('10.1.2.159', 9042)]. Last error: timed out\n",
      "2024-11-22 11:05:52,059 - cassandra.pool - WARNING - Error attempting to reconnect to 10.1.2.166:9042, scheduling retry in 594.0 seconds: [Errno None] Tried connecting to [('10.1.2.166', 9042)]. Last error: timed out\n",
      "2024-11-22 11:07:51,877 - cassandra.pool - WARNING - Error attempting to reconnect to 10.1.2.159:9042, scheduling retry in 558.0 seconds: [Errno None] Tried connecting to [('10.1.2.159', 9042)]. Last error: timed out\n",
      "2024-11-22 11:07:56,937 - cassandra.pool - WARNING - Error attempting to reconnect to 10.1.2.166:9042, scheduling retry in 600.0 seconds: [Errno None] Tried connecting to [('10.1.2.166', 9042)]. Last error: timed out\n",
      "2024-11-22 11:09:01,816 - cassandra.pool - WARNING - Error attempting to reconnect to 10.1.2.166:9042, scheduling retry in 600.0 seconds: [Errno None] Tried connecting to [('10.1.2.166', 9042)]. Last error: timed out\n",
      "2024-11-22 11:09:15,475 - cassandra.pool - WARNING - Error attempting to reconnect to 10.1.2.159:9042, scheduling retry in 600.0 seconds: [Errno None] Tried connecting to [('10.1.2.159', 9042)]. Last error: timed out\n",
      "2024-11-22 11:10:58,718 - cassandra.pool - WARNING - Error attempting to reconnect to 10.1.2.159:9042, scheduling retry in 600.0 seconds: [Errno None] Tried connecting to [('10.1.2.159', 9042)]. Last error: timed out\n",
      "2024-11-22 11:10:59,459 - cassandra.pool - WARNING - Error attempting to reconnect to 10.1.2.166:9042, scheduling retry in 600.0 seconds: [Errno None] Tried connecting to [('10.1.2.166', 9042)]. Last error: timed out\n",
      "2024-11-22 11:11:12,009 - cassandra.pool - WARNING - Error attempting to reconnect to 10.1.2.159:9042, scheduling retry in 600.0 seconds: [Errno None] Tried connecting to [('10.1.2.159', 9042)]. Last error: timed out\n",
      "2024-11-22 11:11:20,406 - cassandra.pool - WARNING - Error attempting to reconnect to 10.1.2.166:9042, scheduling retry in 600.0 seconds: [Errno None] Tried connecting to [('10.1.2.166', 9042)]. Last error: timed out\n",
      "2024-11-22 11:11:40,610 - cassandra.pool - WARNING - Error attempting to reconnect to 10.1.2.159:9042, scheduling retry in 570.0 seconds: [Errno None] Tried connecting to [('10.1.2.159', 9042)]. Last error: timed out\n",
      "2024-11-22 11:12:02,576 - cassandra.pool - WARNING - Error attempting to reconnect to 10.1.2.166:9042, scheduling retry in 558.0 seconds: [Errno None] Tried connecting to [('10.1.2.166', 9042)]. Last error: timed out\n",
      "2024-11-22 11:13:37,814 - cassandra.pool - WARNING - Error attempting to reconnect to 10.1.2.159:9042, scheduling retry in 600.0 seconds: [Errno None] Tried connecting to [('10.1.2.159', 9042)]. Last error: timed out\n",
      "2024-11-22 11:13:40,866 - cassandra.pool - WARNING - Error attempting to reconnect to 10.1.2.166:9042, scheduling retry in 600.0 seconds: [Errno None] Tried connecting to [('10.1.2.166', 9042)]. Last error: timed out\n",
      "2024-11-22 11:14:34,710 - cassandra.pool - WARNING - Error attempting to reconnect to 10.1.2.159:9042, scheduling retry in 558.0 seconds: [Errno None] Tried connecting to [('10.1.2.159', 9042)]. Last error: timed out\n",
      "2024-11-22 11:15:24,853 - cassandra.pool - WARNING - Error attempting to reconnect to 10.1.2.166:9042, scheduling retry in 600.0 seconds: [Errno None] Tried connecting to [('10.1.2.166', 9042)]. Last error: timed out\n",
      "2024-11-22 11:15:38,363 - cassandra.pool - WARNING - Error attempting to reconnect to 10.1.2.159:9042, scheduling retry in 600.0 seconds: [Errno None] Tried connecting to [('10.1.2.159', 9042)]. Last error: timed out\n",
      "2024-11-22 11:15:51,104 - cassandra.pool - WARNING - Error attempting to reconnect to 10.1.2.166:9042, scheduling retry in 600.0 seconds: [Errno None] Tried connecting to [('10.1.2.166', 9042)]. Last error: timed out\n",
      "2024-11-22 11:17:14,932 - cassandra.pool - WARNING - Error attempting to reconnect to 10.1.2.159:9042, scheduling retry in 600.0 seconds: [Errno None] Tried connecting to [('10.1.2.159', 9042)]. Last error: timed out\n",
      "2024-11-22 11:18:01,996 - cassandra.pool - WARNING - Error attempting to reconnect to 10.1.2.166:9042, scheduling retry in 600.0 seconds: [Errno None] Tried connecting to [('10.1.2.166', 9042)]. Last error: timed out\n",
      "2024-11-22 11:19:06,896 - cassandra.pool - WARNING - Error attempting to reconnect to 10.1.2.166:9042, scheduling retry in 588.0 seconds: [Errno None] Tried connecting to [('10.1.2.166', 9042)]. Last error: timed out\n",
      "2024-11-22 11:19:20,583 - cassandra.pool - WARNING - Error attempting to reconnect to 10.1.2.159:9042, scheduling retry in 516.0 seconds: [Errno None] Tried connecting to [('10.1.2.159', 9042)]. Last error: timed out\n",
      "2024-11-22 11:21:03,826 - cassandra.pool - WARNING - Error attempting to reconnect to 10.1.2.159:9042, scheduling retry in 600.0 seconds: [Errno None] Tried connecting to [('10.1.2.159', 9042)]. Last error: timed out\n",
      "2024-11-22 11:21:04,552 - cassandra.pool - WARNING - Error attempting to reconnect to 10.1.2.166:9042, scheduling retry in 576.0 seconds: [Errno None] Tried connecting to [('10.1.2.166', 9042)]. Last error: timed out\n",
      "2024-11-22 11:21:15,664 - cassandra.pool - WARNING - Error attempting to reconnect to 10.1.2.159:9042, scheduling retry in 600.0 seconds: [Errno None] Tried connecting to [('10.1.2.159', 9042)]. Last error: timed out\n",
      "2024-11-22 11:21:17,116 - cassandra.pool - WARNING - Error attempting to reconnect to 10.1.2.159:9042, scheduling retry in 600.0 seconds: [Errno None] Tried connecting to [('10.1.2.159', 9042)]. Last error: timed out\n",
      "2024-11-22 11:21:25,435 - cassandra.pool - WARNING - Error attempting to reconnect to 10.1.2.166:9042, scheduling retry in 588.0 seconds: [Errno None] Tried connecting to [('10.1.2.166', 9042)]. Last error: timed out\n",
      "2024-11-22 11:21:25,637 - cassandra.pool - WARNING - Error attempting to reconnect to 10.1.2.166:9042, scheduling retry in 516.0 seconds: [Errno None] Tried connecting to [('10.1.2.166', 9042)]. Last error: timed out\n",
      "2024-11-22 11:23:42,906 - cassandra.pool - WARNING - Error attempting to reconnect to 10.1.2.159:9042, scheduling retry in 600.0 seconds: [Errno None] Tried connecting to [('10.1.2.159', 9042)]. Last error: timed out\n",
      "2024-11-22 11:23:45,978 - cassandra.pool - WARNING - Error attempting to reconnect to 10.1.2.166:9042, scheduling retry in 600.0 seconds: [Errno None] Tried connecting to [('10.1.2.166', 9042)]. Last error: timed out\n",
      "2024-11-22 11:23:57,750 - cassandra.pool - WARNING - Error attempting to reconnect to 10.1.2.159:9042, scheduling retry in 600.0 seconds: [Errno None] Tried connecting to [('10.1.2.159', 9042)]. Last error: timed out\n",
      "2024-11-22 11:25:29,952 - cassandra.pool - WARNING - Error attempting to reconnect to 10.1.2.166:9042, scheduling retry in 576.0 seconds: [Errno None] Tried connecting to [('10.1.2.166', 9042)]. Last error: timed out\n",
      "2024-11-22 11:25:43,374 - cassandra.pool - WARNING - Error attempting to reconnect to 10.1.2.159:9042, scheduling retry in 600.0 seconds: [Errno None] Tried connecting to [('10.1.2.159', 9042)]. Last error: timed out\n"
     ]
    }
   ],
   "source": [
    "#need handling for \n",
    "# \n",
    "#   when the casting slot level is less than the spell's level - shouldn't be able to cast\n",
    "#   when the spell is not in the character's known spells list\n",
    "#   when there's a save required - include the required save type\n",
    "#   return range and casting time, too?\n",
    "\n",
    "#get these from the spell query\n",
    "s=spell[0]\n",
    "mult=s['mult']\n",
    "hard_mod = s['hard_mod']\n",
    "upcast = dict(s['upcast'])\n",
    "dmg = s['dmg']\n",
    "#get this from the character \n",
    "tlvl=6\n",
    "#get this from the entered command\n",
    "slot_lvl = 6\n",
    "\n",
    "\n",
    "## determine any additional upcast dice\n",
    "if len(upcast.keys())>0:\n",
    "    upcast_lvl = list(upcast.keys())[0]\n",
    "else:\n",
    "    upcast_lvl = 21\n",
    "if upcast_lvl <= slot_lvl:\n",
    "    upcast_dice = slot_lvl - upcast_lvl + 1\n",
    "else:\n",
    "    upcast_dice = 0\n",
    "print(\"upcast dice: {}\".format(upcast_dice))\n",
    "\n",
    "#find the char level that applies\n",
    "lvls = [x for x in dmg.keys() if x <= tlvl]\n",
    "lvls.sort()\n",
    "\n",
    "#get the applicable damage at that char level\n",
    "dmg = spell[0]['dmg']\n",
    "target_dmg = dmg.get(lvls[-1])\n",
    "\n",
    "#build results for die rolls (base and modified)\n",
    "results = {}\n",
    "mod_results = {}\n",
    "#iterate through all applicable damage types\n",
    "for k,v in dict(target_dmg).items():\n",
    "    #populate a list of die rolls\n",
    "    results[k] = []\n",
    "    mod_results[k] = []\n",
    "    for l,w in v[0].items():\n",
    "        #number of upcast dice plus the number of rolls times how many beams/casts you get\n",
    "        for i in range(upcast_dice + (l*mult)):\n",
    "            # print(random.randint(1,w))\n",
    "            roll = random.randint(1,w)\n",
    "            results[k].append(roll)\n",
    "            mod_results[k].append(roll+hard_mod)\n",
    "# display(\n",
    "#     results,\n",
    "#     mod_results\n",
    "# )\n",
    "display(\n",
    "    {\n",
    "        'results':results,\n",
    "        'modified_results':mod_results,\n",
    "        'save':s['save']\n",
    "    }\n",
    ")"
   ]
  },
  {
   "cell_type": "code",
   "execution_count": null,
   "metadata": {},
   "outputs": [],
   "source": []
  },
  {
   "cell_type": "code",
   "execution_count": null,
   "metadata": {},
   "outputs": [],
   "source": []
  }
 ],
 "metadata": {
  "kernelspec": {
   "display_name": "base",
   "language": "python",
   "name": "python3"
  },
  "language_info": {
   "codemirror_mode": {
    "name": "ipython",
    "version": 3
   },
   "file_extension": ".py",
   "mimetype": "text/x-python",
   "name": "python",
   "nbconvert_exporter": "python",
   "pygments_lexer": "ipython3",
   "version": "3.8.18"
  }
 },
 "nbformat": 4,
 "nbformat_minor": 2
}
